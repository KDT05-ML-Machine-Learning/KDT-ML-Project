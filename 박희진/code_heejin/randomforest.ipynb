{
 "cells": [
  {
   "cell_type": "code",
   "execution_count": 495,
   "id": "initial_id",
   "metadata": {
    "collapsed": true,
    "ExecuteTime": {
     "end_time": "2024-03-11T01:19:28.870191300Z",
     "start_time": "2024-03-11T01:19:28.709648700Z"
    }
   },
   "outputs": [],
   "source": [
    "import pandas as pd\n",
    "import numpy as np\n",
    "import heejin\n",
    "import matplotlib.pyplot as plt\n",
    "from sklearn.ensemble import RandomForestRegressor\n",
    "from sklearn.model_selection import train_test_split\n",
    "from sklearn.preprocessing import StandardScaler, OneHotEncoder,MinMaxScaler,LabelEncoder,RobustScaler, PolynomialFeatures\n",
    "from sklearn.model_selection import GridSearchCV\n",
    "from sklearn.metrics import mean_squared_error, r2_score,mean_absolute_error,mean_squared_log_error,classification_report,roc_curve"
   ]
  },
  {
   "cell_type": "code",
   "outputs": [],
   "source": [
    "dataDF = pd.read_csv('../data/Hamburger.csv', encoding= 'latin1')"
   ],
   "metadata": {
    "collapsed": false,
    "ExecuteTime": {
     "end_time": "2024-03-11T01:19:28.903526300Z",
     "start_time": "2024-03-11T01:19:28.873170700Z"
    }
   },
   "id": "f0730f29ff590687",
   "execution_count": 496
  },
  {
   "cell_type": "code",
   "outputs": [
    {
     "name": "stdout",
     "output_type": "stream",
     "text": [
      "<class 'pandas.core.frame.DataFrame'>\n",
      "RangeIndex: 1068 entries, 0 to 1067\n",
      "Data columns (total 7 columns):\n",
      " #   Column      Non-Null Count  Dtype  \n",
      "---  ------      --------------  -----  \n",
      " 0   restaurant  1068 non-null   object \n",
      " 1   item        1068 non-null   object \n",
      " 2   calories    1068 non-null   float64\n",
      " 3   sodium      1068 non-null   float64\n",
      " 4   sugar       1068 non-null   float64\n",
      " 5   total_fat   1068 non-null   float64\n",
      " 6   protein     974 non-null    float64\n",
      "dtypes: float64(5), object(2)\n",
      "memory usage: 58.5+ KB\n"
     ]
    }
   ],
   "source": [
    "dataDF.info()"
   ],
   "metadata": {
    "collapsed": false,
    "ExecuteTime": {
     "end_time": "2024-03-11T01:19:28.953816200Z",
     "start_time": "2024-03-11T01:19:28.909380500Z"
    }
   },
   "id": "dcdb1bcacf622432",
   "execution_count": 497
  },
  {
   "cell_type": "code",
   "outputs": [
    {
     "data": {
      "text/plain": "13"
     },
     "execution_count": 498,
     "metadata": {},
     "output_type": "execute_result"
    }
   ],
   "source": [
    "# 인코딩\n",
    "dataDF['restaurant'].nunique()  # 총 13개의 브랜드"
   ],
   "metadata": {
    "collapsed": false,
    "ExecuteTime": {
     "end_time": "2024-03-11T01:19:28.984313600Z",
     "start_time": "2024-03-11T01:19:28.936567700Z"
    }
   },
   "id": "bdd51b21c2a6bcc2",
   "execution_count": 498
  },
  {
   "cell_type": "code",
   "outputs": [
    {
     "data": {
      "text/plain": "array(['Mcdonalds', 'Chick Fil-A', 'Sonic', 'Arbys', 'Burger King',\n       'Dairy Queen', 'Subway', 'Taco Bell', 'burgerking', 'lotteria',\n       'macdonald', 'no_brand_burger', 'prank_burger'], dtype=object)"
     },
     "execution_count": 499,
     "metadata": {},
     "output_type": "execute_result"
    }
   ],
   "source": [
    "dataDF['restaurant'].unique() # Mcdonalas와 macdonald / Burger King과 burgerking => 이름 통일"
   ],
   "metadata": {
    "collapsed": false,
    "ExecuteTime": {
     "end_time": "2024-03-11T01:19:29.024850200Z",
     "start_time": "2024-03-11T01:19:28.987905300Z"
    }
   },
   "id": "5295ab793bbc4e15",
   "execution_count": 499
  },
  {
   "cell_type": "code",
   "outputs": [],
   "source": [
    "dataDF['restaurant'].replace('macdonald','McDonalds',inplace=True)\n",
    "dataDF['restaurant'].replace('Mcdonald','McDonalds',inplace=True)\n",
    "dataDF['restaurant'].replace('Mcdonalds','McDonalds',inplace=True)\n",
    "dataDF['restaurant'].replace('burgerking','Burger King',inplace = True)"
   ],
   "metadata": {
    "collapsed": false,
    "ExecuteTime": {
     "end_time": "2024-03-11T01:19:29.062251200Z",
     "start_time": "2024-03-11T01:19:29.009342600Z"
    }
   },
   "id": "f069990eb9e1ace8",
   "execution_count": 500
  },
  {
   "cell_type": "code",
   "outputs": [
    {
     "data": {
      "text/plain": "array(['McDonalds', 'Chick Fil-A', 'Sonic', 'Arbys', 'Burger King',\n       'Dairy Queen', 'Subway', 'Taco Bell', 'lotteria',\n       'no_brand_burger', 'prank_burger'], dtype=object)"
     },
     "execution_count": 501,
     "metadata": {},
     "output_type": "execute_result"
    }
   ],
   "source": [
    "dataDF['restaurant'].unique()"
   ],
   "metadata": {
    "collapsed": false,
    "ExecuteTime": {
     "end_time": "2024-03-11T01:19:29.108723900Z",
     "start_time": "2024-03-11T01:19:29.064296900Z"
    }
   },
   "id": "cc9e95edd332559d",
   "execution_count": 501
  },
  {
   "cell_type": "code",
   "outputs": [],
   "source": [
    "# 중복값 제거 - 2개 \n",
    "dataDF.duplicated().sum()\n",
    "dataDF.drop_duplicates(inplace=True)"
   ],
   "metadata": {
    "collapsed": false,
    "ExecuteTime": {
     "end_time": "2024-03-11T01:19:29.161931800Z",
     "start_time": "2024-03-11T01:19:29.109721100Z"
    }
   },
   "id": "867c9066636c34d9",
   "execution_count": 502
  },
  {
   "cell_type": "code",
   "outputs": [
    {
     "data": {
      "text/plain": "restaurant    0\nitem          0\ncalories      0\nsodium        0\nsugar         0\ntotal_fat     0\nprotein       0\ndtype: int64"
     },
     "execution_count": 503,
     "metadata": {},
     "output_type": "execute_result"
    }
   ],
   "source": [
    "# 결측치 제거 - protein - 94개\n",
    "dataDF.isna().sum()\n",
    "dataDF.dropna(subset = 'protein',inplace = True)\n",
    "# 결측치 제거 확인\n",
    "dataDF.isna().sum()"
   ],
   "metadata": {
    "collapsed": false,
    "ExecuteTime": {
     "end_time": "2024-03-11T01:19:29.192828600Z",
     "start_time": "2024-03-11T01:19:29.145752700Z"
    }
   },
   "id": "1ac386087c430750",
   "execution_count": 503
  },
  {
   "cell_type": "code",
   "outputs": [
    {
     "name": "stdout",
     "output_type": "stream",
     "text": [
      "iqr - calories의 이상치 개수 : 30\n",
      "iqr - sodium의 이상치 개수 : 25\n",
      "iqr - sugar의 이상치 개수 : 139\n",
      "iqr - total_fat의 이상치 개수 : 32\n",
      "iqr - protein의 이상치 개수 : 43\n"
     ]
    }
   ],
   "source": [
    "# 이상치 제거할 필요 X\n",
    "heejin.find_outlier_iqr(dataDF)"
   ],
   "metadata": {
    "collapsed": false,
    "ExecuteTime": {
     "end_time": "2024-03-11T01:19:29.233772900Z",
     "start_time": "2024-03-11T01:19:29.195819Z"
    }
   },
   "id": "1c305d91e0faa015",
   "execution_count": 504
  },
  {
   "cell_type": "code",
   "outputs": [],
   "source": [
    "# 순서가 없는 범주형 데이터 -> 원핫인코딩 실시\n",
    "encoder = OneHotEncoder()\n",
    "encoded_data = encoder.fit_transform(dataDF[['restaurant']])\n",
    "encoded_df = pd.DataFrame(encoded_data.toarray(), columns=encoder.get_feature_names_out(['restaurant']))\n",
    "encodingDF = pd.concat([dataDF,encoded_df],axis=1)"
   ],
   "metadata": {
    "collapsed": false,
    "ExecuteTime": {
     "end_time": "2024-03-11T01:19:29.255972700Z",
     "start_time": "2024-03-11T01:19:29.218128400Z"
    }
   },
   "id": "c9a30afce9edd476",
   "execution_count": 505
  },
  {
   "cell_type": "code",
   "outputs": [
    {
     "data": {
      "text/plain": "calories                      1.000000\nsodium                        0.814501\ntotal_fat                     0.763824\nsugar                         0.211366\nprotein                       0.171311\nrestaurant_Sonic              0.124198\nrestaurant_no_brand_burger    0.115918\nrestaurant_Burger King        0.078933\nrestaurant_lotteria           0.069776\nrestaurant_McDonalds          0.050599\nrestaurant_Arbys              0.049537\nrestaurant_Chick Fil-A        0.045511\nrestaurant_Subway             0.035740\nrestaurant_Taco Bell          0.035692\nrestaurant_Dairy Queen        0.034518\nrestaurant_prank_burger       0.008871\nName: calories, dtype: float64"
     },
     "execution_count": 506,
     "metadata": {},
     "output_type": "execute_result"
    }
   ],
   "source": [
    "encodingDF.corr(numeric_only=True)['calories'].abs().sort_values(ascending=False) # 맥도날드인가 아닌가는 상관계수 넣어볼 만 하다."
   ],
   "metadata": {
    "collapsed": false,
    "ExecuteTime": {
     "end_time": "2024-03-11T01:19:29.300952500Z",
     "start_time": "2024-03-11T01:19:29.241829900Z"
    }
   },
   "id": "d2546fb01ee6df68",
   "execution_count": 506
  },
  {
   "cell_type": "code",
   "outputs": [
    {
     "data": {
      "text/plain": "calories     1.000000\nsodium       0.814501\ntotal_fat    0.763824\nsugar        0.211366\nprotein      0.171311\nName: calories, dtype: float64"
     },
     "execution_count": 507,
     "metadata": {},
     "output_type": "execute_result"
    }
   ],
   "source": [
    "dataDF.corr(numeric_only=True)['calories'].sort_values(ascending=False) "
   ],
   "metadata": {
    "collapsed": false,
    "ExecuteTime": {
     "end_time": "2024-03-11T01:19:29.323199700Z",
     "start_time": "2024-03-11T01:19:29.289869800Z"
    }
   },
   "id": "e4938fd7aece39f3",
   "execution_count": 507
  },
  {
   "cell_type": "code",
   "outputs": [
    {
     "data": {
      "text/plain": "((972,), (972, 4))"
     },
     "execution_count": 508,
     "metadata": {},
     "output_type": "execute_result"
    }
   ],
   "source": [
    "# 타겟 : calories\n",
    "# 피쳐 : sodium, sugar, total_fat, portein\n",
    "targetSR = dataDF['calories']\n",
    "featureDF = dataDF[dataDF.columns[3:]]\n",
    "targetSR.shape , featureDF.shape"
   ],
   "metadata": {
    "collapsed": false,
    "ExecuteTime": {
     "end_time": "2024-03-11T01:19:29.394526400Z",
     "start_time": "2024-03-11T01:19:29.327926800Z"
    }
   },
   "id": "83038ecbbd095501",
   "execution_count": 508
  },
  {
   "cell_type": "code",
   "outputs": [
    {
     "data": {
      "text/plain": "<Figure size 1400x300 with 4 Axes>",
      "image/png": "[encoded data removed]"
     },
     "metadata": {},
     "output_type": "display_data"
    }
   ],
   "source": [
    "plt.figure(figsize = (14,3))\n",
    "heejin.print_box(1,5,targetSR,featureDF)"
   ],
   "metadata": {
    "collapsed": false,
    "ExecuteTime": {
     "end_time": "2024-03-11T01:19:29.778154500Z",
     "start_time": "2024-03-11T01:19:29.383563700Z"
    }
   },
   "id": "30e18e0ef400e933",
   "execution_count": 509
  },
  {
   "cell_type": "code",
   "outputs": [
    {
     "data": {
      "text/plain": "<Figure size 1600x300 with 4 Axes>",
      "image/png": "[encoded data removed]"
     },
     "metadata": {},
     "output_type": "display_data"
    }
   ],
   "source": [
    "plt.figure(figsize = (16,3))\n",
    "heejin.print_scatter(1,5,targetSR,featureDF) # 약간 선형이 있나...? -> data 다시 확인"
   ],
   "metadata": {
    "collapsed": false,
    "ExecuteTime": {
     "end_time": "2024-03-11T01:19:30.448661900Z",
     "start_time": "2024-03-11T01:19:29.779153100Z"
    }
   },
   "id": "bcfe5568d13cfb52",
   "execution_count": 510
  },
  {
   "cell_type": "code",
   "outputs": [
    {
     "data": {
      "text/plain": "             sodium     sugar  total_fat   protein\nsodium     1.000000 -0.175234   0.707923 -0.010113\nsugar     -0.175234  1.000000  -0.088508  0.064603\ntotal_fat  0.707923 -0.088508   1.000000  0.080772\nprotein   -0.010113  0.064603   0.080772  1.000000",
      "text/html": "<div>\n<style scoped>\n    .dataframe tbody tr th:only-of-type {\n        vertical-align: middle;\n    }\n\n    .dataframe tbody tr th {\n        vertical-align: top;\n    }\n\n    .dataframe thead th {\n        text-align: right;\n    }\n</style>\n<table border=\"1\" class=\"dataframe\">\n  <thead>\n    <tr style=\"text-align: right;\">\n      <th></th>\n      <th>sodium</th>\n      <th>sugar</th>\n      <th>total_fat</th>\n      <th>protein</th>\n    </tr>\n  </thead>\n  <tbody>\n    <tr>\n      <th>sodium</th>\n      <td>1.000000</td>\n      <td>-0.175234</td>\n      <td>0.707923</td>\n      <td>-0.010113</td>\n    </tr>\n    <tr>\n      <th>sugar</th>\n      <td>-0.175234</td>\n      <td>1.000000</td>\n      <td>-0.088508</td>\n      <td>0.064603</td>\n    </tr>\n    <tr>\n      <th>total_fat</th>\n      <td>0.707923</td>\n      <td>-0.088508</td>\n      <td>1.000000</td>\n      <td>0.080772</td>\n    </tr>\n    <tr>\n      <th>protein</th>\n      <td>-0.010113</td>\n      <td>0.064603</td>\n      <td>0.080772</td>\n      <td>1.000000</td>\n    </tr>\n  </tbody>\n</table>\n</div>"
     },
     "execution_count": 511,
     "metadata": {},
     "output_type": "execute_result"
    }
   ],
   "source": [
    "# 피쳐들끼리 상호관계 있는지 확인\n",
    "featureDF.corr() # total_fat과 sodium 상관관계 높음"
   ],
   "metadata": {
    "collapsed": false,
    "ExecuteTime": {
     "end_time": "2024-03-11T01:19:30.485560700Z",
     "start_time": "2024-03-11T01:19:30.448661900Z"
    }
   },
   "id": "883d8f8ac54406b5",
   "execution_count": 511
  },
  {
   "cell_type": "code",
   "outputs": [
    {
     "data": {
      "text/plain": "((897, 13), (897,))"
     },
     "execution_count": 512,
     "metadata": {},
     "output_type": "execute_result"
    }
   ],
   "source": [
    "#  total_fat과 sodium poly 진행 \n",
    "selected_features = ['total_fat', 'sodium']\n",
    "\n",
    "poly = PolynomialFeatures(degree=3, include_bias=False)\n",
    "poly_features = poly.fit_transform(featureDF[selected_features])\n",
    "\n",
    "poly_featureDF = pd.DataFrame(poly_features, columns=[f'total_fat & sodium {i}' for i in range(1,10)])\n",
    "\n",
    "# 다항 특성을 포함한 데이터프레임과 원래의 데이터프레임을 합치기\n",
    "poly_featureDF = pd.concat([dataDF, poly_featureDF], axis=1)\n",
    "poly_featureDF.dropna(inplace=True)\n",
    "poly_targetSR = poly_featureDF['calories']\n",
    "poly_featureDF = poly_featureDF[poly_featureDF.columns[3:]]\n",
    "poly_featureDF.shape, poly_targetSR.shape"
   ],
   "metadata": {
    "collapsed": false,
    "ExecuteTime": {
     "end_time": "2024-03-11T01:19:30.529108800Z",
     "start_time": "2024-03-11T01:19:30.463976100Z"
    }
   },
   "id": "65386dc151353a99",
   "execution_count": 512
  },
  {
   "cell_type": "code",
   "outputs": [
    {
     "name": "stdout",
     "output_type": "stream",
     "text": [
      "radom_state = 29\n",
      "score : 0.9160878170953889\n"
     ]
    }
   ],
   "source": [
    "r_max = heejin.find_random_state(featureDF,targetSR)"
   ],
   "metadata": {
    "collapsed": false,
    "ExecuteTime": {
     "end_time": "2024-03-11T01:19:30.793858900Z",
     "start_time": "2024-03-11T01:19:30.475592500Z"
    }
   },
   "id": "8549e681ce3e16d9",
   "execution_count": 513
  },
  {
   "cell_type": "code",
   "outputs": [],
   "source": [
    "# 학습용 데이터셋, 검증용 데이터셋 분리\n",
    "xtrain,xtest,ytrain,ytest = train_test_split(featureDF,targetSR,test_size=0.2, random_state=r_max)"
   ],
   "metadata": {
    "collapsed": false,
    "ExecuteTime": {
     "end_time": "2024-03-11T01:19:30.818055500Z",
     "start_time": "2024-03-11T01:19:30.794971900Z"
    }
   },
   "id": "a5f341ce02a5ae85",
   "execution_count": 514
  },
  {
   "cell_type": "code",
   "outputs": [
    {
     "name": "stdout",
     "output_type": "stream",
     "text": [
      "model : RandomForestRegressor()\n",
      "scaler : StandardScaler()\n",
      "Train score : 0.9766922063417162\n",
      "Test score : 0.9411490545613236\n",
      "\n",
      "[모델 설명도]\n",
      "R2 : 0.9411490545613236\n",
      "[에러]\n",
      "MAE : 55.767472649572646\n",
      "MSE : 7724.632066936688\n",
      "RMSE : 87.8898860332444\n",
      "\n",
      "--------------------------------------\n",
      "model : RandomForestRegressor()\n",
      "scaler : MinMaxScaler()\n",
      "Train score : 0.9817602152594551\n",
      "Test score : 0.9406229096216217\n",
      "\n",
      "[모델 설명도]\n",
      "R2 : 0.9406229096216217\n",
      "[에러]\n",
      "MAE : 57.263095897435896\n",
      "MSE : 7793.692572979242\n",
      "RMSE : 88.2818926676317\n",
      "\n",
      "--------------------------------------\n",
      "model : RandomForestRegressor()\n",
      "scaler : RobustScaler()\n",
      "Train score : 0.9789504228028431\n",
      "Test score : 0.9472186628279263\n",
      "\n",
      "[모델 설명도]\n",
      "R2 : 0.9472186628279263\n",
      "[에러]\n",
      "MAE : 54.87070068376068\n",
      "MSE : 6927.950037438979\n",
      "RMSE : 83.23430805526637\n",
      "\n",
      "--------------------------------------\n"
     ]
    }
   ],
   "source": [
    "# 스케일링 진행\n",
    "heejin.find_scaler(xtrain,ytrain,xtest,ytest, RandomForestRegressor()) # mae와 rmse가 제일 낮은 StandardScaler() 선택"
   ],
   "metadata": {
    "collapsed": false,
    "ExecuteTime": {
     "end_time": "2024-03-11T01:19:32.614117200Z",
     "start_time": "2024-03-11T01:19:30.800511600Z"
    }
   },
   "id": "b1b34c0ed0bb57a8",
   "execution_count": 515
  },
  {
   "cell_type": "code",
   "outputs": [],
   "source": [
    "scaler = StandardScaler()\n",
    "xtrain = scaler.fit_transform(xtrain)\n",
    "xtest = scaler.transform(xtest)"
   ],
   "metadata": {
    "collapsed": false,
    "ExecuteTime": {
     "end_time": "2024-03-11T01:19:32.635291300Z",
     "start_time": "2024-03-11T01:19:32.615113200Z"
    }
   },
   "id": "6e2fc7caa9a9ae5",
   "execution_count": 516
  },
  {
   "cell_type": "code",
   "outputs": [],
   "source": [
    "# for i in range(1,100):\n",
    "#     model = RandomForestRegressor(random_state=i)\n",
    "#     model.fit(xtrain, ytrain)\n",
    "#     if model.score(xtrain,ytrain)> 0.98:\n",
    "#         print(i,model.score(xtrain,ytrain), model.score(xtest,ytest))"
   ],
   "metadata": {
    "collapsed": false,
    "ExecuteTime": {
     "end_time": "2024-03-11T01:19:32.636275100Z",
     "start_time": "2024-03-11T01:19:32.622608200Z"
    }
   },
   "id": "ea44aaa2c16fd30a",
   "execution_count": 517
  },
  {
   "cell_type": "code",
   "outputs": [
    {
     "name": "stdout",
     "output_type": "stream",
     "text": [
      "random_state = 18\n",
      "score : 0.950145702659303\n"
     ]
    }
   ],
   "source": [
    "random_state_list = []\n",
    "for i in range(1,50):\n",
    "    model = RandomForestRegressor(random_state=i)\n",
    "    model.fit(xtrain, ytrain)   \n",
    "    random_state_list.append(model.score(xtest,ytest))\n",
    "    max_score = max(random_state_list)\n",
    "print(f'random_state = {random_state_list.index(max_score)+1}\\nscore : {max_score}')"
   ],
   "metadata": {
    "collapsed": false,
    "ExecuteTime": {
     "end_time": "2024-03-11T01:19:56.389338800Z",
     "start_time": "2024-03-11T01:19:32.630295100Z"
    }
   },
   "id": "4a63e90678063a57",
   "execution_count": 518
  },
  {
   "cell_type": "code",
   "outputs": [
    {
     "data": {
      "text/plain": "RandomForestRegressor(random_state=18)",
      "text/html": "<style>#sk-container-id-31 {color: black;}#sk-container-id-31 pre{padding: 0;}#sk-container-id-31 div.sk-toggleable {background-color: white;}#sk-container-id-31 label.sk-toggleable__label {cursor: pointer;display: block;width: 100%;margin-bottom: 0;padding: 0.3em;box-sizing: border-box;text-align: center;}#sk-container-id-31 label.sk-toggleable__label-arrow:before {content: \"▸\";float: left;margin-right: 0.25em;color: #696969;}#sk-container-id-31 label.sk-toggleable__label-arrow:hover:before {color: black;}#sk-container-id-31 div.sk-estimator:hover label.sk-toggleable__label-arrow:before {color: black;}#sk-container-id-31 div.sk-toggleable__content {max-height: 0;max-width: 0;overflow: hidden;text-align: left;background-color: #f0f8ff;}#sk-container-id-31 div.sk-toggleable__content pre {margin: 0.2em;color: black;border-radius: 0.25em;background-color: #f0f8ff;}#sk-container-id-31 input.sk-toggleable__control:checked~div.sk-toggleable__content {max-height: 200px;max-width: 100%;overflow: auto;}#sk-container-id-31 input.sk-toggleable__control:checked~label.sk-toggleable__label-arrow:before {content: \"▾\";}#sk-container-id-31 div.sk-estimator input.sk-toggleable__control:checked~label.sk-toggleable__label {background-color: #d4ebff;}#sk-container-id-31 div.sk-label input.sk-toggleable__control:checked~label.sk-toggleable__label {background-color: #d4ebff;}#sk-container-id-31 input.sk-hidden--visually {border: 0;clip: rect(1px 1px 1px 1px);clip: rect(1px, 1px, 1px, 1px);height: 1px;margin: -1px;overflow: hidden;padding: 0;position: absolute;width: 1px;}#sk-container-id-31 div.sk-estimator {font-family: monospace;background-color: #f0f8ff;border: 1px dotted black;border-radius: 0.25em;box-sizing: border-box;margin-bottom: 0.5em;}#sk-container-id-31 div.sk-estimator:hover {background-color: #d4ebff;}#sk-container-id-31 div.sk-parallel-item::after {content: \"\";width: 100%;border-bottom: 1px solid gray;flex-grow: 1;}#sk-container-id-31 div.sk-label:hover label.sk-toggleable__label {background-color: #d4ebff;}#sk-container-id-31 div.sk-serial::before {content: \"\";position: absolute;border-left: 1px solid gray;box-sizing: border-box;top: 0;bottom: 0;left: 50%;z-index: 0;}#sk-container-id-31 div.sk-serial {display: flex;flex-direction: column;align-items: center;background-color: white;padding-right: 0.2em;padding-left: 0.2em;position: relative;}#sk-container-id-31 div.sk-item {position: relative;z-index: 1;}#sk-container-id-31 div.sk-parallel {display: flex;align-items: stretch;justify-content: center;background-color: white;position: relative;}#sk-container-id-31 div.sk-item::before, #sk-container-id-31 div.sk-parallel-item::before {content: \"\";position: absolute;border-left: 1px solid gray;box-sizing: border-box;top: 0;bottom: 0;left: 50%;z-index: -1;}#sk-container-id-31 div.sk-parallel-item {display: flex;flex-direction: column;z-index: 1;position: relative;background-color: white;}#sk-container-id-31 div.sk-parallel-item:first-child::after {align-self: flex-end;width: 50%;}#sk-container-id-31 div.sk-parallel-item:last-child::after {align-self: flex-start;width: 50%;}#sk-container-id-31 div.sk-parallel-item:only-child::after {width: 0;}#sk-container-id-31 div.sk-dashed-wrapped {border: 1px dashed gray;margin: 0 0.4em 0.5em 0.4em;box-sizing: border-box;padding-bottom: 0.4em;background-color: white;}#sk-container-id-31 div.sk-label label {font-family: monospace;font-weight: bold;display: inline-block;line-height: 1.2em;}#sk-container-id-31 div.sk-label-container {text-align: center;}#sk-container-id-31 div.sk-container {/* jupyter's `normalize.less` sets `[hidden] { display: none; }` but bootstrap.min.css set `[hidden] { display: none !important; }` so we also need the `!important` here to be able to override the default hidden behavior on the sphinx rendered scikit-learn.org. See: https://github.com/scikit-learn/scikit-learn/issues/21755 */display: inline-block !important;position: relative;}#sk-container-id-31 div.sk-text-repr-fallback {display: none;}</style><div id=\"sk-container-id-31\" class=\"sk-top-container\"><div class=\"sk-text-repr-fallback\"><pre>RandomForestRegressor(random_state=18)</pre><b>In a Jupyter environment, please rerun this cell to show the HTML representation or trust the notebook. <br />On GitHub, the HTML representation is unable to render, please try loading this page with nbviewer.org.</b></div><div class=\"sk-container\" hidden><div class=\"sk-item\"><div class=\"sk-estimator sk-toggleable\"><input class=\"sk-toggleable__control sk-hidden--visually\" id=\"sk-estimator-id-47\" type=\"checkbox\" checked><label for=\"sk-estimator-id-47\" class=\"sk-toggleable__label sk-toggleable__label-arrow\">RandomForestRegressor</label><div class=\"sk-toggleable__content\"><pre>RandomForestRegressor(random_state=18)</pre></div></div></div></div></div>"
     },
     "execution_count": 525,
     "metadata": {},
     "output_type": "execute_result"
    }
   ],
   "source": [
    "model = RandomForestRegressor(random_state=18)\n",
    "model.fit(xtrain, ytrain)"
   ],
   "metadata": {
    "collapsed": false,
    "ExecuteTime": {
     "end_time": "2024-03-11T01:23:54.387664400Z",
     "start_time": "2024-03-11T01:23:53.307381800Z"
    }
   },
   "id": "b714a3b7226e1908",
   "execution_count": 525
  },
  {
   "cell_type": "code",
   "outputs": [
    {
     "data": {
      "text/plain": "(0.9799029022999607, 0.950145702659303)"
     },
     "execution_count": 520,
     "metadata": {},
     "output_type": "execute_result"
    }
   ],
   "source": [
    "model.score(xtrain,ytrain),model.score(xtest, ytest) # 조금 과적합"
   ],
   "metadata": {
    "collapsed": false,
    "ExecuteTime": {
     "end_time": "2024-03-11T01:19:56.921637500Z",
     "start_time": "2024-03-11T01:19:56.880559400Z"
    }
   },
   "id": "23040fbd8d8426ac",
   "execution_count": 520
  },
  {
   "cell_type": "code",
   "outputs": [
    {
     "data": {
      "text/plain": "Text(0.5, 1.0, '[feature importance]')"
     },
     "execution_count": 521,
     "metadata": {},
     "output_type": "execute_result"
    },
    {
     "data": {
      "text/plain": "<Figure size 640x480 with 1 Axes>",
      "image/png": "[encoded data removed]"
     },
     "metadata": {},
     "output_type": "display_data"
    }
   ],
   "source": [
    "# feature importance 확인\n",
    "import_feature = pd.Series(model.feature_importances_, index=featureDF.columns)\n",
    "import_feature.sort_values(ascending=True, inplace=True)\n",
    "import_feature.plot(kind='barh')\n",
    "plt.title('[feature importance]')"
   ],
   "metadata": {
    "collapsed": false,
    "ExecuteTime": {
     "end_time": "2024-03-11T01:19:57.104685400Z",
     "start_time": "2024-03-11T01:19:56.915656Z"
    }
   },
   "id": "7bdb1a107f07978",
   "execution_count": 521
  },
  {
   "cell_type": "markdown",
   "source": [
    "max_depth : 과적합을 방지하기 위하여 의사결정나무의 depth 최대 값을 제한\n",
    "min_samples_split : split을 끝낼 node의 sample 최소 갯수 선정, 클수록 과적합이 방지되지만, 너무 크면 split이 제대로 되지 않을 수 있음"
   ],
   "metadata": {
    "collapsed": false
   },
   "id": "942b7b673ef918cc"
  },
  {
   "cell_type": "code",
   "outputs": [
    {
     "data": {
      "text/plain": "GridSearchCV(cv=5, estimator=RandomForestRegressor(random_state=18), n_jobs=-1,\n             param_grid={'max_depth': [5, 10, 15, 20],\n                         'max_features': ['sqrt', 'log2', None],\n                         'min_samples_split': [5, 10, 15, 20],\n                         'n_estimators': [10, 50, 100, 200, 400]},\n             return_train_score=True)",
      "text/html": "<style>#sk-container-id-30 {color: black;}#sk-container-id-30 pre{padding: 0;}#sk-container-id-30 div.sk-toggleable {background-color: white;}#sk-container-id-30 label.sk-toggleable__label {cursor: pointer;display: block;width: 100%;margin-bottom: 0;padding: 0.3em;box-sizing: border-box;text-align: center;}#sk-container-id-30 label.sk-toggleable__label-arrow:before {content: \"▸\";float: left;margin-right: 0.25em;color: #696969;}#sk-container-id-30 label.sk-toggleable__label-arrow:hover:before {color: black;}#sk-container-id-30 div.sk-estimator:hover label.sk-toggleable__label-arrow:before {color: black;}#sk-container-id-30 div.sk-toggleable__content {max-height: 0;max-width: 0;overflow: hidden;text-align: left;background-color: #f0f8ff;}#sk-container-id-30 div.sk-toggleable__content pre {margin: 0.2em;color: black;border-radius: 0.25em;background-color: #f0f8ff;}#sk-container-id-30 input.sk-toggleable__control:checked~div.sk-toggleable__content {max-height: 200px;max-width: 100%;overflow: auto;}#sk-container-id-30 input.sk-toggleable__control:checked~label.sk-toggleable__label-arrow:before {content: \"▾\";}#sk-container-id-30 div.sk-estimator input.sk-toggleable__control:checked~label.sk-toggleable__label {background-color: #d4ebff;}#sk-container-id-30 div.sk-label input.sk-toggleable__control:checked~label.sk-toggleable__label {background-color: #d4ebff;}#sk-container-id-30 input.sk-hidden--visually {border: 0;clip: rect(1px 1px 1px 1px);clip: rect(1px, 1px, 1px, 1px);height: 1px;margin: -1px;overflow: hidden;padding: 0;position: absolute;width: 1px;}#sk-container-id-30 div.sk-estimator {font-family: monospace;background-color: #f0f8ff;border: 1px dotted black;border-radius: 0.25em;box-sizing: border-box;margin-bottom: 0.5em;}#sk-container-id-30 div.sk-estimator:hover {background-color: #d4ebff;}#sk-container-id-30 div.sk-parallel-item::after {content: \"\";width: 100%;border-bottom: 1px solid gray;flex-grow: 1;}#sk-container-id-30 div.sk-label:hover label.sk-toggleable__label {background-color: #d4ebff;}#sk-container-id-30 div.sk-serial::before {content: \"\";position: absolute;border-left: 1px solid gray;box-sizing: border-box;top: 0;bottom: 0;left: 50%;z-index: 0;}#sk-container-id-30 div.sk-serial {display: flex;flex-direction: column;align-items: center;background-color: white;padding-right: 0.2em;padding-left: 0.2em;position: relative;}#sk-container-id-30 div.sk-item {position: relative;z-index: 1;}#sk-container-id-30 div.sk-parallel {display: flex;align-items: stretch;justify-content: center;background-color: white;position: relative;}#sk-container-id-30 div.sk-item::before, #sk-container-id-30 div.sk-parallel-item::before {content: \"\";position: absolute;border-left: 1px solid gray;box-sizing: border-box;top: 0;bottom: 0;left: 50%;z-index: -1;}#sk-container-id-30 div.sk-parallel-item {display: flex;flex-direction: column;z-index: 1;position: relative;background-color: white;}#sk-container-id-30 div.sk-parallel-item:first-child::after {align-self: flex-end;width: 50%;}#sk-container-id-30 div.sk-parallel-item:last-child::after {align-self: flex-start;width: 50%;}#sk-container-id-30 div.sk-parallel-item:only-child::after {width: 0;}#sk-container-id-30 div.sk-dashed-wrapped {border: 1px dashed gray;margin: 0 0.4em 0.5em 0.4em;box-sizing: border-box;padding-bottom: 0.4em;background-color: white;}#sk-container-id-30 div.sk-label label {font-family: monospace;font-weight: bold;display: inline-block;line-height: 1.2em;}#sk-container-id-30 div.sk-label-container {text-align: center;}#sk-container-id-30 div.sk-container {/* jupyter's `normalize.less` sets `[hidden] { display: none; }` but bootstrap.min.css set `[hidden] { display: none !important; }` so we also need the `!important` here to be able to override the default hidden behavior on the sphinx rendered scikit-learn.org. See: https://github.com/scikit-learn/scikit-learn/issues/21755 */display: inline-block !important;position: relative;}#sk-container-id-30 div.sk-text-repr-fallback {display: none;}</style><div id=\"sk-container-id-30\" class=\"sk-top-container\"><div class=\"sk-text-repr-fallback\"><pre>GridSearchCV(cv=5, estimator=RandomForestRegressor(random_state=18), n_jobs=-1,\n             param_grid={&#x27;max_depth&#x27;: [5, 10, 15, 20],\n                         &#x27;max_features&#x27;: [&#x27;sqrt&#x27;, &#x27;log2&#x27;, None],\n                         &#x27;min_samples_split&#x27;: [5, 10, 15, 20],\n                         &#x27;n_estimators&#x27;: [10, 50, 100, 200, 400]},\n             return_train_score=True)</pre><b>In a Jupyter environment, please rerun this cell to show the HTML representation or trust the notebook. <br />On GitHub, the HTML representation is unable to render, please try loading this page with nbviewer.org.</b></div><div class=\"sk-container\" hidden><div class=\"sk-item sk-dashed-wrapped\"><div class=\"sk-label-container\"><div class=\"sk-label sk-toggleable\"><input class=\"sk-toggleable__control sk-hidden--visually\" id=\"sk-estimator-id-44\" type=\"checkbox\" ><label for=\"sk-estimator-id-44\" class=\"sk-toggleable__label sk-toggleable__label-arrow\">GridSearchCV</label><div class=\"sk-toggleable__content\"><pre>GridSearchCV(cv=5, estimator=RandomForestRegressor(random_state=18), n_jobs=-1,\n             param_grid={&#x27;max_depth&#x27;: [5, 10, 15, 20],\n                         &#x27;max_features&#x27;: [&#x27;sqrt&#x27;, &#x27;log2&#x27;, None],\n                         &#x27;min_samples_split&#x27;: [5, 10, 15, 20],\n                         &#x27;n_estimators&#x27;: [10, 50, 100, 200, 400]},\n             return_train_score=True)</pre></div></div></div><div class=\"sk-parallel\"><div class=\"sk-parallel-item\"><div class=\"sk-item\"><div class=\"sk-label-container\"><div class=\"sk-label sk-toggleable\"><input class=\"sk-toggleable__control sk-hidden--visually\" id=\"sk-estimator-id-45\" type=\"checkbox\" ><label for=\"sk-estimator-id-45\" class=\"sk-toggleable__label sk-toggleable__label-arrow\">estimator: RandomForestRegressor</label><div class=\"sk-toggleable__content\"><pre>RandomForestRegressor(random_state=18)</pre></div></div></div><div class=\"sk-serial\"><div class=\"sk-item\"><div class=\"sk-estimator sk-toggleable\"><input class=\"sk-toggleable__control sk-hidden--visually\" id=\"sk-estimator-id-46\" type=\"checkbox\" ><label for=\"sk-estimator-id-46\" class=\"sk-toggleable__label sk-toggleable__label-arrow\">RandomForestRegressor</label><div class=\"sk-toggleable__content\"><pre>RandomForestRegressor(random_state=18)</pre></div></div></div></div></div></div></div></div></div></div>"
     },
     "execution_count": 524,
     "metadata": {},
     "output_type": "execute_result"
    }
   ],
   "source": [
    "# 랜덤 포레스트 모델 파라미터 조절\n",
    "params = { 'n_estimators' : [10,50,100,200,400], # 결정 트리의 개수\n",
    "           'max_depth' : [5,10,15,20], # 트리의 최대 깊이 (과적합 제어)\n",
    "           'min_samples_split' : [5,10,15,20], # 노드를 분할하기 위한 최소한의 샘플 데이터 수\n",
    "           'max_features' : ['sqrt', 'log2', None] # 최적의 분할을 위해 고려할 피쳐의 최대 개수\n",
    "            }\n",
    "cv = GridSearchCV(model, param_grid=params,cv = 5,return_train_score=True, n_jobs=-1)\n",
    "cv.fit(xtrain,ytrain)"
   ],
   "metadata": {
    "collapsed": false,
    "ExecuteTime": {
     "end_time": "2024-03-11T01:23:53.307381800Z",
     "start_time": "2024-03-11T01:20:25.500513200Z"
    }
   },
   "id": "7b02efdfd476aaaf",
   "execution_count": 524
  },
  {
   "cell_type": "code",
   "outputs": [
    {
     "data": {
      "text/plain": "     mean_fit_time  std_fit_time  mean_score_time  std_score_time  \\\n0         0.036377      0.003844         0.003151        0.000435   \n1         0.157786      0.002560         0.008586        0.000454   \n2         0.338889      0.010089         0.017316        0.001566   \n3         0.651377      0.023190         0.029219        0.000935   \n4         1.282166      0.089984         0.058801        0.001725   \n..             ...           ...              ...             ...   \n235       0.055343      0.006590         0.003245        0.001019   \n236       0.302813      0.017105         0.013030        0.007359   \n237       0.640428      0.058019         0.017770        0.003241   \n238       1.302449      0.025432         0.044582        0.007304   \n239       2.342150      0.066965         0.066758        0.005679   \n\n    param_max_depth param_max_features param_min_samples_split  \\\n0                 5               sqrt                       5   \n1                 5               sqrt                       5   \n2                 5               sqrt                       5   \n3                 5               sqrt                       5   \n4                 5               sqrt                       5   \n..              ...                ...                     ...   \n235              20               None                      20   \n236              20               None                      20   \n237              20               None                      20   \n238              20               None                      20   \n239              20               None                      20   \n\n    param_n_estimators                                             params  \\\n0                   10  {'max_depth': 5, 'max_features': 'sqrt', 'min_...   \n1                   50  {'max_depth': 5, 'max_features': 'sqrt', 'min_...   \n2                  100  {'max_depth': 5, 'max_features': 'sqrt', 'min_...   \n3                  200  {'max_depth': 5, 'max_features': 'sqrt', 'min_...   \n4                  400  {'max_depth': 5, 'max_features': 'sqrt', 'min_...   \n..                 ...                                                ...   \n235                 10  {'max_depth': 20, 'max_features': None, 'min_s...   \n236                 50  {'max_depth': 20, 'max_features': None, 'min_s...   \n237                100  {'max_depth': 20, 'max_features': None, 'min_s...   \n238                200  {'max_depth': 20, 'max_features': None, 'min_s...   \n239                400  {'max_depth': 20, 'max_features': None, 'min_s...   \n\n     split0_test_score  ...  mean_test_score  std_test_score  rank_test_score  \\\n0             0.808761  ...         0.814681        0.033409              239   \n1             0.853202  ...         0.840176        0.039686               95   \n2             0.863043  ...         0.840441        0.034024               89   \n3             0.848844  ...         0.840951        0.035302               79   \n4             0.846501  ...         0.839826        0.036653              103   \n..                 ...  ...              ...             ...              ...   \n235           0.782036  ...         0.823839        0.046962              226   \n236           0.799307  ...         0.833320        0.046173              155   \n237           0.794202  ...         0.831241        0.045881              175   \n238           0.788362  ...         0.830196        0.048382              180   \n239           0.784038  ...         0.828664        0.049318              203   \n\n     split0_train_score  split1_train_score  split2_train_score  \\\n0              0.895755            0.906491            0.905915   \n1              0.900408            0.915927            0.916458   \n2              0.904071            0.915696            0.917393   \n3              0.902304            0.916724            0.917454   \n4              0.901865            0.917424            0.918039   \n..                  ...                 ...                 ...   \n235            0.884606            0.904262            0.909402   \n236            0.895287            0.905609            0.915561   \n237            0.898319            0.907356            0.914365   \n238            0.895572            0.910819            0.914601   \n239            0.894171            0.909919            0.917024   \n\n     split3_train_score  split4_train_score  mean_train_score  std_train_score  \n0              0.912659            0.919384          0.908041         0.007847  \n1              0.915277            0.924306          0.914475         0.007762  \n2              0.914691            0.923912          0.915152         0.006404  \n3              0.914660            0.923893          0.915007         0.007062  \n4              0.914154            0.924467          0.915190         0.007454  \n..                  ...                 ...               ...              ...  \n235            0.915748            0.905112          0.903826         0.010435  \n236            0.907376            0.905850          0.905937         0.006453  \n237            0.910653            0.906207          0.907380         0.005348  \n238            0.913090            0.906884          0.908193         0.006825  \n239            0.914489            0.907294          0.908579         0.007966  \n\n[240 rows x 24 columns]",
      "text/html": "<div>\n<style scoped>\n    .dataframe tbody tr th:only-of-type {\n        vertical-align: middle;\n    }\n\n    .dataframe tbody tr th {\n        vertical-align: top;\n    }\n\n    .dataframe thead th {\n        text-align: right;\n    }\n</style>\n<table border=\"1\" class=\"dataframe\">\n  <thead>\n    <tr style=\"text-align: right;\">\n      <th></th>\n      <th>mean_fit_time</th>\n      <th>std_fit_time</th>\n      <th>mean_score_time</th>\n      <th>std_score_time</th>\n      <th>param_max_depth</th>\n      <th>param_max_features</th>\n      <th>param_min_samples_split</th>\n      <th>param_n_estimators</th>\n      <th>params</th>\n      <th>split0_test_score</th>\n      <th>...</th>\n      <th>mean_test_score</th>\n      <th>std_test_score</th>\n      <th>rank_test_score</th>\n      <th>split0_train_score</th>\n      <th>split1_train_score</th>\n      <th>split2_train_score</th>\n      <th>split3_train_score</th>\n      <th>split4_train_score</th>\n      <th>mean_train_score</th>\n      <th>std_train_score</th>\n    </tr>\n  </thead>\n  <tbody>\n    <tr>\n      <th>0</th>\n      <td>0.036377</td>\n      <td>0.003844</td>\n      <td>0.003151</td>\n      <td>0.000435</td>\n      <td>5</td>\n      <td>sqrt</td>\n      <td>5</td>\n      <td>10</td>\n      <td>{'max_depth': 5, 'max_features': 'sqrt', 'min_...</td>\n      <td>0.808761</td>\n      <td>...</td>\n      <td>0.814681</td>\n      <td>0.033409</td>\n      <td>239</td>\n      <td>0.895755</td>\n      <td>0.906491</td>\n      <td>0.905915</td>\n      <td>0.912659</td>\n      <td>0.919384</td>\n      <td>0.908041</td>\n      <td>0.007847</td>\n    </tr>\n    <tr>\n      <th>1</th>\n      <td>0.157786</td>\n      <td>0.002560</td>\n      <td>0.008586</td>\n      <td>0.000454</td>\n      <td>5</td>\n      <td>sqrt</td>\n      <td>5</td>\n      <td>50</td>\n      <td>{'max_depth': 5, 'max_features': 'sqrt', 'min_...</td>\n      <td>0.853202</td>\n      <td>...</td>\n      <td>0.840176</td>\n      <td>0.039686</td>\n      <td>95</td>\n      <td>0.900408</td>\n      <td>0.915927</td>\n      <td>0.916458</td>\n      <td>0.915277</td>\n      <td>0.924306</td>\n      <td>0.914475</td>\n      <td>0.007762</td>\n    </tr>\n    <tr>\n      <th>2</th>\n      <td>0.338889</td>\n      <td>0.010089</td>\n      <td>0.017316</td>\n      <td>0.001566</td>\n      <td>5</td>\n      <td>sqrt</td>\n      <td>5</td>\n      <td>100</td>\n      <td>{'max_depth': 5, 'max_features': 'sqrt', 'min_...</td>\n      <td>0.863043</td>\n      <td>...</td>\n      <td>0.840441</td>\n      <td>0.034024</td>\n      <td>89</td>\n      <td>0.904071</td>\n      <td>0.915696</td>\n      <td>0.917393</td>\n      <td>0.914691</td>\n      <td>0.923912</td>\n      <td>0.915152</td>\n      <td>0.006404</td>\n    </tr>\n    <tr>\n      <th>3</th>\n      <td>0.651377</td>\n      <td>0.023190</td>\n      <td>0.029219</td>\n      <td>0.000935</td>\n      <td>5</td>\n      <td>sqrt</td>\n      <td>5</td>\n      <td>200</td>\n      <td>{'max_depth': 5, 'max_features': 'sqrt', 'min_...</td>\n      <td>0.848844</td>\n      <td>...</td>\n      <td>0.840951</td>\n      <td>0.035302</td>\n      <td>79</td>\n      <td>0.902304</td>\n      <td>0.916724</td>\n      <td>0.917454</td>\n      <td>0.914660</td>\n      <td>0.923893</td>\n      <td>0.915007</td>\n      <td>0.007062</td>\n    </tr>\n    <tr>\n      <th>4</th>\n      <td>1.282166</td>\n      <td>0.089984</td>\n      <td>0.058801</td>\n      <td>0.001725</td>\n      <td>5</td>\n      <td>sqrt</td>\n      <td>5</td>\n      <td>400</td>\n      <td>{'max_depth': 5, 'max_features': 'sqrt', 'min_...</td>\n      <td>0.846501</td>\n      <td>...</td>\n      <td>0.839826</td>\n      <td>0.036653</td>\n      <td>103</td>\n      <td>0.901865</td>\n      <td>0.917424</td>\n      <td>0.918039</td>\n      <td>0.914154</td>\n      <td>0.924467</td>\n      <td>0.915190</td>\n      <td>0.007454</td>\n    </tr>\n    <tr>\n      <th>...</th>\n      <td>...</td>\n      <td>...</td>\n      <td>...</td>\n      <td>...</td>\n      <td>...</td>\n      <td>...</td>\n      <td>...</td>\n      <td>...</td>\n      <td>...</td>\n      <td>...</td>\n      <td>...</td>\n      <td>...</td>\n      <td>...</td>\n      <td>...</td>\n      <td>...</td>\n      <td>...</td>\n      <td>...</td>\n      <td>...</td>\n      <td>...</td>\n      <td>...</td>\n      <td>...</td>\n    </tr>\n    <tr>\n      <th>235</th>\n      <td>0.055343</td>\n      <td>0.006590</td>\n      <td>0.003245</td>\n      <td>0.001019</td>\n      <td>20</td>\n      <td>None</td>\n      <td>20</td>\n      <td>10</td>\n      <td>{'max_depth': 20, 'max_features': None, 'min_s...</td>\n      <td>0.782036</td>\n      <td>...</td>\n      <td>0.823839</td>\n      <td>0.046962</td>\n      <td>226</td>\n      <td>0.884606</td>\n      <td>0.904262</td>\n      <td>0.909402</td>\n      <td>0.915748</td>\n      <td>0.905112</td>\n      <td>0.903826</td>\n      <td>0.010435</td>\n    </tr>\n    <tr>\n      <th>236</th>\n      <td>0.302813</td>\n      <td>0.017105</td>\n      <td>0.013030</td>\n      <td>0.007359</td>\n      <td>20</td>\n      <td>None</td>\n      <td>20</td>\n      <td>50</td>\n      <td>{'max_depth': 20, 'max_features': None, 'min_s...</td>\n      <td>0.799307</td>\n      <td>...</td>\n      <td>0.833320</td>\n      <td>0.046173</td>\n      <td>155</td>\n      <td>0.895287</td>\n      <td>0.905609</td>\n      <td>0.915561</td>\n      <td>0.907376</td>\n      <td>0.905850</td>\n      <td>0.905937</td>\n      <td>0.006453</td>\n    </tr>\n    <tr>\n      <th>237</th>\n      <td>0.640428</td>\n      <td>0.058019</td>\n      <td>0.017770</td>\n      <td>0.003241</td>\n      <td>20</td>\n      <td>None</td>\n      <td>20</td>\n      <td>100</td>\n      <td>{'max_depth': 20, 'max_features': None, 'min_s...</td>\n      <td>0.794202</td>\n      <td>...</td>\n      <td>0.831241</td>\n      <td>0.045881</td>\n      <td>175</td>\n      <td>0.898319</td>\n      <td>0.907356</td>\n      <td>0.914365</td>\n      <td>0.910653</td>\n      <td>0.906207</td>\n      <td>0.907380</td>\n      <td>0.005348</td>\n    </tr>\n    <tr>\n      <th>238</th>\n      <td>1.302449</td>\n      <td>0.025432</td>\n      <td>0.044582</td>\n      <td>0.007304</td>\n      <td>20</td>\n      <td>None</td>\n      <td>20</td>\n      <td>200</td>\n      <td>{'max_depth': 20, 'max_features': None, 'min_s...</td>\n      <td>0.788362</td>\n      <td>...</td>\n      <td>0.830196</td>\n      <td>0.048382</td>\n      <td>180</td>\n      <td>0.895572</td>\n      <td>0.910819</td>\n      <td>0.914601</td>\n      <td>0.913090</td>\n      <td>0.906884</td>\n      <td>0.908193</td>\n      <td>0.006825</td>\n    </tr>\n    <tr>\n      <th>239</th>\n      <td>2.342150</td>\n      <td>0.066965</td>\n      <td>0.066758</td>\n      <td>0.005679</td>\n      <td>20</td>\n      <td>None</td>\n      <td>20</td>\n      <td>400</td>\n      <td>{'max_depth': 20, 'max_features': None, 'min_s...</td>\n      <td>0.784038</td>\n      <td>...</td>\n      <td>0.828664</td>\n      <td>0.049318</td>\n      <td>203</td>\n      <td>0.894171</td>\n      <td>0.909919</td>\n      <td>0.917024</td>\n      <td>0.914489</td>\n      <td>0.907294</td>\n      <td>0.908579</td>\n      <td>0.007966</td>\n    </tr>\n  </tbody>\n</table>\n<p>240 rows × 24 columns</p>\n</div>"
     },
     "execution_count": 526,
     "metadata": {},
     "output_type": "execute_result"
    }
   ],
   "source": [
    "pd.DataFrame(cv.cv_results_)"
   ],
   "metadata": {
    "collapsed": false,
    "ExecuteTime": {
     "end_time": "2024-03-11T01:30:00.049988500Z",
     "start_time": "2024-03-11T01:30:00.019430800Z"
    }
   },
   "id": "8425c0b6d19ef44f",
   "execution_count": 526
  },
  {
   "cell_type": "code",
   "outputs": [
    {
     "data": {
      "text/plain": "RandomForestRegressor(max_depth=10, max_features='sqrt', min_samples_split=5,\n                      n_estimators=50, random_state=18)",
      "text/html": "<style>#sk-container-id-32 {color: black;}#sk-container-id-32 pre{padding: 0;}#sk-container-id-32 div.sk-toggleable {background-color: white;}#sk-container-id-32 label.sk-toggleable__label {cursor: pointer;display: block;width: 100%;margin-bottom: 0;padding: 0.3em;box-sizing: border-box;text-align: center;}#sk-container-id-32 label.sk-toggleable__label-arrow:before {content: \"▸\";float: left;margin-right: 0.25em;color: #696969;}#sk-container-id-32 label.sk-toggleable__label-arrow:hover:before {color: black;}#sk-container-id-32 div.sk-estimator:hover label.sk-toggleable__label-arrow:before {color: black;}#sk-container-id-32 div.sk-toggleable__content {max-height: 0;max-width: 0;overflow: hidden;text-align: left;background-color: #f0f8ff;}#sk-container-id-32 div.sk-toggleable__content pre {margin: 0.2em;color: black;border-radius: 0.25em;background-color: #f0f8ff;}#sk-container-id-32 input.sk-toggleable__control:checked~div.sk-toggleable__content {max-height: 200px;max-width: 100%;overflow: auto;}#sk-container-id-32 input.sk-toggleable__control:checked~label.sk-toggleable__label-arrow:before {content: \"▾\";}#sk-container-id-32 div.sk-estimator input.sk-toggleable__control:checked~label.sk-toggleable__label {background-color: #d4ebff;}#sk-container-id-32 div.sk-label input.sk-toggleable__control:checked~label.sk-toggleable__label {background-color: #d4ebff;}#sk-container-id-32 input.sk-hidden--visually {border: 0;clip: rect(1px 1px 1px 1px);clip: rect(1px, 1px, 1px, 1px);height: 1px;margin: -1px;overflow: hidden;padding: 0;position: absolute;width: 1px;}#sk-container-id-32 div.sk-estimator {font-family: monospace;background-color: #f0f8ff;border: 1px dotted black;border-radius: 0.25em;box-sizing: border-box;margin-bottom: 0.5em;}#sk-container-id-32 div.sk-estimator:hover {background-color: #d4ebff;}#sk-container-id-32 div.sk-parallel-item::after {content: \"\";width: 100%;border-bottom: 1px solid gray;flex-grow: 1;}#sk-container-id-32 div.sk-label:hover label.sk-toggleable__label {background-color: #d4ebff;}#sk-container-id-32 div.sk-serial::before {content: \"\";position: absolute;border-left: 1px solid gray;box-sizing: border-box;top: 0;bottom: 0;left: 50%;z-index: 0;}#sk-container-id-32 div.sk-serial {display: flex;flex-direction: column;align-items: center;background-color: white;padding-right: 0.2em;padding-left: 0.2em;position: relative;}#sk-container-id-32 div.sk-item {position: relative;z-index: 1;}#sk-container-id-32 div.sk-parallel {display: flex;align-items: stretch;justify-content: center;background-color: white;position: relative;}#sk-container-id-32 div.sk-item::before, #sk-container-id-32 div.sk-parallel-item::before {content: \"\";position: absolute;border-left: 1px solid gray;box-sizing: border-box;top: 0;bottom: 0;left: 50%;z-index: -1;}#sk-container-id-32 div.sk-parallel-item {display: flex;flex-direction: column;z-index: 1;position: relative;background-color: white;}#sk-container-id-32 div.sk-parallel-item:first-child::after {align-self: flex-end;width: 50%;}#sk-container-id-32 div.sk-parallel-item:last-child::after {align-self: flex-start;width: 50%;}#sk-container-id-32 div.sk-parallel-item:only-child::after {width: 0;}#sk-container-id-32 div.sk-dashed-wrapped {border: 1px dashed gray;margin: 0 0.4em 0.5em 0.4em;box-sizing: border-box;padding-bottom: 0.4em;background-color: white;}#sk-container-id-32 div.sk-label label {font-family: monospace;font-weight: bold;display: inline-block;line-height: 1.2em;}#sk-container-id-32 div.sk-label-container {text-align: center;}#sk-container-id-32 div.sk-container {/* jupyter's `normalize.less` sets `[hidden] { display: none; }` but bootstrap.min.css set `[hidden] { display: none !important; }` so we also need the `!important` here to be able to override the default hidden behavior on the sphinx rendered scikit-learn.org. See: https://github.com/scikit-learn/scikit-learn/issues/21755 */display: inline-block !important;position: relative;}#sk-container-id-32 div.sk-text-repr-fallback {display: none;}</style><div id=\"sk-container-id-32\" class=\"sk-top-container\"><div class=\"sk-text-repr-fallback\"><pre>RandomForestRegressor(max_depth=10, max_features=&#x27;sqrt&#x27;, min_samples_split=5,\n                      n_estimators=50, random_state=18)</pre><b>In a Jupyter environment, please rerun this cell to show the HTML representation or trust the notebook. <br />On GitHub, the HTML representation is unable to render, please try loading this page with nbviewer.org.</b></div><div class=\"sk-container\" hidden><div class=\"sk-item\"><div class=\"sk-estimator sk-toggleable\"><input class=\"sk-toggleable__control sk-hidden--visually\" id=\"sk-estimator-id-48\" type=\"checkbox\" checked><label for=\"sk-estimator-id-48\" class=\"sk-toggleable__label sk-toggleable__label-arrow\">RandomForestRegressor</label><div class=\"sk-toggleable__content\"><pre>RandomForestRegressor(max_depth=10, max_features=&#x27;sqrt&#x27;, min_samples_split=5,\n                      n_estimators=50, random_state=18)</pre></div></div></div></div></div>"
     },
     "execution_count": 527,
     "metadata": {},
     "output_type": "execute_result"
    }
   ],
   "source": [
    "best_model = cv.best_estimator_\n",
    "cv.best_estimator_"
   ],
   "metadata": {
    "collapsed": false,
    "ExecuteTime": {
     "end_time": "2024-03-11T01:30:03.157993300Z",
     "start_time": "2024-03-11T01:30:03.141795800Z"
    }
   },
   "id": "541ddf8f4a32dba1",
   "execution_count": 527
  },
  {
   "cell_type": "code",
   "outputs": [
    {
     "data": {
      "text/plain": "(0.9604551139369996, 0.9476294323874069)"
     },
     "execution_count": 529,
     "metadata": {},
     "output_type": "execute_result"
    }
   ],
   "source": [
    "best_model.score(xtrain,ytrain),best_model.score(xtest,ytest) # 와 씨 과적합 해결;;"
   ],
   "metadata": {
    "collapsed": false,
    "ExecuteTime": {
     "end_time": "2024-03-11T01:33:30.024839400Z",
     "start_time": "2024-03-11T01:33:30.001448600Z"
    }
   },
   "id": "6338d2578ff5d2fc",
   "execution_count": 529
  },
  {
   "cell_type": "code",
   "outputs": [],
   "source": [
    "pd.DataFrame(cv.cv_results_)"
   ],
   "metadata": {
    "collapsed": false,
    "ExecuteTime": {
     "start_time": "2024-03-11T01:20:21.489807500Z"
    }
   },
   "id": "9053870577e4b5eb",
   "execution_count": null
  },
  {
   "cell_type": "code",
   "outputs": [
    {
     "name": "stdout",
     "output_type": "stream",
     "text": [
      "\n",
      "[모델 설명도]\n",
      "R2 : 0.9476294323874069\n",
      "[에러]\n",
      "MAE : 57.07360880221679\n",
      "MSE : 6874.033423395934\n",
      "RMSE : 82.9097908777723\n",
      "--------------------------------------\n"
     ]
    }
   ],
   "source": [
    "ypre = best_model.predict(xtest)\n",
    "r2 = r2_score(ytest, ypre)\n",
    "mse = mean_squared_error(ytest, ypre)\n",
    "mae = mean_absolute_error(ytest, ypre)\n",
    "rmse = mean_squared_error(ytest, ypre, squared=False)\n",
    "print(f'''\n",
    "[모델 설명도]\\nR2 : {r2}\\n[에러]\\nMAE : {mae}\\nMSE : {mse}\\nRMSE : {rmse}\\n--------------------------------------\n",
    "''')"
   ],
   "metadata": {
    "collapsed": false,
    "ExecuteTime": {
     "end_time": "2024-03-11T01:33:24.575403500Z",
     "start_time": "2024-03-11T01:33:24.562145700Z"
    }
   },
   "id": "c2c1bd5d89fa2de1",
   "execution_count": 528
  },
  {
   "cell_type": "code",
   "outputs": [],
   "source": [
    "import joblib\n",
    "import os"
   ],
   "metadata": {
    "collapsed": false,
    "ExecuteTime": {
     "start_time": "2024-03-11T01:20:21.497040100Z"
    }
   },
   "id": "e71819c18982c895",
   "execution_count": null
  },
  {
   "cell_type": "code",
   "outputs": [],
   "source": [
    "# 모델 저장\n",
    "model_dir = '../model/'\n",
    "model_filename = model_dir + 'RandomForest.pkl'\n",
    "\n",
    "# 저장 폴더 존재 여부 확인 후 저장\n",
    "if not os.path.exists(model_dir):\n",
    "        os.makedirs(model_dir)\n",
    "        \n",
    "joblib.dump(best_model,model_filename)"
   ],
   "metadata": {
    "collapsed": false,
    "ExecuteTime": {
     "start_time": "2024-03-11T01:20:21.499421200Z"
    }
   },
   "id": "b62e4ea03bd7e3dc",
   "execution_count": null
  },
  {
   "cell_type": "code",
   "outputs": [],
   "source": [
    "## poly data로 다시 해보기\n",
    "poly_xtrain,poly_xtest,ytrain,ytest = train_test_split(poly_featureDF,poly_targetSR, random_state=r_max, test_size=0.2)\n",
    "poly_xtrain.shape, poly_xtest.shape, ytrain.shape"
   ],
   "metadata": {
    "collapsed": false,
    "ExecuteTime": {
     "start_time": "2024-03-11T01:20:21.501501700Z"
    }
   },
   "id": "c7017cdefe56b2e0",
   "execution_count": null
  },
  {
   "cell_type": "code",
   "outputs": [],
   "source": [
    "scaler = StandardScaler()\n",
    "poly_xtrain = scaler.fit_transform(poly_xtrain)\n",
    "poly_xtest = scaler.transform(poly_xtest)"
   ],
   "metadata": {
    "collapsed": false,
    "ExecuteTime": {
     "start_time": "2024-03-11T01:20:21.502628200Z"
    }
   },
   "id": "9a121befb0e225d2",
   "execution_count": null
  },
  {
   "cell_type": "code",
   "outputs": [],
   "source": [
    "model = RandomForestRegressor(random_state=18)\n",
    "model.fit(poly_xtrain,ytrain)\n",
    "model.score(poly_xtrain,ytrain),model.score(poly_xtest,ytest) # 과적합 더 심함"
   ],
   "metadata": {
    "collapsed": false,
    "ExecuteTime": {
     "start_time": "2024-03-11T01:20:21.504925600Z"
    }
   },
   "id": "d6eda8c53cb02058",
   "execution_count": null
  },
  {
   "cell_type": "code",
   "outputs": [],
   "source": [
    "# 랜덤 포레스트 모델 파라미터 조절\n",
    "\n",
    "params = { 'n_estimators' : [10,50,100,200,400],\n",
    "           'max_depth' : [5,10,15,20],\n",
    "           'max_features' : [1,2,3,4],\n",
    "           'min_samples_split' : [5,10,15,20],\n",
    "            }\n",
    "\n",
    "cv = GridSearchCV(model, param_grid=params,cv = 5,return_train_score=True)\n",
    "cv.fit(poly_xtrain,ytrain)"
   ],
   "metadata": {
    "collapsed": false,
    "ExecuteTime": {
     "start_time": "2024-03-11T01:20:21.505930300Z"
    }
   },
   "id": "1a669e35f12d1a8f",
   "execution_count": null
  },
  {
   "cell_type": "code",
   "outputs": [],
   "source": [
    "cv.score(poly_xtrain,ytrain),cv.score(poly_xtest,ytest) # poly한 모델이 성능이 더 안좋음. but 튜닝 후 과대적합 조금 완화"
   ],
   "metadata": {
    "collapsed": false,
    "ExecuteTime": {
     "start_time": "2024-03-11T01:20:21.508318800Z"
    }
   },
   "id": "4f1e5e83f855bc5",
   "execution_count": null
  },
  {
   "cell_type": "code",
   "outputs": [],
   "source": [],
   "metadata": {
    "collapsed": false,
    "ExecuteTime": {
     "start_time": "2024-03-11T01:20:21.509421200Z"
    }
   },
   "id": "59c40a8e9f4bbcda"
  }
 ],
 "metadata": {
  "kernelspec": {
   "display_name": "Python 3",
   "language": "python",
   "name": "python3"
  },
  "language_info": {
   "codemirror_mode": {
    "name": "ipython",
    "version": 2
   },
   "file_extension": ".py",
   "mimetype": "text/x-python",
   "name": "python",
   "nbconvert_exporter": "python",
   "pygments_lexer": "ipython2",
   "version": "2.7.6"
  }
 },
 "nbformat": 4,
 "nbformat_minor": 5
}
