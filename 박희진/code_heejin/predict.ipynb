{
 "cells": [
  {
   "cell_type": "code",
   "execution_count": 121,
   "id": "initial_id",
   "metadata": {
    "collapsed": true,
    "ExecuteTime": {
     "end_time": "2024-03-11T03:57:48.217559700Z",
     "start_time": "2024-03-11T03:57:48.203591500Z"
    }
   },
   "outputs": [],
   "source": [
    "import pandas as pd\n",
    "import numpy as np\n",
    "from joblib import load\n",
    "import joblib\n",
    "import os"
   ]
  },
  {
   "cell_type": "code",
   "outputs": [
    {
     "name": "stdout",
     "output_type": "stream",
     "text": [
      "<class 'pandas.core.frame.DataFrame'>\n",
      "RangeIndex: 1068 entries, 0 to 1067\n",
      "Data columns (total 7 columns):\n",
      " #   Column      Non-Null Count  Dtype  \n",
      "---  ------      --------------  -----  \n",
      " 0   restaurant  1068 non-null   object \n",
      " 1   item        1068 non-null   object \n",
      " 2   calories    1068 non-null   float64\n",
      " 3   sodium      1068 non-null   float64\n",
      " 4   sugar       1068 non-null   float64\n",
      " 5   total_fat   1068 non-null   float64\n",
      " 6   protein     974 non-null    float64\n",
      "dtypes: float64(5), object(2)\n",
      "memory usage: 58.5+ KB\n"
     ]
    }
   ],
   "source": [
    "import pandas as pd\n",
    "import numpy as np\n",
    "import heejin\n",
    "import matplotlib.pyplot as plt\n",
    "from sklearn.ensemble import RandomForestRegressor, VotingRegressor\n",
    "from sklearn.model_selection import train_test_split\n",
    "from sklearn.preprocessing import StandardScaler, OneHotEncoder, MinMaxScaler, LabelEncoder, RobustScaler, \\\n",
    "    PolynomialFeatures\n",
    "from sklearn.model_selection import GridSearchCV\n",
    "from sklearn.neighbors import KNeighborsRegressor\n",
    "from sklearn.svm import SVR, SVC\n",
    "from sklearn.linear_model import LinearRegression, Lasso, Ridge, ElasticNet\n",
    "from sklearn.metrics import mean_squared_error, r2_score, mean_absolute_error, mean_squared_log_error, \\\n",
    "    classification_report\n",
    "\n",
    "dataDF = pd.read_csv('../data/Hamburger.csv', encoding='latin1')\n",
    "dataDF.info()\n",
    "\n",
    "dataDF['restaurant'].replace('macdonald', 'McDonalds', inplace=True)\n",
    "dataDF['restaurant'].replace('Mcdonald', 'McDonalds', inplace=True)\n",
    "dataDF['restaurant'].replace('Mcdonalds', 'McDonalds', inplace=True)\n",
    "dataDF['restaurant'].replace('burgerking', 'Burger King', inplace=True)\n",
    "\n",
    "# 중복값 제거 - 2개 \n",
    "dataDF.duplicated().sum()\n",
    "dataDF.drop_duplicates(inplace=True)\n",
    "\n",
    "# 결측치 제거 - protein - 94개\n",
    "dataDF.isna().sum()\n",
    "dataDF.dropna(subset='protein', inplace=True)\n",
    "\n",
    "# 전처리한 데이터 파일로 \n",
    "dataDF.to_csv('../data/Hambuger_2.csv')\n",
    "# 타겟 : calories\n",
    "# 피쳐 : sodium, sugar, total_fat, portein\n",
    "targetSR = dataDF['calories']\n",
    "featureDF = dataDF[dataDF.columns[3:]]\n",
    "targetSR.shape, featureDF.shape\n",
    "# 학습용 데이터셋, 검증용 데이터셋 분리\n",
    "xtrain, xtest, ytrain, ytest = train_test_split(featureDF, targetSR, test_size=0.2, random_state=48)\n",
    "scaler = StandardScaler()\n",
    "xtrain = scaler.fit_transform(xtrain)\n",
    "xtest = scaler.transform(xtest)\n",
    "\n",
    "\n",
    "feature=dataDF[[\"sugar\",\"sodium\",\"total_fat\",\"protein\"]]\n",
    "target=dataDF[\"calories\"]\n",
    "\n",
    "x_train,x_test, y_train,y_test=train_test_split(feature, target, test_size=0.3, random_state=42)\n",
    "\n",
    "new_data = [[10,1345,13,37]]"
   ],
   "metadata": {
    "collapsed": false,
    "ExecuteTime": {
     "end_time": "2024-03-11T04:02:35.968855600Z",
     "start_time": "2024-03-11T04:02:35.941867200Z"
    }
   },
   "id": "3b36a840ac26d420",
   "execution_count": 130
  },
  {
   "cell_type": "code",
   "outputs": [
    {
     "name": "stdout",
     "output_type": "stream",
     "text": [
      "Convergence after  3  iterations\n"
     ]
    },
    {
     "data": {
      "text/plain": "VotingRegressor(estimators=[('LI',\n                             LinearRegression(copy_X=False, fit_intercept=False,\n                                              n_jobs=100)),\n                            ('KNN',\n                             KNeighborsRegressor(n_neighbors=2, p=1,\n                                                 weights='distance')),\n                            ('Ridge',\n                             Ridge(alpha=0.9, max_iter=1000, random_state=28,\n                                   solver='lsqr')),\n                            ('Lasso',\n                             Lasso(alpha=1.5, max_iter=10000, positive=True,\n                                   selection='random', tol=0.01)),\n                            ('DT',\n                             DecisionTreeRegressor(crit...\n                                                   min_impurity_decrease=3,\n                                                   min_samples_leaf=3,\n                                                   min_samples_split=4)),\n                            ('Boost',\n                             AdaBoostRegressor(estimator=DecisionTreeRegressor(criterion='friedman_mse',\n                                                                               max_depth=7,\n                                                                               max_features=3,\n                                                                               min_impurity_decrease=3,\n                                                                               min_samples_leaf=3,\n                                                                               min_samples_split=4))),\n                            ('RandomForest',\n                             RandomForestRegressor(max_depth=10,\n                                                   max_features='sqrt',\n                                                   min_samples_split=5,\n                                                   n_estimators=50,\n                                                   random_state=18))])",
      "text/html": "<style>#sk-container-id-6 {color: black;}#sk-container-id-6 pre{padding: 0;}#sk-container-id-6 div.sk-toggleable {background-color: white;}#sk-container-id-6 label.sk-toggleable__label {cursor: pointer;display: block;width: 100%;margin-bottom: 0;padding: 0.3em;box-sizing: border-box;text-align: center;}#sk-container-id-6 label.sk-toggleable__label-arrow:before {content: \"▸\";float: left;margin-right: 0.25em;color: #696969;}#sk-container-id-6 label.sk-toggleable__label-arrow:hover:before {color: black;}#sk-container-id-6 div.sk-estimator:hover label.sk-toggleable__label-arrow:before {color: black;}#sk-container-id-6 div.sk-toggleable__content {max-height: 0;max-width: 0;overflow: hidden;text-align: left;background-color: #f0f8ff;}#sk-container-id-6 div.sk-toggleable__content pre {margin: 0.2em;color: black;border-radius: 0.25em;background-color: #f0f8ff;}#sk-container-id-6 input.sk-toggleable__control:checked~div.sk-toggleable__content {max-height: 200px;max-width: 100%;overflow: auto;}#sk-container-id-6 input.sk-toggleable__control:checked~label.sk-toggleable__label-arrow:before {content: \"▾\";}#sk-container-id-6 div.sk-estimator input.sk-toggleable__control:checked~label.sk-toggleable__label {background-color: #d4ebff;}#sk-container-id-6 div.sk-label input.sk-toggleable__control:checked~label.sk-toggleable__label {background-color: #d4ebff;}#sk-container-id-6 input.sk-hidden--visually {border: 0;clip: rect(1px 1px 1px 1px);clip: rect(1px, 1px, 1px, 1px);height: 1px;margin: -1px;overflow: hidden;padding: 0;position: absolute;width: 1px;}#sk-container-id-6 div.sk-estimator {font-family: monospace;background-color: #f0f8ff;border: 1px dotted black;border-radius: 0.25em;box-sizing: border-box;margin-bottom: 0.5em;}#sk-container-id-6 div.sk-estimator:hover {background-color: #d4ebff;}#sk-container-id-6 div.sk-parallel-item::after {content: \"\";width: 100%;border-bottom: 1px solid gray;flex-grow: 1;}#sk-container-id-6 div.sk-label:hover label.sk-toggleable__label {background-color: #d4ebff;}#sk-container-id-6 div.sk-serial::before {content: \"\";position: absolute;border-left: 1px solid gray;box-sizing: border-box;top: 0;bottom: 0;left: 50%;z-index: 0;}#sk-container-id-6 div.sk-serial {display: flex;flex-direction: column;align-items: center;background-color: white;padding-right: 0.2em;padding-left: 0.2em;position: relative;}#sk-container-id-6 div.sk-item {position: relative;z-index: 1;}#sk-container-id-6 div.sk-parallel {display: flex;align-items: stretch;justify-content: center;background-color: white;position: relative;}#sk-container-id-6 div.sk-item::before, #sk-container-id-6 div.sk-parallel-item::before {content: \"\";position: absolute;border-left: 1px solid gray;box-sizing: border-box;top: 0;bottom: 0;left: 50%;z-index: -1;}#sk-container-id-6 div.sk-parallel-item {display: flex;flex-direction: column;z-index: 1;position: relative;background-color: white;}#sk-container-id-6 div.sk-parallel-item:first-child::after {align-self: flex-end;width: 50%;}#sk-container-id-6 div.sk-parallel-item:last-child::after {align-self: flex-start;width: 50%;}#sk-container-id-6 div.sk-parallel-item:only-child::after {width: 0;}#sk-container-id-6 div.sk-dashed-wrapped {border: 1px dashed gray;margin: 0 0.4em 0.5em 0.4em;box-sizing: border-box;padding-bottom: 0.4em;background-color: white;}#sk-container-id-6 div.sk-label label {font-family: monospace;font-weight: bold;display: inline-block;line-height: 1.2em;}#sk-container-id-6 div.sk-label-container {text-align: center;}#sk-container-id-6 div.sk-container {/* jupyter's `normalize.less` sets `[hidden] { display: none; }` but bootstrap.min.css set `[hidden] { display: none !important; }` so we also need the `!important` here to be able to override the default hidden behavior on the sphinx rendered scikit-learn.org. See: https://github.com/scikit-learn/scikit-learn/issues/21755 */display: inline-block !important;position: relative;}#sk-container-id-6 div.sk-text-repr-fallback {display: none;}</style><div id=\"sk-container-id-6\" class=\"sk-top-container\"><div class=\"sk-text-repr-fallback\"><pre>VotingRegressor(estimators=[(&#x27;LI&#x27;,\n                             LinearRegression(copy_X=False, fit_intercept=False,\n                                              n_jobs=100)),\n                            (&#x27;KNN&#x27;,\n                             KNeighborsRegressor(n_neighbors=2, p=1,\n                                                 weights=&#x27;distance&#x27;)),\n                            (&#x27;Ridge&#x27;,\n                             Ridge(alpha=0.9, max_iter=1000, random_state=28,\n                                   solver=&#x27;lsqr&#x27;)),\n                            (&#x27;Lasso&#x27;,\n                             Lasso(alpha=1.5, max_iter=10000, positive=True,\n                                   selection=&#x27;random&#x27;, tol=0.01)),\n                            (&#x27;DT&#x27;,\n                             DecisionTreeRegressor(crit...\n                                                   min_impurity_decrease=3,\n                                                   min_samples_leaf=3,\n                                                   min_samples_split=4)),\n                            (&#x27;Boost&#x27;,\n                             AdaBoostRegressor(estimator=DecisionTreeRegressor(criterion=&#x27;friedman_mse&#x27;,\n                                                                               max_depth=7,\n                                                                               max_features=3,\n                                                                               min_impurity_decrease=3,\n                                                                               min_samples_leaf=3,\n                                                                               min_samples_split=4))),\n                            (&#x27;RandomForest&#x27;,\n                             RandomForestRegressor(max_depth=10,\n                                                   max_features=&#x27;sqrt&#x27;,\n                                                   min_samples_split=5,\n                                                   n_estimators=50,\n                                                   random_state=18))])</pre><b>In a Jupyter environment, please rerun this cell to show the HTML representation or trust the notebook. <br />On GitHub, the HTML representation is unable to render, please try loading this page with nbviewer.org.</b></div><div class=\"sk-container\" hidden><div class=\"sk-item sk-dashed-wrapped\"><div class=\"sk-label-container\"><div class=\"sk-label sk-toggleable\"><input class=\"sk-toggleable__control sk-hidden--visually\" id=\"sk-estimator-id-38\" type=\"checkbox\" ><label for=\"sk-estimator-id-38\" class=\"sk-toggleable__label sk-toggleable__label-arrow\">VotingRegressor</label><div class=\"sk-toggleable__content\"><pre>VotingRegressor(estimators=[(&#x27;LI&#x27;,\n                             LinearRegression(copy_X=False, fit_intercept=False,\n                                              n_jobs=100)),\n                            (&#x27;KNN&#x27;,\n                             KNeighborsRegressor(n_neighbors=2, p=1,\n                                                 weights=&#x27;distance&#x27;)),\n                            (&#x27;Ridge&#x27;,\n                             Ridge(alpha=0.9, max_iter=1000, random_state=28,\n                                   solver=&#x27;lsqr&#x27;)),\n                            (&#x27;Lasso&#x27;,\n                             Lasso(alpha=1.5, max_iter=10000, positive=True,\n                                   selection=&#x27;random&#x27;, tol=0.01)),\n                            (&#x27;DT&#x27;,\n                             DecisionTreeRegressor(crit...\n                                                   min_impurity_decrease=3,\n                                                   min_samples_leaf=3,\n                                                   min_samples_split=4)),\n                            (&#x27;Boost&#x27;,\n                             AdaBoostRegressor(estimator=DecisionTreeRegressor(criterion=&#x27;friedman_mse&#x27;,\n                                                                               max_depth=7,\n                                                                               max_features=3,\n                                                                               min_impurity_decrease=3,\n                                                                               min_samples_leaf=3,\n                                                                               min_samples_split=4))),\n                            (&#x27;RandomForest&#x27;,\n                             RandomForestRegressor(max_depth=10,\n                                                   max_features=&#x27;sqrt&#x27;,\n                                                   min_samples_split=5,\n                                                   n_estimators=50,\n                                                   random_state=18))])</pre></div></div></div><div class=\"sk-parallel\"><div class=\"sk-parallel-item\"><div class=\"sk-item\"><div class=\"sk-label-container\"><div class=\"sk-label sk-toggleable\"><label>LI</label></div></div><div class=\"sk-serial\"><div class=\"sk-item\"><div class=\"sk-estimator sk-toggleable\"><input class=\"sk-toggleable__control sk-hidden--visually\" id=\"sk-estimator-id-39\" type=\"checkbox\" ><label for=\"sk-estimator-id-39\" class=\"sk-toggleable__label sk-toggleable__label-arrow\">LinearRegression</label><div class=\"sk-toggleable__content\"><pre>LinearRegression(copy_X=False, fit_intercept=False, n_jobs=100)</pre></div></div></div></div></div></div><div class=\"sk-parallel-item\"><div class=\"sk-item\"><div class=\"sk-label-container\"><div class=\"sk-label sk-toggleable\"><label>KNN</label></div></div><div class=\"sk-serial\"><div class=\"sk-item\"><div class=\"sk-estimator sk-toggleable\"><input class=\"sk-toggleable__control sk-hidden--visually\" id=\"sk-estimator-id-40\" type=\"checkbox\" ><label for=\"sk-estimator-id-40\" class=\"sk-toggleable__label sk-toggleable__label-arrow\">KNeighborsRegressor</label><div class=\"sk-toggleable__content\"><pre>KNeighborsRegressor(n_neighbors=2, p=1, weights=&#x27;distance&#x27;)</pre></div></div></div></div></div></div><div class=\"sk-parallel-item\"><div class=\"sk-item\"><div class=\"sk-label-container\"><div class=\"sk-label sk-toggleable\"><label>Ridge</label></div></div><div class=\"sk-serial\"><div class=\"sk-item\"><div class=\"sk-estimator sk-toggleable\"><input class=\"sk-toggleable__control sk-hidden--visually\" id=\"sk-estimator-id-41\" type=\"checkbox\" ><label for=\"sk-estimator-id-41\" class=\"sk-toggleable__label sk-toggleable__label-arrow\">Ridge</label><div class=\"sk-toggleable__content\"><pre>Ridge(alpha=0.9, max_iter=1000, random_state=28, solver=&#x27;lsqr&#x27;)</pre></div></div></div></div></div></div><div class=\"sk-parallel-item\"><div class=\"sk-item\"><div class=\"sk-label-container\"><div class=\"sk-label sk-toggleable\"><label>Lasso</label></div></div><div class=\"sk-serial\"><div class=\"sk-item\"><div class=\"sk-estimator sk-toggleable\"><input class=\"sk-toggleable__control sk-hidden--visually\" id=\"sk-estimator-id-42\" type=\"checkbox\" ><label for=\"sk-estimator-id-42\" class=\"sk-toggleable__label sk-toggleable__label-arrow\">Lasso</label><div class=\"sk-toggleable__content\"><pre>Lasso(alpha=1.5, max_iter=10000, positive=True, selection=&#x27;random&#x27;, tol=0.01)</pre></div></div></div></div></div></div><div class=\"sk-parallel-item\"><div class=\"sk-item\"><div class=\"sk-label-container\"><div class=\"sk-label sk-toggleable\"><label>DT</label></div></div><div class=\"sk-serial\"><div class=\"sk-item\"><div class=\"sk-estimator sk-toggleable\"><input class=\"sk-toggleable__control sk-hidden--visually\" id=\"sk-estimator-id-43\" type=\"checkbox\" ><label for=\"sk-estimator-id-43\" class=\"sk-toggleable__label sk-toggleable__label-arrow\">DecisionTreeRegressor</label><div class=\"sk-toggleable__content\"><pre>DecisionTreeRegressor(criterion=&#x27;friedman_mse&#x27;, max_depth=7, max_features=3,\n                      min_impurity_decrease=3, min_samples_leaf=3,\n                      min_samples_split=4)</pre></div></div></div></div></div></div><div class=\"sk-parallel-item\"><div class=\"sk-item\"><div class=\"sk-label-container\"><div class=\"sk-label sk-toggleable\"><label>Boost</label></div></div><div class=\"sk-serial\"><div class=\"sk-item sk-dashed-wrapped\"><div class=\"sk-parallel\"><div class=\"sk-parallel-item\"><div class=\"sk-item\"><div class=\"sk-label-container\"><div class=\"sk-label sk-toggleable\"><input class=\"sk-toggleable__control sk-hidden--visually\" id=\"sk-estimator-id-44\" type=\"checkbox\" ><label for=\"sk-estimator-id-44\" class=\"sk-toggleable__label sk-toggleable__label-arrow\">estimator: DecisionTreeRegressor</label><div class=\"sk-toggleable__content\"><pre>DecisionTreeRegressor(criterion=&#x27;friedman_mse&#x27;, max_depth=7, max_features=3,\n                      min_impurity_decrease=3, min_samples_leaf=3,\n                      min_samples_split=4)</pre></div></div></div><div class=\"sk-serial\"><div class=\"sk-item\"><div class=\"sk-estimator sk-toggleable\"><input class=\"sk-toggleable__control sk-hidden--visually\" id=\"sk-estimator-id-45\" type=\"checkbox\" ><label for=\"sk-estimator-id-45\" class=\"sk-toggleable__label sk-toggleable__label-arrow\">DecisionTreeRegressor</label><div class=\"sk-toggleable__content\"><pre>DecisionTreeRegressor(criterion=&#x27;friedman_mse&#x27;, max_depth=7, max_features=3,\n                      min_impurity_decrease=3, min_samples_leaf=3,\n                      min_samples_split=4)</pre></div></div></div></div></div></div></div></div></div></div></div><div class=\"sk-parallel-item\"><div class=\"sk-item\"><div class=\"sk-label-container\"><div class=\"sk-label sk-toggleable\"><label>RandomForest</label></div></div><div class=\"sk-serial\"><div class=\"sk-item\"><div class=\"sk-estimator sk-toggleable\"><input class=\"sk-toggleable__control sk-hidden--visually\" id=\"sk-estimator-id-46\" type=\"checkbox\" ><label for=\"sk-estimator-id-46\" class=\"sk-toggleable__label sk-toggleable__label-arrow\">RandomForestRegressor</label><div class=\"sk-toggleable__content\"><pre>RandomForestRegressor(max_depth=10, max_features=&#x27;sqrt&#x27;, min_samples_split=5,\n                      n_estimators=50, random_state=18)</pre></div></div></div></div></div></div></div></div></div></div>"
     },
     "execution_count": 131,
     "metadata": {},
     "output_type": "execute_result"
    }
   ],
   "source": [
    "knn = KNeighborsRegressor(n_neighbors=2, weights='distance', p=1)\n",
    "knn.fit(xtrain, ytrain)\n",
    "\n",
    "li = LinearRegression(fit_intercept=False, copy_X=False, n_jobs=100)\n",
    "li.fit(xtrain, ytrain)\n",
    "\n",
    "ridge = load('../model/Ridge.pkl')\n",
    "ridge.fit(x_train, y_train)\n",
    "\n",
    "ridgeCV = load('../model/RidgeCV.pkl')\n",
    "ridgeCV.fit(x_train, y_train)\n",
    "\n",
    "bayridge = load('../model/BayesianRidge.pkl')\n",
    "bayridge.fit(x_train, y_train)\n",
    "\n",
    "kridge = load('../model/KernelRidge.pkl')\n",
    "kridge.fit(x_train, y_train)\n",
    "\n",
    "lasso = load('../model/Lasso.pkl')\n",
    "lasso.fit(x_train, y_train)\n",
    "\n",
    "lassoCV = load('../model/LassoCV.pkl')\n",
    "lassoCV.fit(x_train, y_train)\n",
    "\n",
    "lassoLars = load('../model/LassoLars.pkl')\n",
    "lassoLars.fit(x_train, y_train)\n",
    "\n",
    "dt = load('../model/decision_tree_total_02.pkl')\n",
    "dt.fit(xtrain, ytrain)\n",
    "\n",
    "boost = load('../model/boosting_total.pkl')\n",
    "boost.fit(xtrain, ytrain)\n",
    "\n",
    "rf = load('../model/RandomForest.pkl')\n",
    "rf.fit(xtrain, ytrain)\n",
    "\n",
    "vt = load('../model/Voting.pkl')\n",
    "vt.fit(xtrain, ytrain)"
   ],
   "metadata": {
    "collapsed": false,
    "ExecuteTime": {
     "end_time": "2024-03-11T04:03:27.215638Z",
     "start_time": "2024-03-11T04:03:26.687507400Z"
    }
   },
   "id": "4a10bb74a9ece17a",
   "execution_count": 131
  },
  {
   "cell_type": "code",
   "outputs": [],
   "source": [
    "predictDict = {'예측 모델':[],'예측 값':[],'실제 값':[],'MAE':[],'RMSE':[]}"
   ],
   "metadata": {
    "collapsed": false,
    "ExecuteTime": {
     "end_time": "2024-03-11T04:03:30.213688900Z",
     "start_time": "2024-03-11T04:03:30.207696500Z"
    }
   },
   "id": "39b43fcc9ee30b51",
   "execution_count": 132
  },
  {
   "cell_type": "code",
   "outputs": [],
   "source": [
    "# 피쳐 : sodium, sugar, total_fat, portein\n",
    "new_data = [[1345,10,13,37]]\n",
    "scaler = StandardScaler()\n",
    "new_data = scaler.fit_transform(new_data)\n",
    "new_data2 = [[10,1345,13,37]]\n",
    "true_y = [759]"
   ],
   "metadata": {
    "collapsed": false,
    "ExecuteTime": {
     "end_time": "2024-03-11T04:03:32.154118500Z",
     "start_time": "2024-03-11T04:03:32.146749100Z"
    }
   },
   "id": "49dfafee183e368f",
   "execution_count": 133
  },
  {
   "cell_type": "code",
   "outputs": [
    {
     "name": "stderr",
     "output_type": "stream",
     "text": [
      "C:\\ProgramData\\anaconda3\\Lib\\site-packages\\sklearn\\base.py:464: UserWarning: X does not have valid feature names, but Ridge was fitted with feature names\n",
      "  warnings.warn(\n",
      "C:\\ProgramData\\anaconda3\\Lib\\site-packages\\sklearn\\base.py:464: UserWarning: X does not have valid feature names, but Ridge was fitted with feature names\n",
      "  warnings.warn(\n",
      "C:\\ProgramData\\anaconda3\\Lib\\site-packages\\sklearn\\base.py:464: UserWarning: X does not have valid feature names, but Ridge was fitted with feature names\n",
      "  warnings.warn(\n",
      "C:\\ProgramData\\anaconda3\\Lib\\site-packages\\sklearn\\base.py:464: UserWarning: X does not have valid feature names, but RidgeCV was fitted with feature names\n",
      "  warnings.warn(\n",
      "C:\\ProgramData\\anaconda3\\Lib\\site-packages\\sklearn\\base.py:464: UserWarning: X does not have valid feature names, but RidgeCV was fitted with feature names\n",
      "  warnings.warn(\n",
      "C:\\ProgramData\\anaconda3\\Lib\\site-packages\\sklearn\\base.py:464: UserWarning: X does not have valid feature names, but RidgeCV was fitted with feature names\n",
      "  warnings.warn(\n",
      "C:\\ProgramData\\anaconda3\\Lib\\site-packages\\sklearn\\base.py:464: UserWarning: X does not have valid feature names, but BayesianRidge was fitted with feature names\n",
      "  warnings.warn(\n",
      "C:\\ProgramData\\anaconda3\\Lib\\site-packages\\sklearn\\base.py:464: UserWarning: X does not have valid feature names, but BayesianRidge was fitted with feature names\n",
      "  warnings.warn(\n",
      "C:\\ProgramData\\anaconda3\\Lib\\site-packages\\sklearn\\base.py:464: UserWarning: X does not have valid feature names, but BayesianRidge was fitted with feature names\n",
      "  warnings.warn(\n",
      "C:\\ProgramData\\anaconda3\\Lib\\site-packages\\sklearn\\base.py:464: UserWarning: X does not have valid feature names, but Lasso was fitted with feature names\n",
      "  warnings.warn(\n",
      "C:\\ProgramData\\anaconda3\\Lib\\site-packages\\sklearn\\base.py:464: UserWarning: X does not have valid feature names, but Lasso was fitted with feature names\n",
      "  warnings.warn(\n",
      "C:\\ProgramData\\anaconda3\\Lib\\site-packages\\sklearn\\base.py:464: UserWarning: X does not have valid feature names, but Lasso was fitted with feature names\n",
      "  warnings.warn(\n",
      "C:\\ProgramData\\anaconda3\\Lib\\site-packages\\sklearn\\base.py:464: UserWarning: X does not have valid feature names, but LassoCV was fitted with feature names\n",
      "  warnings.warn(\n",
      "C:\\ProgramData\\anaconda3\\Lib\\site-packages\\sklearn\\base.py:464: UserWarning: X does not have valid feature names, but LassoCV was fitted with feature names\n",
      "  warnings.warn(\n",
      "C:\\ProgramData\\anaconda3\\Lib\\site-packages\\sklearn\\base.py:464: UserWarning: X does not have valid feature names, but LassoCV was fitted with feature names\n",
      "  warnings.warn(\n",
      "C:\\ProgramData\\anaconda3\\Lib\\site-packages\\sklearn\\base.py:464: UserWarning: X does not have valid feature names, but LassoLars was fitted with feature names\n",
      "  warnings.warn(\n",
      "C:\\ProgramData\\anaconda3\\Lib\\site-packages\\sklearn\\base.py:464: UserWarning: X does not have valid feature names, but LassoLars was fitted with feature names\n",
      "  warnings.warn(\n",
      "C:\\ProgramData\\anaconda3\\Lib\\site-packages\\sklearn\\base.py:464: UserWarning: X does not have valid feature names, but LassoLars was fitted with feature names\n",
      "  warnings.warn(\n"
     ]
    }
   ],
   "source": [
    "predictDict['예측 모델'].append('KNeighborsRegressor')\n",
    "predictDict['예측 값'].append(knn.predict(new_data)[0].round(3))\n",
    "predictDict['실제 값'].append(true_y[0])\n",
    "predictDict['MAE'].append(mean_absolute_error(true_y,knn.predict(new_data)))\n",
    "predictDict['RMSE'].append(mean_squared_error(true_y,knn.predict(new_data), squared=False))\n",
    "\n",
    "predictDict['예측 모델'].append('LinearRegression')\n",
    "predictDict['예측 값'].append(li.predict(new_data)[0].round(3))\n",
    "predictDict['실제 값'].append(true_y[0])\n",
    "predictDict['MAE'].append(mean_absolute_error(true_y,li.predict(new_data)))\n",
    "predictDict['RMSE'].append(mean_squared_error(true_y,li.predict(new_data), squared=False))\n",
    "\n",
    "predictDict['예측 모델'].append('Ridge')\n",
    "predictDict['예측 값'].append(ridge.predict(new_data2)[0].round(3))\n",
    "predictDict['실제 값'].append(true_y[0])\n",
    "predictDict['MAE'].append(mean_absolute_error(true_y,ridge.predict(new_data2)))\n",
    "predictDict['RMSE'].append(mean_squared_error(true_y,ridge.predict(new_data2), squared=False))\n",
    "\n",
    "predictDict['예측 모델'].append('RidgeCV')\n",
    "predictDict['예측 값'].append(ridgeCV.predict(new_data2)[0].round(3))\n",
    "predictDict['실제 값'].append(true_y[0])\n",
    "predictDict['MAE'].append(mean_absolute_error(true_y,ridgeCV.predict(new_data2)))\n",
    "predictDict['RMSE'].append(mean_squared_error(true_y,ridgeCV.predict(new_data2), squared=False))\n",
    "\n",
    "predictDict['예측 모델'].append('BayesianRidge')\n",
    "predictDict['예측 값'].append(bayridge.predict(new_data2)[0].round(3))\n",
    "predictDict['실제 값'].append(true_y[0])\n",
    "predictDict['MAE'].append(mean_absolute_error(true_y,bayridge.predict(new_data2)))\n",
    "predictDict['RMSE'].append(mean_squared_error(true_y,bayridge.predict(new_data2), squared=False))\n",
    "\n",
    "predictDict['예측 모델'].append('Lasso')\n",
    "predictDict['예측 값'].append(lasso.predict(new_data2)[0].round(3))\n",
    "predictDict['실제 값'].append(true_y[0])\n",
    "predictDict['MAE'].append(mean_absolute_error(true_y,lasso.predict(new_data2)))\n",
    "predictDict['RMSE'].append(mean_squared_error(true_y,lasso.predict(new_data2), squared=False))\n",
    "\n",
    "predictDict['예측 모델'].append('LassoCV')\n",
    "predictDict['예측 값'].append(lassoCV.predict(new_data2)[0].round(3))\n",
    "predictDict['실제 값'].append(true_y[0])\n",
    "predictDict['MAE'].append(mean_absolute_error(true_y,lassoCV.predict(new_data2)))\n",
    "predictDict['RMSE'].append(mean_squared_error(true_y,lassoCV.predict(new_data2), squared=False))\n",
    "\n",
    "predictDict['예측 모델'].append('LassoLars')\n",
    "predictDict['예측 값'].append(lassoLars.predict(new_data2)[0].round(3))\n",
    "predictDict['실제 값'].append(true_y[0])\n",
    "predictDict['MAE'].append(mean_absolute_error(true_y,lassoLars.predict(new_data2)))\n",
    "predictDict['RMSE'].append(mean_squared_error(true_y,lassoLars.predict(new_data2), squared=False))\n",
    "\n",
    "predictDict['예측 모델'].append('DecisionTree')\n",
    "predictDict['예측 값'].append(dt.predict(new_data)[0].round(3))\n",
    "predictDict['실제 값'].append(true_y[0])\n",
    "predictDict['MAE'].append(mean_absolute_error(true_y,dt.predict(new_data)))\n",
    "predictDict['RMSE'].append(mean_squared_error(true_y,dt.predict(new_data), squared=False))\n",
    "\n",
    "predictDict['예측 모델'].append('Boosting')\n",
    "predictDict['예측 값'].append(boost.predict(new_data)[0].round(3))\n",
    "predictDict['실제 값'].append(true_y[0])\n",
    "predictDict['MAE'].append(mean_absolute_error(true_y,boost.predict(new_data)))\n",
    "predictDict['RMSE'].append(mean_squared_error(true_y,boost.predict(new_data), squared=False))\n",
    "\n",
    "predictDict['예측 모델'].append('RandomForest')\n",
    "predictDict['예측 값'].append(rf.predict(new_data)[0].round(3))\n",
    "predictDict['실제 값'].append(true_y[0])\n",
    "predictDict['MAE'].append(mean_absolute_error(true_y,rf.predict(new_data)))\n",
    "predictDict['RMSE'].append(mean_squared_error(true_y,rf.predict(new_data), squared=False))\n",
    "\n",
    "predictDict['예측 모델'].append('Voting')\n",
    "predictDict['예측 값'].append(vt.predict(new_data)[0].round(3))\n",
    "predictDict['실제 값'].append(true_y[0])\n",
    "predictDict['MAE'].append(mean_absolute_error(true_y,vt.predict(new_data)))\n",
    "predictDict['RMSE'].append(mean_squared_error(true_y,vt.predict(new_data), squared=False))"
   ],
   "metadata": {
    "collapsed": false,
    "ExecuteTime": {
     "end_time": "2024-03-11T04:03:34.915071800Z",
     "start_time": "2024-03-11T04:03:34.859707400Z"
    }
   },
   "id": "eff6b93c4fbd4c49",
   "execution_count": 134
  },
  {
   "cell_type": "code",
   "outputs": [
    {
     "data": {
      "text/plain": "                  예측 모델     예측 값  실제 값         MAE        RMSE\n0   KNeighborsRegressor  447.292   759  311.707854  311.707854\n1      LinearRegression    0.000   759  759.000000  759.000000\n2                 Ridge  499.914   759  259.085587  259.085587\n3               RidgeCV  504.449   759  254.550842  254.550842\n4         BayesianRidge  500.740   759  258.260229  258.260229\n5                 Lasso  494.420   759  264.579784  264.579784\n6               LassoCV  496.170   759  262.829565  262.829565\n7             LassoLars  495.930   759  263.070039  263.070039\n8          DecisionTree  537.333   759  221.666667  221.666667\n9              Boosting  578.500   759  180.500000  180.500000\n10         RandomForest  524.245   759  234.754662  234.754662\n11               Voting  416.784   759  342.216032  342.216032",
      "text/html": "<div>\n<style scoped>\n    .dataframe tbody tr th:only-of-type {\n        vertical-align: middle;\n    }\n\n    .dataframe tbody tr th {\n        vertical-align: top;\n    }\n\n    .dataframe thead th {\n        text-align: right;\n    }\n</style>\n<table border=\"1\" class=\"dataframe\">\n  <thead>\n    <tr style=\"text-align: right;\">\n      <th></th>\n      <th>예측 모델</th>\n      <th>예측 값</th>\n      <th>실제 값</th>\n      <th>MAE</th>\n      <th>RMSE</th>\n    </tr>\n  </thead>\n  <tbody>\n    <tr>\n      <th>0</th>\n      <td>KNeighborsRegressor</td>\n      <td>447.292</td>\n      <td>759</td>\n      <td>311.707854</td>\n      <td>311.707854</td>\n    </tr>\n    <tr>\n      <th>1</th>\n      <td>LinearRegression</td>\n      <td>0.000</td>\n      <td>759</td>\n      <td>759.000000</td>\n      <td>759.000000</td>\n    </tr>\n    <tr>\n      <th>2</th>\n      <td>Ridge</td>\n      <td>499.914</td>\n      <td>759</td>\n      <td>259.085587</td>\n      <td>259.085587</td>\n    </tr>\n    <tr>\n      <th>3</th>\n      <td>RidgeCV</td>\n      <td>504.449</td>\n      <td>759</td>\n      <td>254.550842</td>\n      <td>254.550842</td>\n    </tr>\n    <tr>\n      <th>4</th>\n      <td>BayesianRidge</td>\n      <td>500.740</td>\n      <td>759</td>\n      <td>258.260229</td>\n      <td>258.260229</td>\n    </tr>\n    <tr>\n      <th>5</th>\n      <td>Lasso</td>\n      <td>494.420</td>\n      <td>759</td>\n      <td>264.579784</td>\n      <td>264.579784</td>\n    </tr>\n    <tr>\n      <th>6</th>\n      <td>LassoCV</td>\n      <td>496.170</td>\n      <td>759</td>\n      <td>262.829565</td>\n      <td>262.829565</td>\n    </tr>\n    <tr>\n      <th>7</th>\n      <td>LassoLars</td>\n      <td>495.930</td>\n      <td>759</td>\n      <td>263.070039</td>\n      <td>263.070039</td>\n    </tr>\n    <tr>\n      <th>8</th>\n      <td>DecisionTree</td>\n      <td>537.333</td>\n      <td>759</td>\n      <td>221.666667</td>\n      <td>221.666667</td>\n    </tr>\n    <tr>\n      <th>9</th>\n      <td>Boosting</td>\n      <td>578.500</td>\n      <td>759</td>\n      <td>180.500000</td>\n      <td>180.500000</td>\n    </tr>\n    <tr>\n      <th>10</th>\n      <td>RandomForest</td>\n      <td>524.245</td>\n      <td>759</td>\n      <td>234.754662</td>\n      <td>234.754662</td>\n    </tr>\n    <tr>\n      <th>11</th>\n      <td>Voting</td>\n      <td>416.784</td>\n      <td>759</td>\n      <td>342.216032</td>\n      <td>342.216032</td>\n    </tr>\n  </tbody>\n</table>\n</div>"
     },
     "execution_count": 135,
     "metadata": {},
     "output_type": "execute_result"
    }
   ],
   "source": [
    "predictDF = pd.DataFrame(predictDict)\n",
    "predictDF-"
   ],
   "metadata": {
    "collapsed": false,
    "ExecuteTime": {
     "end_time": "2024-03-11T04:03:40.435005500Z",
     "start_time": "2024-03-11T04:03:40.425103800Z"
    }
   },
   "id": "abb0f288892261cd",
   "execution_count": 135
  }
 ],
 "metadata": {
  "kernelspec": {
   "display_name": "Python 3",
   "language": "python",
   "name": "python3"
  },
  "language_info": {
   "codemirror_mode": {
    "name": "ipython",
    "version": 2
   },
   "file_extension": ".py",
   "mimetype": "text/x-python",
   "name": "python",
   "nbconvert_exporter": "python",
   "pygments_lexer": "ipython2",
   "version": "2.7.6"
  }
 },
 "nbformat": 4,
 "nbformat_minor": 5
}
