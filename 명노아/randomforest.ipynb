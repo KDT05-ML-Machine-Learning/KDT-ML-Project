{
 "cells": [
  {
   "cell_type": "code",
   "execution_count": 2,
   "id": "initial_id",
   "metadata": {
    "ExecuteTime": {
     "end_time": "2024-03-10T10:21:09.465970600Z",
     "start_time": "2024-03-10T10:21:09.434258800Z"
    },
    "collapsed": true
   },
   "outputs": [],
   "source": [
    "import pandas as pd\n",
    "import numpy as np\n",
    "import matplotlib.pyplot as plt\n",
    "from sklearn.ensemble import RandomForestRegressor\n",
    "from sklearn.model_selection import train_test_split\n",
    "from sklearn.preprocessing import StandardScaler, OneHotEncoder,MinMaxScaler,LabelEncoder,RobustScaler, PolynomialFeatures\n",
    "from sklearn.model_selection import GridSearchCV"
   ]
  },
  {
   "cell_type": "code",
   "execution_count": 3,
   "id": "f0730f29ff590687",
   "metadata": {
    "ExecuteTime": {
     "end_time": "2024-03-10T10:21:09.552576600Z",
     "start_time": "2024-03-10T10:21:09.468950800Z"
    },
    "collapsed": false
   },
   "outputs": [],
   "source": [
    "dataDF = pd.read_csv('./Hamburger.csv', encoding= 'latin1')"
   ]
  },
  {
   "cell_type": "code",
   "execution_count": 4,
   "id": "dcdb1bcacf622432",
   "metadata": {
    "ExecuteTime": {
     "end_time": "2024-03-10T10:21:09.604361300Z",
     "start_time": "2024-03-10T10:21:09.555567100Z"
    },
    "collapsed": false
   },
   "outputs": [
    {
     "name": "stdout",
     "output_type": "stream",
     "text": [
      "<class 'pandas.core.frame.DataFrame'>\n",
      "RangeIndex: 1066 entries, 0 to 1065\n",
      "Data columns (total 7 columns):\n",
      " #   Column      Non-Null Count  Dtype  \n",
      "---  ------      --------------  -----  \n",
      " 0   restaurant  1066 non-null   object \n",
      " 1   item        1066 non-null   object \n",
      " 2   calories    1066 non-null   float64\n",
      " 3   sodium      1066 non-null   float64\n",
      " 4   sugar       1066 non-null   float64\n",
      " 5   total_fat   1066 non-null   float64\n",
      " 6   protein     1066 non-null   float64\n",
      "dtypes: float64(5), object(2)\n",
      "memory usage: 58.4+ KB\n"
     ]
    }
   ],
   "source": [
    "dataDF.info()"
   ]
  },
  {
   "cell_type": "code",
   "execution_count": 5,
   "id": "bdd51b21c2a6bcc2",
   "metadata": {
    "ExecuteTime": {
     "end_time": "2024-03-10T10:21:09.617022800Z",
     "start_time": "2024-03-10T10:21:09.596054300Z"
    },
    "collapsed": false
   },
   "outputs": [
    {
     "data": {
      "text/plain": [
       "11"
      ]
     },
     "execution_count": 5,
     "metadata": {},
     "output_type": "execute_result"
    }
   ],
   "source": [
    "# 인코딩\n",
    "dataDF['restaurant'].nunique()  # 총 13개의 브랜드"
   ]
  },
  {
   "cell_type": "code",
   "execution_count": 6,
   "id": "5295ab793bbc4e15",
   "metadata": {
    "ExecuteTime": {
     "end_time": "2024-03-10T10:21:09.623011900Z",
     "start_time": "2024-03-10T10:21:09.613580800Z"
    },
    "collapsed": false
   },
   "outputs": [
    {
     "data": {
      "text/plain": [
       "array(['McDonalds', 'Chick Fil-A', 'Sonic', 'Arbys', 'Burger King',\n",
       "       'Dairy Queen', 'Subway', 'Taco Bell', 'lotteria',\n",
       "       'no_brand_burger', 'prank_burger'], dtype=object)"
      ]
     },
     "execution_count": 6,
     "metadata": {},
     "output_type": "execute_result"
    }
   ],
   "source": [
    "dataDF['restaurant'].unique() # Mcdonalas와 macdonald / Burger King과 burgerking => 이름 통일"
   ]
  },
  {
   "cell_type": "code",
   "execution_count": 7,
   "id": "f069990eb9e1ace8",
   "metadata": {
    "ExecuteTime": {
     "end_time": "2024-03-10T10:21:09.671094400Z",
     "start_time": "2024-03-10T10:21:09.627985200Z"
    },
    "collapsed": false
   },
   "outputs": [],
   "source": [
    "dataDF['restaurant'].replace('macdonald','McDonalds',inplace=True)\n",
    "dataDF['restaurant'].replace('Mcdonald','McDonalds',inplace=True)\n",
    "dataDF['restaurant'].replace('Mcdonalds','McDonalds',inplace=True)\n",
    "dataDF['restaurant'].replace('burgerking','Burger King',inplace = True)"
   ]
  },
  {
   "cell_type": "code",
   "execution_count": 8,
   "id": "cc9e95edd332559d",
   "metadata": {
    "ExecuteTime": {
     "end_time": "2024-03-10T10:21:09.672081800Z",
     "start_time": "2024-03-10T10:21:09.634807900Z"
    },
    "collapsed": false
   },
   "outputs": [
    {
     "data": {
      "text/plain": [
       "array(['McDonalds', 'Chick Fil-A', 'Sonic', 'Arbys', 'Burger King',\n",
       "       'Dairy Queen', 'Subway', 'Taco Bell', 'lotteria',\n",
       "       'no_brand_burger', 'prank_burger'], dtype=object)"
      ]
     },
     "execution_count": 8,
     "metadata": {},
     "output_type": "execute_result"
    }
   ],
   "source": [
    "dataDF['restaurant'].unique()"
   ]
  },
  {
   "cell_type": "code",
   "execution_count": 9,
   "id": "867c9066636c34d9",
   "metadata": {
    "ExecuteTime": {
     "end_time": "2024-03-10T10:21:09.705797200Z",
     "start_time": "2024-03-10T10:21:09.675520400Z"
    },
    "collapsed": false
   },
   "outputs": [],
   "source": [
    "# 중복값 제거 - 2개 \n",
    "dataDF.duplicated().sum()\n",
    "dataDF.drop_duplicates(inplace=True)"
   ]
  },
  {
   "cell_type": "code",
   "execution_count": 10,
   "id": "1ac386087c430750",
   "metadata": {
    "ExecuteTime": {
     "end_time": "2024-03-10T10:21:09.707789800Z",
     "start_time": "2024-03-10T10:21:09.680612700Z"
    },
    "collapsed": false
   },
   "outputs": [
    {
     "data": {
      "text/plain": [
       "restaurant    0\n",
       "item          0\n",
       "calories      0\n",
       "sodium        0\n",
       "sugar         0\n",
       "total_fat     0\n",
       "protein       0\n",
       "dtype: int64"
      ]
     },
     "execution_count": 10,
     "metadata": {},
     "output_type": "execute_result"
    }
   ],
   "source": [
    "# 결측치 제거 - protein - 94개\n",
    "dataDF.isna().sum()\n",
    "dataDF.dropna(subset = 'protein',inplace = True)\n",
    "# 결측치 제거 확인\n",
    "dataDF.isna().sum()"
   ]
  },
  {
   "cell_type": "code",
   "execution_count": 11,
   "id": "c9a30afce9edd476",
   "metadata": {
    "ExecuteTime": {
     "end_time": "2024-03-10T10:21:09.761672400Z",
     "start_time": "2024-03-10T10:21:09.731696300Z"
    },
    "collapsed": false
   },
   "outputs": [],
   "source": [
    "# 순서가 없는 범주형 데이터 -> 원핫인코딩 실시\n",
    "encoder = OneHotEncoder()\n",
    "encoded_data = encoder.fit_transform(dataDF[['restaurant']])\n",
    "encoded_df = pd.DataFrame(encoded_data.toarray(), columns=encoder.get_feature_names_out(['restaurant']))\n",
    "encodingDF = pd.concat([dataDF,encoded_df],axis=1)"
   ]
  },
  {
   "cell_type": "code",
   "execution_count": 12,
   "id": "d2546fb01ee6df68",
   "metadata": {
    "ExecuteTime": {
     "end_time": "2024-03-10T10:21:09.810067900Z",
     "start_time": "2024-03-10T10:21:09.751606700Z"
    },
    "collapsed": false
   },
   "outputs": [
    {
     "data": {
      "text/plain": [
       "calories                      1.000000\n",
       "sodium                        0.811997\n",
       "total_fat                     0.722992\n",
       "sugar                         0.305176\n",
       "protein                       0.172225\n",
       "restaurant_no_brand_burger    0.116372\n",
       "restaurant_Sonic              0.110138\n",
       "restaurant_McDonalds          0.094981\n",
       "restaurant_lotteria           0.047757\n",
       "restaurant_Arbys              0.044778\n",
       "restaurant_Burger King        0.041003\n",
       "restaurant_Chick Fil-A        0.038979\n",
       "restaurant_Subway             0.033058\n",
       "restaurant_Dairy Queen        0.031482\n",
       "restaurant_Taco Bell          0.024268\n",
       "restaurant_prank_burger       0.023250\n",
       "Name: calories, dtype: float64"
      ]
     },
     "execution_count": 12,
     "metadata": {},
     "output_type": "execute_result"
    }
   ],
   "source": [
    "encodingDF.corr(numeric_only=True)['calories'].abs().sort_values(ascending=False) # 맥도날드인가 아닌가는 상관계수 넣어볼 만 하다."
   ]
  },
  {
   "cell_type": "code",
   "execution_count": 13,
   "id": "e4938fd7aece39f3",
   "metadata": {
    "ExecuteTime": {
     "end_time": "2024-03-10T10:21:09.814055600Z",
     "start_time": "2024-03-10T10:21:09.800128100Z"
    },
    "collapsed": false
   },
   "outputs": [
    {
     "data": {
      "text/plain": [
       "calories     1.000000\n",
       "sodium       0.811997\n",
       "total_fat    0.722992\n",
       "sugar        0.305176\n",
       "protein      0.172225\n",
       "Name: calories, dtype: float64"
      ]
     },
     "execution_count": 13,
     "metadata": {},
     "output_type": "execute_result"
    }
   ],
   "source": [
    "dataDF.corr(numeric_only=True)['calories'].sort_values(ascending=False) "
   ]
  },
  {
   "cell_type": "code",
   "execution_count": 14,
   "id": "83038ecbbd095501",
   "metadata": {
    "ExecuteTime": {
     "end_time": "2024-03-10T10:21:09.860146600Z",
     "start_time": "2024-03-10T10:21:09.819774500Z"
    },
    "collapsed": false
   },
   "outputs": [
    {
     "data": {
      "text/plain": [
       "((1066,), (1066, 4))"
      ]
     },
     "execution_count": 14,
     "metadata": {},
     "output_type": "execute_result"
    }
   ],
   "source": [
    "# 타겟 : calories\n",
    "# 피쳐 : sodium, sugar, total_fat, portein\n",
    "targetSR = dataDF['calories']\n",
    "featureDF = dataDF[dataDF.columns[3:]]\n",
    "targetSR.shape , featureDF.shape"
   ]
  },
  {
   "cell_type": "code",
   "execution_count": 15,
   "id": "883d8f8ac54406b5",
   "metadata": {
    "ExecuteTime": {
     "end_time": "2024-03-10T10:21:11.009898400Z",
     "start_time": "2024-03-10T10:21:10.994914400Z"
    },
    "collapsed": false
   },
   "outputs": [
    {
     "data": {
      "text/html": [
       "<div>\n",
       "<style scoped>\n",
       "    .dataframe tbody tr th:only-of-type {\n",
       "        vertical-align: middle;\n",
       "    }\n",
       "\n",
       "    .dataframe tbody tr th {\n",
       "        vertical-align: top;\n",
       "    }\n",
       "\n",
       "    .dataframe thead th {\n",
       "        text-align: right;\n",
       "    }\n",
       "</style>\n",
       "<table border=\"1\" class=\"dataframe\">\n",
       "  <thead>\n",
       "    <tr style=\"text-align: right;\">\n",
       "      <th></th>\n",
       "      <th>sodium</th>\n",
       "      <th>sugar</th>\n",
       "      <th>total_fat</th>\n",
       "      <th>protein</th>\n",
       "    </tr>\n",
       "  </thead>\n",
       "  <tbody>\n",
       "    <tr>\n",
       "      <th>sodium</th>\n",
       "      <td>1.000000</td>\n",
       "      <td>-0.096583</td>\n",
       "      <td>0.706748</td>\n",
       "      <td>0.005111</td>\n",
       "    </tr>\n",
       "    <tr>\n",
       "      <th>sugar</th>\n",
       "      <td>-0.096583</td>\n",
       "      <td>1.000000</td>\n",
       "      <td>-0.055417</td>\n",
       "      <td>0.065812</td>\n",
       "    </tr>\n",
       "    <tr>\n",
       "      <th>total_fat</th>\n",
       "      <td>0.706748</td>\n",
       "      <td>-0.055417</td>\n",
       "      <td>1.000000</td>\n",
       "      <td>0.093125</td>\n",
       "    </tr>\n",
       "    <tr>\n",
       "      <th>protein</th>\n",
       "      <td>0.005111</td>\n",
       "      <td>0.065812</td>\n",
       "      <td>0.093125</td>\n",
       "      <td>1.000000</td>\n",
       "    </tr>\n",
       "  </tbody>\n",
       "</table>\n",
       "</div>"
      ],
      "text/plain": [
       "             sodium     sugar  total_fat   protein\n",
       "sodium     1.000000 -0.096583   0.706748  0.005111\n",
       "sugar     -0.096583  1.000000  -0.055417  0.065812\n",
       "total_fat  0.706748 -0.055417   1.000000  0.093125\n",
       "protein    0.005111  0.065812   0.093125  1.000000"
      ]
     },
     "execution_count": 15,
     "metadata": {},
     "output_type": "execute_result"
    }
   ],
   "source": [
    "# 피쳐들끼리 상호관계 있는지 확인\n",
    "featureDF.corr() # total_fat과 sodium 상관관계 높음"
   ]
  },
  {
   "cell_type": "code",
   "execution_count": 16,
   "id": "65386dc151353a99",
   "metadata": {
    "ExecuteTime": {
     "end_time": "2024-03-10T10:21:11.010895600Z",
     "start_time": "2024-03-10T10:21:11.005047800Z"
    },
    "collapsed": false
   },
   "outputs": [],
   "source": [
    "#  total_fat과 sodium poly 진행 \n",
    "selected_features = ['total_fat', 'sodium']\n",
    "\n",
    "poly = PolynomialFeatures(degree=3, include_bias=False)\n",
    "poly_features = poly.fit_transform(featureDF[selected_features])\n",
    "poly_featureDF = pd.DataFrame(poly_features, columns=poly.get_feature_names_out())\n",
    "\n",
    "# 다항 특성을 포함한 데이터프레임과 원래의 데이터프레임을 합치기\n",
    "dataDF = pd.concat([dataDF, poly_featureDF], axis=1)\n"
   ]
  },
  {
   "cell_type": "code",
   "execution_count": 22,
   "id": "273db782",
   "metadata": {},
   "outputs": [
    {
     "data": {
      "text/plain": [
       "restaurant            0\n",
       "item                  0\n",
       "calories              0\n",
       "sodium                0\n",
       "sugar                 0\n",
       "total_fat             0\n",
       "protein               0\n",
       "total_fat             0\n",
       "sodium                0\n",
       "total_fat^2           0\n",
       "total_fat sodium      0\n",
       "sodium^2              0\n",
       "total_fat^3           0\n",
       "total_fat^2 sodium    0\n",
       "total_fat sodium^2    0\n",
       "sodium^3              0\n",
       "dtype: int64"
      ]
     },
     "execution_count": 22,
     "metadata": {},
     "output_type": "execute_result"
    }
   ],
   "source": [
    "dataDF.isna().sum()"
   ]
  },
  {
   "cell_type": "code",
   "execution_count": null,
   "id": "60cd65d5",
   "metadata": {},
   "outputs": [
    {
     "data": {
      "text/html": [
       "<div>\n",
       "<style scoped>\n",
       "    .dataframe tbody tr th:only-of-type {\n",
       "        vertical-align: middle;\n",
       "    }\n",
       "\n",
       "    .dataframe tbody tr th {\n",
       "        vertical-align: top;\n",
       "    }\n",
       "\n",
       "    .dataframe thead th {\n",
       "        text-align: right;\n",
       "    }\n",
       "</style>\n",
       "<table border=\"1\" class=\"dataframe\">\n",
       "  <thead>\n",
       "    <tr style=\"text-align: right;\">\n",
       "      <th></th>\n",
       "      <th>0</th>\n",
       "      <th>1</th>\n",
       "      <th>2</th>\n",
       "      <th>3</th>\n",
       "      <th>4</th>\n",
       "      <th>5</th>\n",
       "      <th>6</th>\n",
       "      <th>7</th>\n",
       "      <th>8</th>\n",
       "    </tr>\n",
       "  </thead>\n",
       "  <tbody>\n",
       "    <tr>\n",
       "      <th>0</th>\n",
       "      <td>7.00</td>\n",
       "      <td>1110.00</td>\n",
       "      <td>49.0000</td>\n",
       "      <td>7770.0000</td>\n",
       "      <td>1.232100e+06</td>\n",
       "      <td>343.000000</td>\n",
       "      <td>5.439000e+04</td>\n",
       "      <td>8.624700e+06</td>\n",
       "      <td>1.367631e+09</td>\n",
       "    </tr>\n",
       "    <tr>\n",
       "      <th>1</th>\n",
       "      <td>45.00</td>\n",
       "      <td>1580.00</td>\n",
       "      <td>2025.0000</td>\n",
       "      <td>71100.0000</td>\n",
       "      <td>2.496400e+06</td>\n",
       "      <td>91125.000000</td>\n",
       "      <td>3.199500e+06</td>\n",
       "      <td>1.123380e+08</td>\n",
       "      <td>3.944312e+09</td>\n",
       "    </tr>\n",
       "    <tr>\n",
       "      <th>2</th>\n",
       "      <td>67.00</td>\n",
       "      <td>1920.00</td>\n",
       "      <td>4489.0000</td>\n",
       "      <td>128640.0000</td>\n",
       "      <td>3.686400e+06</td>\n",
       "      <td>300763.000000</td>\n",
       "      <td>8.618880e+06</td>\n",
       "      <td>2.469888e+08</td>\n",
       "      <td>7.077888e+09</td>\n",
       "    </tr>\n",
       "    <tr>\n",
       "      <th>3</th>\n",
       "      <td>31.00</td>\n",
       "      <td>1940.00</td>\n",
       "      <td>961.0000</td>\n",
       "      <td>60140.0000</td>\n",
       "      <td>3.763600e+06</td>\n",
       "      <td>29791.000000</td>\n",
       "      <td>1.864340e+06</td>\n",
       "      <td>1.166716e+08</td>\n",
       "      <td>7.301384e+09</td>\n",
       "    </tr>\n",
       "    <tr>\n",
       "      <th>4</th>\n",
       "      <td>45.00</td>\n",
       "      <td>1980.00</td>\n",
       "      <td>2025.0000</td>\n",
       "      <td>89100.0000</td>\n",
       "      <td>3.920400e+06</td>\n",
       "      <td>91125.000000</td>\n",
       "      <td>4.009500e+06</td>\n",
       "      <td>1.764180e+08</td>\n",
       "      <td>7.762392e+09</td>\n",
       "    </tr>\n",
       "    <tr>\n",
       "      <th>...</th>\n",
       "      <td>...</td>\n",
       "      <td>...</td>\n",
       "      <td>...</td>\n",
       "      <td>...</td>\n",
       "      <td>...</td>\n",
       "      <td>...</td>\n",
       "      <td>...</td>\n",
       "      <td>...</td>\n",
       "      <td>...</td>\n",
       "    </tr>\n",
       "    <tr>\n",
       "      <th>1061</th>\n",
       "      <td>19.51</td>\n",
       "      <td>4.55</td>\n",
       "      <td>380.6401</td>\n",
       "      <td>88.7705</td>\n",
       "      <td>2.070250e+01</td>\n",
       "      <td>7426.288351</td>\n",
       "      <td>1.731912e+03</td>\n",
       "      <td>4.039058e+02</td>\n",
       "      <td>9.419637e+01</td>\n",
       "    </tr>\n",
       "    <tr>\n",
       "      <th>1062</th>\n",
       "      <td>18.10</td>\n",
       "      <td>13.58</td>\n",
       "      <td>327.6100</td>\n",
       "      <td>245.7980</td>\n",
       "      <td>1.844164e+02</td>\n",
       "      <td>5929.741000</td>\n",
       "      <td>4.448944e+03</td>\n",
       "      <td>3.337937e+03</td>\n",
       "      <td>2.504375e+03</td>\n",
       "    </tr>\n",
       "    <tr>\n",
       "      <th>1063</th>\n",
       "      <td>22.28</td>\n",
       "      <td>6.42</td>\n",
       "      <td>496.3984</td>\n",
       "      <td>143.0376</td>\n",
       "      <td>4.121640e+01</td>\n",
       "      <td>11059.756352</td>\n",
       "      <td>3.186878e+03</td>\n",
       "      <td>9.183014e+02</td>\n",
       "      <td>2.646093e+02</td>\n",
       "    </tr>\n",
       "    <tr>\n",
       "      <th>1064</th>\n",
       "      <td>10.60</td>\n",
       "      <td>13.84</td>\n",
       "      <td>112.3600</td>\n",
       "      <td>146.7040</td>\n",
       "      <td>1.915456e+02</td>\n",
       "      <td>1191.016000</td>\n",
       "      <td>1.555062e+03</td>\n",
       "      <td>2.030383e+03</td>\n",
       "      <td>2.650991e+03</td>\n",
       "    </tr>\n",
       "    <tr>\n",
       "      <th>1065</th>\n",
       "      <td>18.30</td>\n",
       "      <td>8.45</td>\n",
       "      <td>334.8900</td>\n",
       "      <td>154.6350</td>\n",
       "      <td>7.140250e+01</td>\n",
       "      <td>6128.487000</td>\n",
       "      <td>2.829820e+03</td>\n",
       "      <td>1.306666e+03</td>\n",
       "      <td>6.033511e+02</td>\n",
       "    </tr>\n",
       "  </tbody>\n",
       "</table>\n",
       "<p>1066 rows × 9 columns</p>\n",
       "</div>"
      ],
      "text/plain": [
       "          0        1          2            3             4              5  \\\n",
       "0      7.00  1110.00    49.0000    7770.0000  1.232100e+06     343.000000   \n",
       "1     45.00  1580.00  2025.0000   71100.0000  2.496400e+06   91125.000000   \n",
       "2     67.00  1920.00  4489.0000  128640.0000  3.686400e+06  300763.000000   \n",
       "3     31.00  1940.00   961.0000   60140.0000  3.763600e+06   29791.000000   \n",
       "4     45.00  1980.00  2025.0000   89100.0000  3.920400e+06   91125.000000   \n",
       "...     ...      ...        ...          ...           ...            ...   \n",
       "1061  19.51     4.55   380.6401      88.7705  2.070250e+01    7426.288351   \n",
       "1062  18.10    13.58   327.6100     245.7980  1.844164e+02    5929.741000   \n",
       "1063  22.28     6.42   496.3984     143.0376  4.121640e+01   11059.756352   \n",
       "1064  10.60    13.84   112.3600     146.7040  1.915456e+02    1191.016000   \n",
       "1065  18.30     8.45   334.8900     154.6350  7.140250e+01    6128.487000   \n",
       "\n",
       "                 6             7             8  \n",
       "0     5.439000e+04  8.624700e+06  1.367631e+09  \n",
       "1     3.199500e+06  1.123380e+08  3.944312e+09  \n",
       "2     8.618880e+06  2.469888e+08  7.077888e+09  \n",
       "3     1.864340e+06  1.166716e+08  7.301384e+09  \n",
       "4     4.009500e+06  1.764180e+08  7.762392e+09  \n",
       "...            ...           ...           ...  \n",
       "1061  1.731912e+03  4.039058e+02  9.419637e+01  \n",
       "1062  4.448944e+03  3.337937e+03  2.504375e+03  \n",
       "1063  3.186878e+03  9.183014e+02  2.646093e+02  \n",
       "1064  1.555062e+03  2.030383e+03  2.650991e+03  \n",
       "1065  2.829820e+03  1.306666e+03  6.033511e+02  \n",
       "\n",
       "[1066 rows x 9 columns]"
      ]
     },
     "execution_count": 41,
     "metadata": {},
     "output_type": "execute_result"
    }
   ],
   "source": [
    "poly_featureDF"
   ]
  },
  {
   "cell_type": "code",
   "execution_count": 23,
   "id": "d5a079fc",
   "metadata": {},
   "outputs": [
    {
     "data": {
      "text/plain": [
       "((1066, 17), (1066,))"
      ]
     },
     "execution_count": 23,
     "metadata": {},
     "output_type": "execute_result"
    }
   ],
   "source": [
    "\n",
    "dataDF.dropna(inplace=True)\n",
    "targetSR = dataDF['calories']\n",
    "featureDF = dataDF[dataDF.columns[3:]]\n",
    "featureDF.shape, targetSR.shape"
   ]
  },
  {
   "cell_type": "code",
   "execution_count": null,
   "id": "3fd61e0e",
   "metadata": {},
   "outputs": [
    {
     "data": {
      "text/html": [
       "<div>\n",
       "<style scoped>\n",
       "    .dataframe tbody tr th:only-of-type {\n",
       "        vertical-align: middle;\n",
       "    }\n",
       "\n",
       "    .dataframe tbody tr th {\n",
       "        vertical-align: top;\n",
       "    }\n",
       "\n",
       "    .dataframe thead th {\n",
       "        text-align: right;\n",
       "    }\n",
       "</style>\n",
       "<table border=\"1\" class=\"dataframe\">\n",
       "  <thead>\n",
       "    <tr style=\"text-align: right;\">\n",
       "      <th></th>\n",
       "      <th>0</th>\n",
       "      <th>1</th>\n",
       "      <th>2</th>\n",
       "      <th>3</th>\n",
       "      <th>4</th>\n",
       "      <th>5</th>\n",
       "      <th>6</th>\n",
       "      <th>7</th>\n",
       "      <th>8</th>\n",
       "    </tr>\n",
       "  </thead>\n",
       "  <tbody>\n",
       "    <tr>\n",
       "      <th>0</th>\n",
       "      <td>7.00</td>\n",
       "      <td>1110.00</td>\n",
       "      <td>49.0000</td>\n",
       "      <td>7770.0000</td>\n",
       "      <td>1.232100e+06</td>\n",
       "      <td>343.000000</td>\n",
       "      <td>5.439000e+04</td>\n",
       "      <td>8.624700e+06</td>\n",
       "      <td>1.367631e+09</td>\n",
       "    </tr>\n",
       "    <tr>\n",
       "      <th>1</th>\n",
       "      <td>45.00</td>\n",
       "      <td>1580.00</td>\n",
       "      <td>2025.0000</td>\n",
       "      <td>71100.0000</td>\n",
       "      <td>2.496400e+06</td>\n",
       "      <td>91125.000000</td>\n",
       "      <td>3.199500e+06</td>\n",
       "      <td>1.123380e+08</td>\n",
       "      <td>3.944312e+09</td>\n",
       "    </tr>\n",
       "    <tr>\n",
       "      <th>2</th>\n",
       "      <td>67.00</td>\n",
       "      <td>1920.00</td>\n",
       "      <td>4489.0000</td>\n",
       "      <td>128640.0000</td>\n",
       "      <td>3.686400e+06</td>\n",
       "      <td>300763.000000</td>\n",
       "      <td>8.618880e+06</td>\n",
       "      <td>2.469888e+08</td>\n",
       "      <td>7.077888e+09</td>\n",
       "    </tr>\n",
       "    <tr>\n",
       "      <th>3</th>\n",
       "      <td>31.00</td>\n",
       "      <td>1940.00</td>\n",
       "      <td>961.0000</td>\n",
       "      <td>60140.0000</td>\n",
       "      <td>3.763600e+06</td>\n",
       "      <td>29791.000000</td>\n",
       "      <td>1.864340e+06</td>\n",
       "      <td>1.166716e+08</td>\n",
       "      <td>7.301384e+09</td>\n",
       "    </tr>\n",
       "    <tr>\n",
       "      <th>4</th>\n",
       "      <td>45.00</td>\n",
       "      <td>1980.00</td>\n",
       "      <td>2025.0000</td>\n",
       "      <td>89100.0000</td>\n",
       "      <td>3.920400e+06</td>\n",
       "      <td>91125.000000</td>\n",
       "      <td>4.009500e+06</td>\n",
       "      <td>1.764180e+08</td>\n",
       "      <td>7.762392e+09</td>\n",
       "    </tr>\n",
       "    <tr>\n",
       "      <th>...</th>\n",
       "      <td>...</td>\n",
       "      <td>...</td>\n",
       "      <td>...</td>\n",
       "      <td>...</td>\n",
       "      <td>...</td>\n",
       "      <td>...</td>\n",
       "      <td>...</td>\n",
       "      <td>...</td>\n",
       "      <td>...</td>\n",
       "    </tr>\n",
       "    <tr>\n",
       "      <th>1061</th>\n",
       "      <td>19.51</td>\n",
       "      <td>4.55</td>\n",
       "      <td>380.6401</td>\n",
       "      <td>88.7705</td>\n",
       "      <td>2.070250e+01</td>\n",
       "      <td>7426.288351</td>\n",
       "      <td>1.731912e+03</td>\n",
       "      <td>4.039058e+02</td>\n",
       "      <td>9.419637e+01</td>\n",
       "    </tr>\n",
       "    <tr>\n",
       "      <th>1062</th>\n",
       "      <td>18.10</td>\n",
       "      <td>13.58</td>\n",
       "      <td>327.6100</td>\n",
       "      <td>245.7980</td>\n",
       "      <td>1.844164e+02</td>\n",
       "      <td>5929.741000</td>\n",
       "      <td>4.448944e+03</td>\n",
       "      <td>3.337937e+03</td>\n",
       "      <td>2.504375e+03</td>\n",
       "    </tr>\n",
       "    <tr>\n",
       "      <th>1063</th>\n",
       "      <td>22.28</td>\n",
       "      <td>6.42</td>\n",
       "      <td>496.3984</td>\n",
       "      <td>143.0376</td>\n",
       "      <td>4.121640e+01</td>\n",
       "      <td>11059.756352</td>\n",
       "      <td>3.186878e+03</td>\n",
       "      <td>9.183014e+02</td>\n",
       "      <td>2.646093e+02</td>\n",
       "    </tr>\n",
       "    <tr>\n",
       "      <th>1064</th>\n",
       "      <td>10.60</td>\n",
       "      <td>13.84</td>\n",
       "      <td>112.3600</td>\n",
       "      <td>146.7040</td>\n",
       "      <td>1.915456e+02</td>\n",
       "      <td>1191.016000</td>\n",
       "      <td>1.555062e+03</td>\n",
       "      <td>2.030383e+03</td>\n",
       "      <td>2.650991e+03</td>\n",
       "    </tr>\n",
       "    <tr>\n",
       "      <th>1065</th>\n",
       "      <td>18.30</td>\n",
       "      <td>8.45</td>\n",
       "      <td>334.8900</td>\n",
       "      <td>154.6350</td>\n",
       "      <td>7.140250e+01</td>\n",
       "      <td>6128.487000</td>\n",
       "      <td>2.829820e+03</td>\n",
       "      <td>1.306666e+03</td>\n",
       "      <td>6.033511e+02</td>\n",
       "    </tr>\n",
       "  </tbody>\n",
       "</table>\n",
       "<p>1066 rows × 9 columns</p>\n",
       "</div>"
      ],
      "text/plain": [
       "          0        1          2            3             4              5  \\\n",
       "0      7.00  1110.00    49.0000    7770.0000  1.232100e+06     343.000000   \n",
       "1     45.00  1580.00  2025.0000   71100.0000  2.496400e+06   91125.000000   \n",
       "2     67.00  1920.00  4489.0000  128640.0000  3.686400e+06  300763.000000   \n",
       "3     31.00  1940.00   961.0000   60140.0000  3.763600e+06   29791.000000   \n",
       "4     45.00  1980.00  2025.0000   89100.0000  3.920400e+06   91125.000000   \n",
       "...     ...      ...        ...          ...           ...            ...   \n",
       "1061  19.51     4.55   380.6401      88.7705  2.070250e+01    7426.288351   \n",
       "1062  18.10    13.58   327.6100     245.7980  1.844164e+02    5929.741000   \n",
       "1063  22.28     6.42   496.3984     143.0376  4.121640e+01   11059.756352   \n",
       "1064  10.60    13.84   112.3600     146.7040  1.915456e+02    1191.016000   \n",
       "1065  18.30     8.45   334.8900     154.6350  7.140250e+01    6128.487000   \n",
       "\n",
       "                 6             7             8  \n",
       "0     5.439000e+04  8.624700e+06  1.367631e+09  \n",
       "1     3.199500e+06  1.123380e+08  3.944312e+09  \n",
       "2     8.618880e+06  2.469888e+08  7.077888e+09  \n",
       "3     1.864340e+06  1.166716e+08  7.301384e+09  \n",
       "4     4.009500e+06  1.764180e+08  7.762392e+09  \n",
       "...            ...           ...           ...  \n",
       "1061  1.731912e+03  4.039058e+02  9.419637e+01  \n",
       "1062  4.448944e+03  3.337937e+03  2.504375e+03  \n",
       "1063  3.186878e+03  9.183014e+02  2.646093e+02  \n",
       "1064  1.555062e+03  2.030383e+03  2.650991e+03  \n",
       "1065  2.829820e+03  1.306666e+03  6.033511e+02  \n",
       "\n",
       "[1066 rows x 9 columns]"
      ]
     },
     "execution_count": 21,
     "metadata": {},
     "output_type": "execute_result"
    }
   ],
   "source": [
    "poly_featureDF"
   ]
  },
  {
   "cell_type": "code",
   "execution_count": null,
   "id": "8549e681ce3e16d9",
   "metadata": {
    "ExecuteTime": {
     "end_time": "2024-03-10T10:21:11.280788500Z",
     "start_time": "2024-03-10T10:21:11.011891800Z"
    },
    "collapsed": false
   },
   "outputs": [
    {
     "name": "stdout",
     "output_type": "stream",
     "text": [
      "radom_state = 29\n",
      "score : 0.9160878170953889\n"
     ]
    }
   ],
   "source": [
    "r_max = heejin.find_random_state(featureDF,targetSR)"
   ]
  },
  {
   "cell_type": "code",
   "execution_count": null,
   "id": "a5f341ce02a5ae85",
   "metadata": {
    "ExecuteTime": {
     "end_time": "2024-03-10T10:21:11.290732400Z",
     "start_time": "2024-03-10T10:21:11.280788500Z"
    },
    "collapsed": false
   },
   "outputs": [],
   "source": [
    "# 학습용 데이터셋, 검증용 데이터셋 분리\n",
    "xtrain,xtest,ytrain,ytest = train_test_split(featureDF,targetSR,test_size=0.2, random_state=r_max)"
   ]
  },
  {
   "cell_type": "code",
   "execution_count": null,
   "id": "b1b34c0ed0bb57a8",
   "metadata": {
    "ExecuteTime": {
     "end_time": "2024-03-10T10:21:13.065990100Z",
     "start_time": "2024-03-10T10:21:11.289390500Z"
    },
    "collapsed": false
   },
   "outputs": [
    {
     "name": "stdout",
     "output_type": "stream",
     "text": [
      "model : RandomForestRegressor()\n",
      "scaler : StandardScaler()\n",
      "Train score : 0.980039394471422\n",
      "Test score : 0.9488396503388826\n",
      "\n",
      "[모델 설명도]\n",
      "R2 : 0.9488396503388826\n",
      "[에러]\n",
      "MAE : 54.2295523076923\n",
      "MSE : 6715.183156399071\n",
      "RMSE : 81.94622112336279\n",
      "\n",
      "--------------------------------------\n",
      "model : RandomForestRegressor()\n",
      "scaler : MinMaxScaler()\n",
      "Train score : 0.9797551235093989\n",
      "Test score : 0.9482872351890835\n",
      "\n",
      "[모델 설명도]\n",
      "R2 : 0.9482872351890835\n",
      "[에러]\n",
      "MAE : 53.62939367521367\n",
      "MSE : 6787.691826371858\n",
      "RMSE : 82.38744944693856\n",
      "\n",
      "--------------------------------------\n",
      "model : RandomForestRegressor()\n",
      "scaler : RobustScaler()\n",
      "Train score : 0.9805065818190594\n",
      "Test score : 0.9481743948279964\n",
      "\n",
      "[모델 설명도]\n",
      "R2 : 0.9481743948279964\n",
      "[에러]\n",
      "MAE : 55.07977213675213\n",
      "MSE : 6802.502977920929\n",
      "RMSE : 82.47728764890931\n",
      "\n",
      "--------------------------------------\n"
     ]
    }
   ],
   "source": [
    "# 스케일링 진행\n",
    "heejin.find_scaler(xtrain,ytrain,xtest,ytest, RandomForestRegressor()) # mae와 rmse가 제일 낮은 StandardScaler() 선택"
   ]
  },
  {
   "cell_type": "code",
   "execution_count": null,
   "id": "6e2fc7caa9a9ae5",
   "metadata": {
    "ExecuteTime": {
     "end_time": "2024-03-10T10:21:13.073976700Z",
     "start_time": "2024-03-10T10:21:13.060442Z"
    },
    "collapsed": false
   },
   "outputs": [],
   "source": [
    "scaler = StandardScaler()\n",
    "xtrain = scaler.fit_transform(xtrain)\n",
    "xtest = scaler.transform(xtest)"
   ]
  },
  {
   "cell_type": "code",
   "execution_count": null,
   "id": "ea44aaa2c16fd30a",
   "metadata": {
    "ExecuteTime": {
     "end_time": "2024-03-10T10:21:20.889993200Z",
     "start_time": "2024-03-10T10:21:13.070978100Z"
    },
    "collapsed": false
   },
   "outputs": [
    {
     "name": "stdout",
     "output_type": "stream",
     "text": [
      "6 0.9805605620789309 0.9449858656402821\n"
     ]
    },
    {
     "ename": "KeyboardInterrupt",
     "evalue": "",
     "output_type": "error",
     "traceback": [
      "\u001b[1;31m---------------------------------------------------------------------------\u001b[0m",
      "\u001b[1;31mKeyboardInterrupt\u001b[0m                         Traceback (most recent call last)",
      "Cell \u001b[1;32mIn[243], line 3\u001b[0m\n\u001b[0;32m      1\u001b[0m \u001b[38;5;28;01mfor\u001b[39;00m i \u001b[38;5;129;01min\u001b[39;00m \u001b[38;5;28mrange\u001b[39m(\u001b[38;5;241m1\u001b[39m,\u001b[38;5;241m100\u001b[39m):\n\u001b[0;32m      2\u001b[0m     model \u001b[38;5;241m=\u001b[39m RandomForestRegressor(random_state\u001b[38;5;241m=\u001b[39mi)\n\u001b[1;32m----> 3\u001b[0m     model\u001b[38;5;241m.\u001b[39mfit(xtrain, ytrain)\n\u001b[0;32m      4\u001b[0m     \u001b[38;5;28;01mif\u001b[39;00m model\u001b[38;5;241m.\u001b[39mscore(xtrain,ytrain)\u001b[38;5;241m>\u001b[39m \u001b[38;5;241m0.98\u001b[39m:\n\u001b[0;32m      5\u001b[0m         \u001b[38;5;28mprint\u001b[39m(i,model\u001b[38;5;241m.\u001b[39mscore(xtrain,ytrain), model\u001b[38;5;241m.\u001b[39mscore(xtest,ytest))\n",
      "File \u001b[1;32mC:\\ProgramData\\anaconda3\\Lib\\site-packages\\sklearn\\base.py:1151\u001b[0m, in \u001b[0;36m_fit_context.<locals>.decorator.<locals>.wrapper\u001b[1;34m(estimator, *args, **kwargs)\u001b[0m\n\u001b[0;32m   1144\u001b[0m     estimator\u001b[38;5;241m.\u001b[39m_validate_params()\n\u001b[0;32m   1146\u001b[0m \u001b[38;5;28;01mwith\u001b[39;00m config_context(\n\u001b[0;32m   1147\u001b[0m     skip_parameter_validation\u001b[38;5;241m=\u001b[39m(\n\u001b[0;32m   1148\u001b[0m         prefer_skip_nested_validation \u001b[38;5;129;01mor\u001b[39;00m global_skip_validation\n\u001b[0;32m   1149\u001b[0m     )\n\u001b[0;32m   1150\u001b[0m ):\n\u001b[1;32m-> 1151\u001b[0m     \u001b[38;5;28;01mreturn\u001b[39;00m fit_method(estimator, \u001b[38;5;241m*\u001b[39margs, \u001b[38;5;241m*\u001b[39m\u001b[38;5;241m*\u001b[39mkwargs)\n",
      "File \u001b[1;32mC:\\ProgramData\\anaconda3\\Lib\\site-packages\\sklearn\\ensemble\\_forest.py:456\u001b[0m, in \u001b[0;36mBaseForest.fit\u001b[1;34m(self, X, y, sample_weight)\u001b[0m\n\u001b[0;32m    445\u001b[0m trees \u001b[38;5;241m=\u001b[39m [\n\u001b[0;32m    446\u001b[0m     \u001b[38;5;28mself\u001b[39m\u001b[38;5;241m.\u001b[39m_make_estimator(append\u001b[38;5;241m=\u001b[39m\u001b[38;5;28;01mFalse\u001b[39;00m, random_state\u001b[38;5;241m=\u001b[39mrandom_state)\n\u001b[0;32m    447\u001b[0m     \u001b[38;5;28;01mfor\u001b[39;00m i \u001b[38;5;129;01min\u001b[39;00m \u001b[38;5;28mrange\u001b[39m(n_more_estimators)\n\u001b[0;32m    448\u001b[0m ]\n\u001b[0;32m    450\u001b[0m \u001b[38;5;66;03m# Parallel loop: we prefer the threading backend as the Cython code\u001b[39;00m\n\u001b[0;32m    451\u001b[0m \u001b[38;5;66;03m# for fitting the trees is internally releasing the Python GIL\u001b[39;00m\n\u001b[0;32m    452\u001b[0m \u001b[38;5;66;03m# making threading more efficient than multiprocessing in\u001b[39;00m\n\u001b[0;32m    453\u001b[0m \u001b[38;5;66;03m# that case. However, for joblib 0.12+ we respect any\u001b[39;00m\n\u001b[0;32m    454\u001b[0m \u001b[38;5;66;03m# parallel_backend contexts set at a higher level,\u001b[39;00m\n\u001b[0;32m    455\u001b[0m \u001b[38;5;66;03m# since correctness does not rely on using threads.\u001b[39;00m\n\u001b[1;32m--> 456\u001b[0m trees \u001b[38;5;241m=\u001b[39m Parallel(\n\u001b[0;32m    457\u001b[0m     n_jobs\u001b[38;5;241m=\u001b[39m\u001b[38;5;28mself\u001b[39m\u001b[38;5;241m.\u001b[39mn_jobs,\n\u001b[0;32m    458\u001b[0m     verbose\u001b[38;5;241m=\u001b[39m\u001b[38;5;28mself\u001b[39m\u001b[38;5;241m.\u001b[39mverbose,\n\u001b[0;32m    459\u001b[0m     prefer\u001b[38;5;241m=\u001b[39m\u001b[38;5;124m\"\u001b[39m\u001b[38;5;124mthreads\u001b[39m\u001b[38;5;124m\"\u001b[39m,\n\u001b[0;32m    460\u001b[0m )(\n\u001b[0;32m    461\u001b[0m     delayed(_parallel_build_trees)(\n\u001b[0;32m    462\u001b[0m         t,\n\u001b[0;32m    463\u001b[0m         \u001b[38;5;28mself\u001b[39m\u001b[38;5;241m.\u001b[39mbootstrap,\n\u001b[0;32m    464\u001b[0m         X,\n\u001b[0;32m    465\u001b[0m         y,\n\u001b[0;32m    466\u001b[0m         sample_weight,\n\u001b[0;32m    467\u001b[0m         i,\n\u001b[0;32m    468\u001b[0m         \u001b[38;5;28mlen\u001b[39m(trees),\n\u001b[0;32m    469\u001b[0m         verbose\u001b[38;5;241m=\u001b[39m\u001b[38;5;28mself\u001b[39m\u001b[38;5;241m.\u001b[39mverbose,\n\u001b[0;32m    470\u001b[0m         class_weight\u001b[38;5;241m=\u001b[39m\u001b[38;5;28mself\u001b[39m\u001b[38;5;241m.\u001b[39mclass_weight,\n\u001b[0;32m    471\u001b[0m         n_samples_bootstrap\u001b[38;5;241m=\u001b[39mn_samples_bootstrap,\n\u001b[0;32m    472\u001b[0m     )\n\u001b[0;32m    473\u001b[0m     \u001b[38;5;28;01mfor\u001b[39;00m i, t \u001b[38;5;129;01min\u001b[39;00m \u001b[38;5;28menumerate\u001b[39m(trees)\n\u001b[0;32m    474\u001b[0m )\n\u001b[0;32m    476\u001b[0m \u001b[38;5;66;03m# Collect newly grown trees\u001b[39;00m\n\u001b[0;32m    477\u001b[0m \u001b[38;5;28mself\u001b[39m\u001b[38;5;241m.\u001b[39mestimators_\u001b[38;5;241m.\u001b[39mextend(trees)\n",
      "File \u001b[1;32mC:\\ProgramData\\anaconda3\\Lib\\site-packages\\sklearn\\utils\\parallel.py:65\u001b[0m, in \u001b[0;36mParallel.__call__\u001b[1;34m(self, iterable)\u001b[0m\n\u001b[0;32m     60\u001b[0m config \u001b[38;5;241m=\u001b[39m get_config()\n\u001b[0;32m     61\u001b[0m iterable_with_config \u001b[38;5;241m=\u001b[39m (\n\u001b[0;32m     62\u001b[0m     (_with_config(delayed_func, config), args, kwargs)\n\u001b[0;32m     63\u001b[0m     \u001b[38;5;28;01mfor\u001b[39;00m delayed_func, args, kwargs \u001b[38;5;129;01min\u001b[39;00m iterable\n\u001b[0;32m     64\u001b[0m )\n\u001b[1;32m---> 65\u001b[0m \u001b[38;5;28;01mreturn\u001b[39;00m \u001b[38;5;28msuper\u001b[39m()\u001b[38;5;241m.\u001b[39m\u001b[38;5;21m__call__\u001b[39m(iterable_with_config)\n",
      "File \u001b[1;32mC:\\ProgramData\\anaconda3\\Lib\\site-packages\\joblib\\parallel.py:1088\u001b[0m, in \u001b[0;36mParallel.__call__\u001b[1;34m(self, iterable)\u001b[0m\n\u001b[0;32m   1085\u001b[0m \u001b[38;5;28;01mif\u001b[39;00m \u001b[38;5;28mself\u001b[39m\u001b[38;5;241m.\u001b[39mdispatch_one_batch(iterator):\n\u001b[0;32m   1086\u001b[0m     \u001b[38;5;28mself\u001b[39m\u001b[38;5;241m.\u001b[39m_iterating \u001b[38;5;241m=\u001b[39m \u001b[38;5;28mself\u001b[39m\u001b[38;5;241m.\u001b[39m_original_iterator \u001b[38;5;129;01mis\u001b[39;00m \u001b[38;5;129;01mnot\u001b[39;00m \u001b[38;5;28;01mNone\u001b[39;00m\n\u001b[1;32m-> 1088\u001b[0m \u001b[38;5;28;01mwhile\u001b[39;00m \u001b[38;5;28mself\u001b[39m\u001b[38;5;241m.\u001b[39mdispatch_one_batch(iterator):\n\u001b[0;32m   1089\u001b[0m     \u001b[38;5;28;01mpass\u001b[39;00m\n\u001b[0;32m   1091\u001b[0m \u001b[38;5;28;01mif\u001b[39;00m pre_dispatch \u001b[38;5;241m==\u001b[39m \u001b[38;5;124m\"\u001b[39m\u001b[38;5;124mall\u001b[39m\u001b[38;5;124m\"\u001b[39m \u001b[38;5;129;01mor\u001b[39;00m n_jobs \u001b[38;5;241m==\u001b[39m \u001b[38;5;241m1\u001b[39m:\n\u001b[0;32m   1092\u001b[0m     \u001b[38;5;66;03m# The iterable was consumed all at once by the above for loop.\u001b[39;00m\n\u001b[0;32m   1093\u001b[0m     \u001b[38;5;66;03m# No need to wait for async callbacks to trigger to\u001b[39;00m\n\u001b[0;32m   1094\u001b[0m     \u001b[38;5;66;03m# consumption.\u001b[39;00m\n",
      "File \u001b[1;32mC:\\ProgramData\\anaconda3\\Lib\\site-packages\\joblib\\parallel.py:901\u001b[0m, in \u001b[0;36mParallel.dispatch_one_batch\u001b[1;34m(self, iterator)\u001b[0m\n\u001b[0;32m    899\u001b[0m     \u001b[38;5;28;01mreturn\u001b[39;00m \u001b[38;5;28;01mFalse\u001b[39;00m\n\u001b[0;32m    900\u001b[0m \u001b[38;5;28;01melse\u001b[39;00m:\n\u001b[1;32m--> 901\u001b[0m     \u001b[38;5;28mself\u001b[39m\u001b[38;5;241m.\u001b[39m_dispatch(tasks)\n\u001b[0;32m    902\u001b[0m     \u001b[38;5;28;01mreturn\u001b[39;00m \u001b[38;5;28;01mTrue\u001b[39;00m\n",
      "File \u001b[1;32mC:\\ProgramData\\anaconda3\\Lib\\site-packages\\joblib\\parallel.py:819\u001b[0m, in \u001b[0;36mParallel._dispatch\u001b[1;34m(self, batch)\u001b[0m\n\u001b[0;32m    817\u001b[0m \u001b[38;5;28;01mwith\u001b[39;00m \u001b[38;5;28mself\u001b[39m\u001b[38;5;241m.\u001b[39m_lock:\n\u001b[0;32m    818\u001b[0m     job_idx \u001b[38;5;241m=\u001b[39m \u001b[38;5;28mlen\u001b[39m(\u001b[38;5;28mself\u001b[39m\u001b[38;5;241m.\u001b[39m_jobs)\n\u001b[1;32m--> 819\u001b[0m     job \u001b[38;5;241m=\u001b[39m \u001b[38;5;28mself\u001b[39m\u001b[38;5;241m.\u001b[39m_backend\u001b[38;5;241m.\u001b[39mapply_async(batch, callback\u001b[38;5;241m=\u001b[39mcb)\n\u001b[0;32m    820\u001b[0m     \u001b[38;5;66;03m# A job can complete so quickly than its callback is\u001b[39;00m\n\u001b[0;32m    821\u001b[0m     \u001b[38;5;66;03m# called before we get here, causing self._jobs to\u001b[39;00m\n\u001b[0;32m    822\u001b[0m     \u001b[38;5;66;03m# grow. To ensure correct results ordering, .insert is\u001b[39;00m\n\u001b[0;32m    823\u001b[0m     \u001b[38;5;66;03m# used (rather than .append) in the following line\u001b[39;00m\n\u001b[0;32m    824\u001b[0m     \u001b[38;5;28mself\u001b[39m\u001b[38;5;241m.\u001b[39m_jobs\u001b[38;5;241m.\u001b[39minsert(job_idx, job)\n",
      "File \u001b[1;32mC:\\ProgramData\\anaconda3\\Lib\\site-packages\\joblib\\_parallel_backends.py:208\u001b[0m, in \u001b[0;36mSequentialBackend.apply_async\u001b[1;34m(self, func, callback)\u001b[0m\n\u001b[0;32m    206\u001b[0m \u001b[38;5;28;01mdef\u001b[39;00m \u001b[38;5;21mapply_async\u001b[39m(\u001b[38;5;28mself\u001b[39m, func, callback\u001b[38;5;241m=\u001b[39m\u001b[38;5;28;01mNone\u001b[39;00m):\n\u001b[0;32m    207\u001b[0m \u001b[38;5;250m    \u001b[39m\u001b[38;5;124;03m\"\"\"Schedule a func to be run\"\"\"\u001b[39;00m\n\u001b[1;32m--> 208\u001b[0m     result \u001b[38;5;241m=\u001b[39m ImmediateResult(func)\n\u001b[0;32m    209\u001b[0m     \u001b[38;5;28;01mif\u001b[39;00m callback:\n\u001b[0;32m    210\u001b[0m         callback(result)\n",
      "File \u001b[1;32mC:\\ProgramData\\anaconda3\\Lib\\site-packages\\joblib\\_parallel_backends.py:597\u001b[0m, in \u001b[0;36mImmediateResult.__init__\u001b[1;34m(self, batch)\u001b[0m\n\u001b[0;32m    594\u001b[0m \u001b[38;5;28;01mdef\u001b[39;00m \u001b[38;5;21m__init__\u001b[39m(\u001b[38;5;28mself\u001b[39m, batch):\n\u001b[0;32m    595\u001b[0m     \u001b[38;5;66;03m# Don't delay the application, to avoid keeping the input\u001b[39;00m\n\u001b[0;32m    596\u001b[0m     \u001b[38;5;66;03m# arguments in memory\u001b[39;00m\n\u001b[1;32m--> 597\u001b[0m     \u001b[38;5;28mself\u001b[39m\u001b[38;5;241m.\u001b[39mresults \u001b[38;5;241m=\u001b[39m batch()\n",
      "File \u001b[1;32mC:\\ProgramData\\anaconda3\\Lib\\site-packages\\joblib\\parallel.py:288\u001b[0m, in \u001b[0;36mBatchedCalls.__call__\u001b[1;34m(self)\u001b[0m\n\u001b[0;32m    284\u001b[0m \u001b[38;5;28;01mdef\u001b[39;00m \u001b[38;5;21m__call__\u001b[39m(\u001b[38;5;28mself\u001b[39m):\n\u001b[0;32m    285\u001b[0m     \u001b[38;5;66;03m# Set the default nested backend to self._backend but do not set the\u001b[39;00m\n\u001b[0;32m    286\u001b[0m     \u001b[38;5;66;03m# change the default number of processes to -1\u001b[39;00m\n\u001b[0;32m    287\u001b[0m     \u001b[38;5;28;01mwith\u001b[39;00m parallel_backend(\u001b[38;5;28mself\u001b[39m\u001b[38;5;241m.\u001b[39m_backend, n_jobs\u001b[38;5;241m=\u001b[39m\u001b[38;5;28mself\u001b[39m\u001b[38;5;241m.\u001b[39m_n_jobs):\n\u001b[1;32m--> 288\u001b[0m         \u001b[38;5;28;01mreturn\u001b[39;00m [func(\u001b[38;5;241m*\u001b[39margs, \u001b[38;5;241m*\u001b[39m\u001b[38;5;241m*\u001b[39mkwargs)\n\u001b[0;32m    289\u001b[0m                 \u001b[38;5;28;01mfor\u001b[39;00m func, args, kwargs \u001b[38;5;129;01min\u001b[39;00m \u001b[38;5;28mself\u001b[39m\u001b[38;5;241m.\u001b[39mitems]\n",
      "File \u001b[1;32mC:\\ProgramData\\anaconda3\\Lib\\site-packages\\joblib\\parallel.py:288\u001b[0m, in \u001b[0;36m<listcomp>\u001b[1;34m(.0)\u001b[0m\n\u001b[0;32m    284\u001b[0m \u001b[38;5;28;01mdef\u001b[39;00m \u001b[38;5;21m__call__\u001b[39m(\u001b[38;5;28mself\u001b[39m):\n\u001b[0;32m    285\u001b[0m     \u001b[38;5;66;03m# Set the default nested backend to self._backend but do not set the\u001b[39;00m\n\u001b[0;32m    286\u001b[0m     \u001b[38;5;66;03m# change the default number of processes to -1\u001b[39;00m\n\u001b[0;32m    287\u001b[0m     \u001b[38;5;28;01mwith\u001b[39;00m parallel_backend(\u001b[38;5;28mself\u001b[39m\u001b[38;5;241m.\u001b[39m_backend, n_jobs\u001b[38;5;241m=\u001b[39m\u001b[38;5;28mself\u001b[39m\u001b[38;5;241m.\u001b[39m_n_jobs):\n\u001b[1;32m--> 288\u001b[0m         \u001b[38;5;28;01mreturn\u001b[39;00m [func(\u001b[38;5;241m*\u001b[39margs, \u001b[38;5;241m*\u001b[39m\u001b[38;5;241m*\u001b[39mkwargs)\n\u001b[0;32m    289\u001b[0m                 \u001b[38;5;28;01mfor\u001b[39;00m func, args, kwargs \u001b[38;5;129;01min\u001b[39;00m \u001b[38;5;28mself\u001b[39m\u001b[38;5;241m.\u001b[39mitems]\n",
      "File \u001b[1;32mC:\\ProgramData\\anaconda3\\Lib\\site-packages\\sklearn\\utils\\parallel.py:127\u001b[0m, in \u001b[0;36m_FuncWrapper.__call__\u001b[1;34m(self, *args, **kwargs)\u001b[0m\n\u001b[0;32m    125\u001b[0m     config \u001b[38;5;241m=\u001b[39m {}\n\u001b[0;32m    126\u001b[0m \u001b[38;5;28;01mwith\u001b[39;00m config_context(\u001b[38;5;241m*\u001b[39m\u001b[38;5;241m*\u001b[39mconfig):\n\u001b[1;32m--> 127\u001b[0m     \u001b[38;5;28;01mreturn\u001b[39;00m \u001b[38;5;28mself\u001b[39m\u001b[38;5;241m.\u001b[39mfunction(\u001b[38;5;241m*\u001b[39margs, \u001b[38;5;241m*\u001b[39m\u001b[38;5;241m*\u001b[39mkwargs)\n",
      "File \u001b[1;32mC:\\ProgramData\\anaconda3\\Lib\\site-packages\\sklearn\\ensemble\\_forest.py:188\u001b[0m, in \u001b[0;36m_parallel_build_trees\u001b[1;34m(tree, bootstrap, X, y, sample_weight, tree_idx, n_trees, verbose, class_weight, n_samples_bootstrap)\u001b[0m\n\u001b[0;32m    185\u001b[0m     \u001b[38;5;28;01melif\u001b[39;00m class_weight \u001b[38;5;241m==\u001b[39m \u001b[38;5;124m\"\u001b[39m\u001b[38;5;124mbalanced_subsample\u001b[39m\u001b[38;5;124m\"\u001b[39m:\n\u001b[0;32m    186\u001b[0m         curr_sample_weight \u001b[38;5;241m*\u001b[39m\u001b[38;5;241m=\u001b[39m compute_sample_weight(\u001b[38;5;124m\"\u001b[39m\u001b[38;5;124mbalanced\u001b[39m\u001b[38;5;124m\"\u001b[39m, y, indices\u001b[38;5;241m=\u001b[39mindices)\n\u001b[1;32m--> 188\u001b[0m     tree\u001b[38;5;241m.\u001b[39mfit(X, y, sample_weight\u001b[38;5;241m=\u001b[39mcurr_sample_weight, check_input\u001b[38;5;241m=\u001b[39m\u001b[38;5;28;01mFalse\u001b[39;00m)\n\u001b[0;32m    189\u001b[0m \u001b[38;5;28;01melse\u001b[39;00m:\n\u001b[0;32m    190\u001b[0m     tree\u001b[38;5;241m.\u001b[39mfit(X, y, sample_weight\u001b[38;5;241m=\u001b[39msample_weight, check_input\u001b[38;5;241m=\u001b[39m\u001b[38;5;28;01mFalse\u001b[39;00m)\n",
      "File \u001b[1;32mC:\\ProgramData\\anaconda3\\Lib\\site-packages\\sklearn\\base.py:1151\u001b[0m, in \u001b[0;36m_fit_context.<locals>.decorator.<locals>.wrapper\u001b[1;34m(estimator, *args, **kwargs)\u001b[0m\n\u001b[0;32m   1144\u001b[0m     estimator\u001b[38;5;241m.\u001b[39m_validate_params()\n\u001b[0;32m   1146\u001b[0m \u001b[38;5;28;01mwith\u001b[39;00m config_context(\n\u001b[0;32m   1147\u001b[0m     skip_parameter_validation\u001b[38;5;241m=\u001b[39m(\n\u001b[0;32m   1148\u001b[0m         prefer_skip_nested_validation \u001b[38;5;129;01mor\u001b[39;00m global_skip_validation\n\u001b[0;32m   1149\u001b[0m     )\n\u001b[0;32m   1150\u001b[0m ):\n\u001b[1;32m-> 1151\u001b[0m     \u001b[38;5;28;01mreturn\u001b[39;00m fit_method(estimator, \u001b[38;5;241m*\u001b[39margs, \u001b[38;5;241m*\u001b[39m\u001b[38;5;241m*\u001b[39mkwargs)\n",
      "File \u001b[1;32mC:\\ProgramData\\anaconda3\\Lib\\site-packages\\sklearn\\tree\\_classes.py:1320\u001b[0m, in \u001b[0;36mDecisionTreeRegressor.fit\u001b[1;34m(self, X, y, sample_weight, check_input)\u001b[0m\n\u001b[0;32m   1290\u001b[0m \u001b[38;5;129m@_fit_context\u001b[39m(prefer_skip_nested_validation\u001b[38;5;241m=\u001b[39m\u001b[38;5;28;01mTrue\u001b[39;00m)\n\u001b[0;32m   1291\u001b[0m \u001b[38;5;28;01mdef\u001b[39;00m \u001b[38;5;21mfit\u001b[39m(\u001b[38;5;28mself\u001b[39m, X, y, sample_weight\u001b[38;5;241m=\u001b[39m\u001b[38;5;28;01mNone\u001b[39;00m, check_input\u001b[38;5;241m=\u001b[39m\u001b[38;5;28;01mTrue\u001b[39;00m):\n\u001b[0;32m   1292\u001b[0m \u001b[38;5;250m    \u001b[39m\u001b[38;5;124;03m\"\"\"Build a decision tree regressor from the training set (X, y).\u001b[39;00m\n\u001b[0;32m   1293\u001b[0m \n\u001b[0;32m   1294\u001b[0m \u001b[38;5;124;03m    Parameters\u001b[39;00m\n\u001b[1;32m   (...)\u001b[0m\n\u001b[0;32m   1317\u001b[0m \u001b[38;5;124;03m        Fitted estimator.\u001b[39;00m\n\u001b[0;32m   1318\u001b[0m \u001b[38;5;124;03m    \"\"\"\u001b[39;00m\n\u001b[1;32m-> 1320\u001b[0m     \u001b[38;5;28msuper\u001b[39m()\u001b[38;5;241m.\u001b[39m_fit(\n\u001b[0;32m   1321\u001b[0m         X,\n\u001b[0;32m   1322\u001b[0m         y,\n\u001b[0;32m   1323\u001b[0m         sample_weight\u001b[38;5;241m=\u001b[39msample_weight,\n\u001b[0;32m   1324\u001b[0m         check_input\u001b[38;5;241m=\u001b[39mcheck_input,\n\u001b[0;32m   1325\u001b[0m     )\n\u001b[0;32m   1326\u001b[0m     \u001b[38;5;28;01mreturn\u001b[39;00m \u001b[38;5;28mself\u001b[39m\n",
      "File \u001b[1;32mC:\\ProgramData\\anaconda3\\Lib\\site-packages\\sklearn\\tree\\_classes.py:443\u001b[0m, in \u001b[0;36mBaseDecisionTree._fit\u001b[1;34m(self, X, y, sample_weight, check_input, missing_values_in_feature_mask)\u001b[0m\n\u001b[0;32m    432\u001b[0m \u001b[38;5;28;01melse\u001b[39;00m:\n\u001b[0;32m    433\u001b[0m     builder \u001b[38;5;241m=\u001b[39m BestFirstTreeBuilder(\n\u001b[0;32m    434\u001b[0m         splitter,\n\u001b[0;32m    435\u001b[0m         min_samples_split,\n\u001b[1;32m   (...)\u001b[0m\n\u001b[0;32m    440\u001b[0m         \u001b[38;5;28mself\u001b[39m\u001b[38;5;241m.\u001b[39mmin_impurity_decrease,\n\u001b[0;32m    441\u001b[0m     )\n\u001b[1;32m--> 443\u001b[0m builder\u001b[38;5;241m.\u001b[39mbuild(\u001b[38;5;28mself\u001b[39m\u001b[38;5;241m.\u001b[39mtree_, X, y, sample_weight, missing_values_in_feature_mask)\n\u001b[0;32m    445\u001b[0m \u001b[38;5;28;01mif\u001b[39;00m \u001b[38;5;28mself\u001b[39m\u001b[38;5;241m.\u001b[39mn_outputs_ \u001b[38;5;241m==\u001b[39m \u001b[38;5;241m1\u001b[39m \u001b[38;5;129;01mand\u001b[39;00m is_classifier(\u001b[38;5;28mself\u001b[39m):\n\u001b[0;32m    446\u001b[0m     \u001b[38;5;28mself\u001b[39m\u001b[38;5;241m.\u001b[39mn_classes_ \u001b[38;5;241m=\u001b[39m \u001b[38;5;28mself\u001b[39m\u001b[38;5;241m.\u001b[39mn_classes_[\u001b[38;5;241m0\u001b[39m]\n",
      "\u001b[1;31mKeyboardInterrupt\u001b[0m: "
     ]
    }
   ],
   "source": [
    "for i in range(1,100):\n",
    "    model = RandomForestRegressor(random_state=i)\n",
    "    model.fit(xtrain, ytrain)\n",
    "    if model.score(xtrain,ytrain)> 0.98:\n",
    "        print(i,model.score(xtrain,ytrain), model.score(xtest,ytest))"
   ]
  },
  {
   "cell_type": "code",
   "execution_count": null,
   "id": "b714a3b7226e1908",
   "metadata": {
    "ExecuteTime": {
     "end_time": "2024-03-10T10:21:24.950085400Z",
     "start_time": "2024-03-10T10:21:24.488801Z"
    },
    "collapsed": false
   },
   "outputs": [
    {
     "data": {
      "text/html": [
       "<style>#sk-container-id-14 {color: black;}#sk-container-id-14 pre{padding: 0;}#sk-container-id-14 div.sk-toggleable {background-color: white;}#sk-container-id-14 label.sk-toggleable__label {cursor: pointer;display: block;width: 100%;margin-bottom: 0;padding: 0.3em;box-sizing: border-box;text-align: center;}#sk-container-id-14 label.sk-toggleable__label-arrow:before {content: \"▸\";float: left;margin-right: 0.25em;color: #696969;}#sk-container-id-14 label.sk-toggleable__label-arrow:hover:before {color: black;}#sk-container-id-14 div.sk-estimator:hover label.sk-toggleable__label-arrow:before {color: black;}#sk-container-id-14 div.sk-toggleable__content {max-height: 0;max-width: 0;overflow: hidden;text-align: left;background-color: #f0f8ff;}#sk-container-id-14 div.sk-toggleable__content pre {margin: 0.2em;color: black;border-radius: 0.25em;background-color: #f0f8ff;}#sk-container-id-14 input.sk-toggleable__control:checked~div.sk-toggleable__content {max-height: 200px;max-width: 100%;overflow: auto;}#sk-container-id-14 input.sk-toggleable__control:checked~label.sk-toggleable__label-arrow:before {content: \"▾\";}#sk-container-id-14 div.sk-estimator input.sk-toggleable__control:checked~label.sk-toggleable__label {background-color: #d4ebff;}#sk-container-id-14 div.sk-label input.sk-toggleable__control:checked~label.sk-toggleable__label {background-color: #d4ebff;}#sk-container-id-14 input.sk-hidden--visually {border: 0;clip: rect(1px 1px 1px 1px);clip: rect(1px, 1px, 1px, 1px);height: 1px;margin: -1px;overflow: hidden;padding: 0;position: absolute;width: 1px;}#sk-container-id-14 div.sk-estimator {font-family: monospace;background-color: #f0f8ff;border: 1px dotted black;border-radius: 0.25em;box-sizing: border-box;margin-bottom: 0.5em;}#sk-container-id-14 div.sk-estimator:hover {background-color: #d4ebff;}#sk-container-id-14 div.sk-parallel-item::after {content: \"\";width: 100%;border-bottom: 1px solid gray;flex-grow: 1;}#sk-container-id-14 div.sk-label:hover label.sk-toggleable__label {background-color: #d4ebff;}#sk-container-id-14 div.sk-serial::before {content: \"\";position: absolute;border-left: 1px solid gray;box-sizing: border-box;top: 0;bottom: 0;left: 50%;z-index: 0;}#sk-container-id-14 div.sk-serial {display: flex;flex-direction: column;align-items: center;background-color: white;padding-right: 0.2em;padding-left: 0.2em;position: relative;}#sk-container-id-14 div.sk-item {position: relative;z-index: 1;}#sk-container-id-14 div.sk-parallel {display: flex;align-items: stretch;justify-content: center;background-color: white;position: relative;}#sk-container-id-14 div.sk-item::before, #sk-container-id-14 div.sk-parallel-item::before {content: \"\";position: absolute;border-left: 1px solid gray;box-sizing: border-box;top: 0;bottom: 0;left: 50%;z-index: -1;}#sk-container-id-14 div.sk-parallel-item {display: flex;flex-direction: column;z-index: 1;position: relative;background-color: white;}#sk-container-id-14 div.sk-parallel-item:first-child::after {align-self: flex-end;width: 50%;}#sk-container-id-14 div.sk-parallel-item:last-child::after {align-self: flex-start;width: 50%;}#sk-container-id-14 div.sk-parallel-item:only-child::after {width: 0;}#sk-container-id-14 div.sk-dashed-wrapped {border: 1px dashed gray;margin: 0 0.4em 0.5em 0.4em;box-sizing: border-box;padding-bottom: 0.4em;background-color: white;}#sk-container-id-14 div.sk-label label {font-family: monospace;font-weight: bold;display: inline-block;line-height: 1.2em;}#sk-container-id-14 div.sk-label-container {text-align: center;}#sk-container-id-14 div.sk-container {/* jupyter's `normalize.less` sets `[hidden] { display: none; }` but bootstrap.min.css set `[hidden] { display: none !important; }` so we also need the `!important` here to be able to override the default hidden behavior on the sphinx rendered scikit-learn.org. See: https://github.com/scikit-learn/scikit-learn/issues/21755 */display: inline-block !important;position: relative;}#sk-container-id-14 div.sk-text-repr-fallback {display: none;}</style><div id=\"sk-container-id-14\" class=\"sk-top-container\"><div class=\"sk-text-repr-fallback\"><pre>RandomForestRegressor(random_state=31)</pre><b>In a Jupyter environment, please rerun this cell to show the HTML representation or trust the notebook. <br />On GitHub, the HTML representation is unable to render, please try loading this page with nbviewer.org.</b></div><div class=\"sk-container\" hidden><div class=\"sk-item\"><div class=\"sk-estimator sk-toggleable\"><input class=\"sk-toggleable__control sk-hidden--visually\" id=\"sk-estimator-id-16\" type=\"checkbox\" checked><label for=\"sk-estimator-id-16\" class=\"sk-toggleable__label sk-toggleable__label-arrow\">RandomForestRegressor</label><div class=\"sk-toggleable__content\"><pre>RandomForestRegressor(random_state=31)</pre></div></div></div></div></div>"
      ],
      "text/plain": [
       "RandomForestRegressor(random_state=31)"
      ]
     },
     "execution_count": 244,
     "metadata": {},
     "output_type": "execute_result"
    }
   ],
   "source": [
    "model = RandomForestRegressor(random_state=31)\n",
    "model.fit(xtrain, ytrain)"
   ]
  },
  {
   "cell_type": "code",
   "execution_count": null,
   "id": "23040fbd8d8426ac",
   "metadata": {
    "ExecuteTime": {
     "end_time": "2024-03-10T10:21:26.080149900Z",
     "start_time": "2024-03-10T10:21:26.050029900Z"
    },
    "collapsed": false
   },
   "outputs": [
    {
     "data": {
      "text/plain": [
       "(0.9823189394248952, 0.9475840896017644)"
      ]
     },
     "execution_count": 245,
     "metadata": {},
     "output_type": "execute_result"
    }
   ],
   "source": [
    "model.score(xtrain,ytrain),model.score(xtest, ytest) # 조금 과적합"
   ]
  },
  {
   "cell_type": "code",
   "execution_count": null,
   "id": "7bdb1a107f07978",
   "metadata": {
    "ExecuteTime": {
     "end_time": "2024-03-10T10:21:27.186111300Z",
     "start_time": "2024-03-10T10:21:26.993567900Z"
    },
    "collapsed": false
   },
   "outputs": [
    {
     "data": {
      "text/plain": [
       "Text(0.5, 1.0, '[feature importance]')"
      ]
     },
     "execution_count": 246,
     "metadata": {},
     "output_type": "execute_result"
    },
    {
     "data": {
      "image/png": "[encoded data removed]",
      "text/plain": [
       "<Figure size 640x480 with 1 Axes>"
      ]
     },
     "metadata": {},
     "output_type": "display_data"
    }
   ],
   "source": [
    "# feature importance 확인\n",
    "import_feature = pd.Series(model.feature_importances_, index=featureDF.columns)\n",
    "import_feature.sort_values(ascending=True, inplace=True)\n",
    "import_feature.plot(kind='barh')\n",
    "plt.title('[feature importance]')"
   ]
  },
  {
   "cell_type": "markdown",
   "id": "942b7b673ef918cc",
   "metadata": {
    "collapsed": false
   },
   "source": [
    "max_depth : 과적합을 방지하기 위하여 의사결정나무의 depth 최대 값을 제한\n",
    "min_samples_split : split을 끝낼 node의 sample 최소 갯수 선정, 클수록 과적합이 방지되지만, 너무 크면 split이 제대로 되지 않을 수 있음"
   ]
  },
  {
   "cell_type": "code",
   "execution_count": null,
   "id": "b6dc4659532c8ded",
   "metadata": {
    "ExecuteTime": {
     "end_time": "2024-03-10T10:24:31.360561800Z",
     "start_time": "2024-03-10T10:21:30.778815800Z"
    },
    "collapsed": false
   },
   "outputs": [
    {
     "data": {
      "text/html": [
       "<style>#sk-container-id-15 {color: black;}#sk-container-id-15 pre{padding: 0;}#sk-container-id-15 div.sk-toggleable {background-color: white;}#sk-container-id-15 label.sk-toggleable__label {cursor: pointer;display: block;width: 100%;margin-bottom: 0;padding: 0.3em;box-sizing: border-box;text-align: center;}#sk-container-id-15 label.sk-toggleable__label-arrow:before {content: \"▸\";float: left;margin-right: 0.25em;color: #696969;}#sk-container-id-15 label.sk-toggleable__label-arrow:hover:before {color: black;}#sk-container-id-15 div.sk-estimator:hover label.sk-toggleable__label-arrow:before {color: black;}#sk-container-id-15 div.sk-toggleable__content {max-height: 0;max-width: 0;overflow: hidden;text-align: left;background-color: #f0f8ff;}#sk-container-id-15 div.sk-toggleable__content pre {margin: 0.2em;color: black;border-radius: 0.25em;background-color: #f0f8ff;}#sk-container-id-15 input.sk-toggleable__control:checked~div.sk-toggleable__content {max-height: 200px;max-width: 100%;overflow: auto;}#sk-container-id-15 input.sk-toggleable__control:checked~label.sk-toggleable__label-arrow:before {content: \"▾\";}#sk-container-id-15 div.sk-estimator input.sk-toggleable__control:checked~label.sk-toggleable__label {background-color: #d4ebff;}#sk-container-id-15 div.sk-label input.sk-toggleable__control:checked~label.sk-toggleable__label {background-color: #d4ebff;}#sk-container-id-15 input.sk-hidden--visually {border: 0;clip: rect(1px 1px 1px 1px);clip: rect(1px, 1px, 1px, 1px);height: 1px;margin: -1px;overflow: hidden;padding: 0;position: absolute;width: 1px;}#sk-container-id-15 div.sk-estimator {font-family: monospace;background-color: #f0f8ff;border: 1px dotted black;border-radius: 0.25em;box-sizing: border-box;margin-bottom: 0.5em;}#sk-container-id-15 div.sk-estimator:hover {background-color: #d4ebff;}#sk-container-id-15 div.sk-parallel-item::after {content: \"\";width: 100%;border-bottom: 1px solid gray;flex-grow: 1;}#sk-container-id-15 div.sk-label:hover label.sk-toggleable__label {background-color: #d4ebff;}#sk-container-id-15 div.sk-serial::before {content: \"\";position: absolute;border-left: 1px solid gray;box-sizing: border-box;top: 0;bottom: 0;left: 50%;z-index: 0;}#sk-container-id-15 div.sk-serial {display: flex;flex-direction: column;align-items: center;background-color: white;padding-right: 0.2em;padding-left: 0.2em;position: relative;}#sk-container-id-15 div.sk-item {position: relative;z-index: 1;}#sk-container-id-15 div.sk-parallel {display: flex;align-items: stretch;justify-content: center;background-color: white;position: relative;}#sk-container-id-15 div.sk-item::before, #sk-container-id-15 div.sk-parallel-item::before {content: \"\";position: absolute;border-left: 1px solid gray;box-sizing: border-box;top: 0;bottom: 0;left: 50%;z-index: -1;}#sk-container-id-15 div.sk-parallel-item {display: flex;flex-direction: column;z-index: 1;position: relative;background-color: white;}#sk-container-id-15 div.sk-parallel-item:first-child::after {align-self: flex-end;width: 50%;}#sk-container-id-15 div.sk-parallel-item:last-child::after {align-self: flex-start;width: 50%;}#sk-container-id-15 div.sk-parallel-item:only-child::after {width: 0;}#sk-container-id-15 div.sk-dashed-wrapped {border: 1px dashed gray;margin: 0 0.4em 0.5em 0.4em;box-sizing: border-box;padding-bottom: 0.4em;background-color: white;}#sk-container-id-15 div.sk-label label {font-family: monospace;font-weight: bold;display: inline-block;line-height: 1.2em;}#sk-container-id-15 div.sk-label-container {text-align: center;}#sk-container-id-15 div.sk-container {/* jupyter's `normalize.less` sets `[hidden] { display: none; }` but bootstrap.min.css set `[hidden] { display: none !important; }` so we also need the `!important` here to be able to override the default hidden behavior on the sphinx rendered scikit-learn.org. See: https://github.com/scikit-learn/scikit-learn/issues/21755 */display: inline-block !important;position: relative;}#sk-container-id-15 div.sk-text-repr-fallback {display: none;}</style><div id=\"sk-container-id-15\" class=\"sk-top-container\"><div class=\"sk-text-repr-fallback\"><pre>GridSearchCV(estimator=RandomForestRegressor(random_state=31),\n",
       "             param_grid={&#x27;max_depth&#x27;: [5, 10, 15, 20],\n",
       "                         &#x27;min_samples_split&#x27;: [5, 10, 15, 20],\n",
       "                         &#x27;n_estimators&#x27;: [10, 50, 100, 200, 400]},\n",
       "             return_train_score=True)</pre><b>In a Jupyter environment, please rerun this cell to show the HTML representation or trust the notebook. <br />On GitHub, the HTML representation is unable to render, please try loading this page with nbviewer.org.</b></div><div class=\"sk-container\" hidden><div class=\"sk-item sk-dashed-wrapped\"><div class=\"sk-label-container\"><div class=\"sk-label sk-toggleable\"><input class=\"sk-toggleable__control sk-hidden--visually\" id=\"sk-estimator-id-17\" type=\"checkbox\" ><label for=\"sk-estimator-id-17\" class=\"sk-toggleable__label sk-toggleable__label-arrow\">GridSearchCV</label><div class=\"sk-toggleable__content\"><pre>GridSearchCV(estimator=RandomForestRegressor(random_state=31),\n",
       "             param_grid={&#x27;max_depth&#x27;: [5, 10, 15, 20],\n",
       "                         &#x27;min_samples_split&#x27;: [5, 10, 15, 20],\n",
       "                         &#x27;n_estimators&#x27;: [10, 50, 100, 200, 400]},\n",
       "             return_train_score=True)</pre></div></div></div><div class=\"sk-parallel\"><div class=\"sk-parallel-item\"><div class=\"sk-item\"><div class=\"sk-label-container\"><div class=\"sk-label sk-toggleable\"><input class=\"sk-toggleable__control sk-hidden--visually\" id=\"sk-estimator-id-18\" type=\"checkbox\" ><label for=\"sk-estimator-id-18\" class=\"sk-toggleable__label sk-toggleable__label-arrow\">estimator: RandomForestRegressor</label><div class=\"sk-toggleable__content\"><pre>RandomForestRegressor(random_state=31)</pre></div></div></div><div class=\"sk-serial\"><div class=\"sk-item\"><div class=\"sk-estimator sk-toggleable\"><input class=\"sk-toggleable__control sk-hidden--visually\" id=\"sk-estimator-id-19\" type=\"checkbox\" ><label for=\"sk-estimator-id-19\" class=\"sk-toggleable__label sk-toggleable__label-arrow\">RandomForestRegressor</label><div class=\"sk-toggleable__content\"><pre>RandomForestRegressor(random_state=31)</pre></div></div></div></div></div></div></div></div></div></div>"
      ],
      "text/plain": [
       "GridSearchCV(estimator=RandomForestRegressor(random_state=31),\n",
       "             param_grid={'max_depth': [5, 10, 15, 20],\n",
       "                         'min_samples_split': [5, 10, 15, 20],\n",
       "                         'n_estimators': [10, 50, 100, 200, 400]},\n",
       "             return_train_score=True)"
      ]
     },
     "execution_count": 247,
     "metadata": {},
     "output_type": "execute_result"
    }
   ],
   "source": [
    "# 랜덤 포레스트 모델 파라미터 조절\n",
    "\n",
    "params = { 'n_estimators' : [10,50,100,200,400],\n",
    "           'max_depth' : [5,10,15,20],\n",
    "           'min_samples_split' : [5,10,15,20],\n",
    "            }\n",
    "\n",
    "cv = GridSearchCV(model, param_grid=params,return_train_score=True)\n",
    "cv.fit(xtrain,ytrain)"
   ]
  },
  {
   "cell_type": "code",
   "execution_count": null,
   "id": "8425c0b6d19ef44f",
   "metadata": {
    "ExecuteTime": {
     "end_time": "2024-03-10T10:24:35.128811400Z",
     "start_time": "2024-03-10T10:24:35.103012800Z"
    },
    "collapsed": false
   },
   "outputs": [
    {
     "data": {
      "text/html": [
       "<div>\n",
       "<style scoped>\n",
       "    .dataframe tbody tr th:only-of-type {\n",
       "        vertical-align: middle;\n",
       "    }\n",
       "\n",
       "    .dataframe tbody tr th {\n",
       "        vertical-align: top;\n",
       "    }\n",
       "\n",
       "    .dataframe thead th {\n",
       "        text-align: right;\n",
       "    }\n",
       "</style>\n",
       "<table border=\"1\" class=\"dataframe\">\n",
       "  <thead>\n",
       "    <tr style=\"text-align: right;\">\n",
       "      <th></th>\n",
       "      <th>mean_fit_time</th>\n",
       "      <th>std_fit_time</th>\n",
       "      <th>mean_score_time</th>\n",
       "      <th>std_score_time</th>\n",
       "      <th>param_max_depth</th>\n",
       "      <th>param_min_samples_split</th>\n",
       "      <th>param_n_estimators</th>\n",
       "      <th>params</th>\n",
       "      <th>split0_test_score</th>\n",
       "      <th>split1_test_score</th>\n",
       "      <th>...</th>\n",
       "      <th>mean_test_score</th>\n",
       "      <th>std_test_score</th>\n",
       "      <th>rank_test_score</th>\n",
       "      <th>split0_train_score</th>\n",
       "      <th>split1_train_score</th>\n",
       "      <th>split2_train_score</th>\n",
       "      <th>split3_train_score</th>\n",
       "      <th>split4_train_score</th>\n",
       "      <th>mean_train_score</th>\n",
       "      <th>std_train_score</th>\n",
       "    </tr>\n",
       "  </thead>\n",
       "  <tbody>\n",
       "    <tr>\n",
       "      <th>0</th>\n",
       "      <td>0.018190</td>\n",
       "      <td>0.001125</td>\n",
       "      <td>0.001424</td>\n",
       "      <td>0.000499</td>\n",
       "      <td>5</td>\n",
       "      <td>5</td>\n",
       "      <td>10</td>\n",
       "      <td>{'max_depth': 5, 'min_samples_split': 5, 'n_es...</td>\n",
       "      <td>0.812389</td>\n",
       "      <td>0.857566</td>\n",
       "      <td>...</td>\n",
       "      <td>0.836795</td>\n",
       "      <td>0.037319</td>\n",
       "      <td>51</td>\n",
       "      <td>0.908964</td>\n",
       "      <td>0.923837</td>\n",
       "      <td>0.924962</td>\n",
       "      <td>0.924173</td>\n",
       "      <td>0.934568</td>\n",
       "      <td>0.923301</td>\n",
       "      <td>0.008201</td>\n",
       "    </tr>\n",
       "    <tr>\n",
       "      <th>1</th>\n",
       "      <td>0.127313</td>\n",
       "      <td>0.055978</td>\n",
       "      <td>0.004874</td>\n",
       "      <td>0.001498</td>\n",
       "      <td>5</td>\n",
       "      <td>5</td>\n",
       "      <td>50</td>\n",
       "      <td>{'max_depth': 5, 'min_samples_split': 5, 'n_es...</td>\n",
       "      <td>0.836078</td>\n",
       "      <td>0.868956</td>\n",
       "      <td>...</td>\n",
       "      <td>0.839216</td>\n",
       "      <td>0.043481</td>\n",
       "      <td>37</td>\n",
       "      <td>0.914278</td>\n",
       "      <td>0.928131</td>\n",
       "      <td>0.926621</td>\n",
       "      <td>0.925017</td>\n",
       "      <td>0.935887</td>\n",
       "      <td>0.925987</td>\n",
       "      <td>0.006943</td>\n",
       "    </tr>\n",
       "    <tr>\n",
       "      <th>2</th>\n",
       "      <td>0.246038</td>\n",
       "      <td>0.014073</td>\n",
       "      <td>0.009586</td>\n",
       "      <td>0.001218</td>\n",
       "      <td>5</td>\n",
       "      <td>5</td>\n",
       "      <td>100</td>\n",
       "      <td>{'max_depth': 5, 'min_samples_split': 5, 'n_es...</td>\n",
       "      <td>0.821792</td>\n",
       "      <td>0.869040</td>\n",
       "      <td>...</td>\n",
       "      <td>0.836942</td>\n",
       "      <td>0.041445</td>\n",
       "      <td>50</td>\n",
       "      <td>0.913025</td>\n",
       "      <td>0.927530</td>\n",
       "      <td>0.927991</td>\n",
       "      <td>0.924200</td>\n",
       "      <td>0.935851</td>\n",
       "      <td>0.925719</td>\n",
       "      <td>0.007410</td>\n",
       "    </tr>\n",
       "    <tr>\n",
       "      <th>3</th>\n",
       "      <td>0.501319</td>\n",
       "      <td>0.051990</td>\n",
       "      <td>0.017482</td>\n",
       "      <td>0.001766</td>\n",
       "      <td>5</td>\n",
       "      <td>5</td>\n",
       "      <td>200</td>\n",
       "      <td>{'max_depth': 5, 'min_samples_split': 5, 'n_es...</td>\n",
       "      <td>0.828085</td>\n",
       "      <td>0.866512</td>\n",
       "      <td>...</td>\n",
       "      <td>0.838175</td>\n",
       "      <td>0.041310</td>\n",
       "      <td>45</td>\n",
       "      <td>0.913108</td>\n",
       "      <td>0.926059</td>\n",
       "      <td>0.927921</td>\n",
       "      <td>0.924187</td>\n",
       "      <td>0.935997</td>\n",
       "      <td>0.925454</td>\n",
       "      <td>0.007371</td>\n",
       "    </tr>\n",
       "    <tr>\n",
       "      <th>4</th>\n",
       "      <td>0.983892</td>\n",
       "      <td>0.087797</td>\n",
       "      <td>0.033831</td>\n",
       "      <td>0.002231</td>\n",
       "      <td>5</td>\n",
       "      <td>5</td>\n",
       "      <td>400</td>\n",
       "      <td>{'max_depth': 5, 'min_samples_split': 5, 'n_es...</td>\n",
       "      <td>0.824722</td>\n",
       "      <td>0.865707</td>\n",
       "      <td>...</td>\n",
       "      <td>0.837750</td>\n",
       "      <td>0.039766</td>\n",
       "      <td>46</td>\n",
       "      <td>0.912654</td>\n",
       "      <td>0.926786</td>\n",
       "      <td>0.927504</td>\n",
       "      <td>0.924080</td>\n",
       "      <td>0.934394</td>\n",
       "      <td>0.925084</td>\n",
       "      <td>0.007084</td>\n",
       "    </tr>\n",
       "    <tr>\n",
       "      <th>...</th>\n",
       "      <td>...</td>\n",
       "      <td>...</td>\n",
       "      <td>...</td>\n",
       "      <td>...</td>\n",
       "      <td>...</td>\n",
       "      <td>...</td>\n",
       "      <td>...</td>\n",
       "      <td>...</td>\n",
       "      <td>...</td>\n",
       "      <td>...</td>\n",
       "      <td>...</td>\n",
       "      <td>...</td>\n",
       "      <td>...</td>\n",
       "      <td>...</td>\n",
       "      <td>...</td>\n",
       "      <td>...</td>\n",
       "      <td>...</td>\n",
       "      <td>...</td>\n",
       "      <td>...</td>\n",
       "      <td>...</td>\n",
       "      <td>...</td>\n",
       "    </tr>\n",
       "    <tr>\n",
       "      <th>75</th>\n",
       "      <td>0.027507</td>\n",
       "      <td>0.002325</td>\n",
       "      <td>0.001795</td>\n",
       "      <td>0.000399</td>\n",
       "      <td>20</td>\n",
       "      <td>20</td>\n",
       "      <td>10</td>\n",
       "      <td>{'max_depth': 20, 'min_samples_split': 20, 'n_...</td>\n",
       "      <td>0.764947</td>\n",
       "      <td>0.880862</td>\n",
       "      <td>...</td>\n",
       "      <td>0.825477</td>\n",
       "      <td>0.054830</td>\n",
       "      <td>73</td>\n",
       "      <td>0.887722</td>\n",
       "      <td>0.909500</td>\n",
       "      <td>0.908819</td>\n",
       "      <td>0.919569</td>\n",
       "      <td>0.898395</td>\n",
       "      <td>0.904801</td>\n",
       "      <td>0.010854</td>\n",
       "    </tr>\n",
       "    <tr>\n",
       "      <th>76</th>\n",
       "      <td>0.131149</td>\n",
       "      <td>0.004841</td>\n",
       "      <td>0.004187</td>\n",
       "      <td>0.000399</td>\n",
       "      <td>20</td>\n",
       "      <td>20</td>\n",
       "      <td>50</td>\n",
       "      <td>{'max_depth': 20, 'min_samples_split': 20, 'n_...</td>\n",
       "      <td>0.794231</td>\n",
       "      <td>0.889825</td>\n",
       "      <td>...</td>\n",
       "      <td>0.834951</td>\n",
       "      <td>0.051896</td>\n",
       "      <td>54</td>\n",
       "      <td>0.898956</td>\n",
       "      <td>0.912001</td>\n",
       "      <td>0.913735</td>\n",
       "      <td>0.921032</td>\n",
       "      <td>0.914798</td>\n",
       "      <td>0.912104</td>\n",
       "      <td>0.007246</td>\n",
       "    </tr>\n",
       "    <tr>\n",
       "      <th>77</th>\n",
       "      <td>0.228184</td>\n",
       "      <td>0.006462</td>\n",
       "      <td>0.006654</td>\n",
       "      <td>0.000416</td>\n",
       "      <td>20</td>\n",
       "      <td>20</td>\n",
       "      <td>100</td>\n",
       "      <td>{'max_depth': 20, 'min_samples_split': 20, 'n_...</td>\n",
       "      <td>0.781817</td>\n",
       "      <td>0.887904</td>\n",
       "      <td>...</td>\n",
       "      <td>0.830862</td>\n",
       "      <td>0.050240</td>\n",
       "      <td>63</td>\n",
       "      <td>0.896313</td>\n",
       "      <td>0.911805</td>\n",
       "      <td>0.920536</td>\n",
       "      <td>0.917058</td>\n",
       "      <td>0.918072</td>\n",
       "      <td>0.912757</td>\n",
       "      <td>0.008701</td>\n",
       "    </tr>\n",
       "    <tr>\n",
       "      <th>78</th>\n",
       "      <td>0.491719</td>\n",
       "      <td>0.015158</td>\n",
       "      <td>0.014063</td>\n",
       "      <td>0.000989</td>\n",
       "      <td>20</td>\n",
       "      <td>20</td>\n",
       "      <td>200</td>\n",
       "      <td>{'max_depth': 20, 'min_samples_split': 20, 'n_...</td>\n",
       "      <td>0.787482</td>\n",
       "      <td>0.886196</td>\n",
       "      <td>...</td>\n",
       "      <td>0.831467</td>\n",
       "      <td>0.048336</td>\n",
       "      <td>61</td>\n",
       "      <td>0.896870</td>\n",
       "      <td>0.910770</td>\n",
       "      <td>0.921923</td>\n",
       "      <td>0.915545</td>\n",
       "      <td>0.917059</td>\n",
       "      <td>0.912433</td>\n",
       "      <td>0.008557</td>\n",
       "    </tr>\n",
       "    <tr>\n",
       "      <th>79</th>\n",
       "      <td>0.975200</td>\n",
       "      <td>0.043259</td>\n",
       "      <td>0.026655</td>\n",
       "      <td>0.000477</td>\n",
       "      <td>20</td>\n",
       "      <td>20</td>\n",
       "      <td>400</td>\n",
       "      <td>{'max_depth': 20, 'min_samples_split': 20, 'n_...</td>\n",
       "      <td>0.787427</td>\n",
       "      <td>0.885376</td>\n",
       "      <td>...</td>\n",
       "      <td>0.829262</td>\n",
       "      <td>0.049308</td>\n",
       "      <td>68</td>\n",
       "      <td>0.896631</td>\n",
       "      <td>0.909605</td>\n",
       "      <td>0.920731</td>\n",
       "      <td>0.916699</td>\n",
       "      <td>0.911212</td>\n",
       "      <td>0.910976</td>\n",
       "      <td>0.008193</td>\n",
       "    </tr>\n",
       "  </tbody>\n",
       "</table>\n",
       "<p>80 rows × 23 columns</p>\n",
       "</div>"
      ],
      "text/plain": [
       "    mean_fit_time  std_fit_time  mean_score_time  std_score_time  \\\n",
       "0        0.018190      0.001125         0.001424        0.000499   \n",
       "1        0.127313      0.055978         0.004874        0.001498   \n",
       "2        0.246038      0.014073         0.009586        0.001218   \n",
       "3        0.501319      0.051990         0.017482        0.001766   \n",
       "4        0.983892      0.087797         0.033831        0.002231   \n",
       "..            ...           ...              ...             ...   \n",
       "75       0.027507      0.002325         0.001795        0.000399   \n",
       "76       0.131149      0.004841         0.004187        0.000399   \n",
       "77       0.228184      0.006462         0.006654        0.000416   \n",
       "78       0.491719      0.015158         0.014063        0.000989   \n",
       "79       0.975200      0.043259         0.026655        0.000477   \n",
       "\n",
       "   param_max_depth param_min_samples_split param_n_estimators  \\\n",
       "0                5                       5                 10   \n",
       "1                5                       5                 50   \n",
       "2                5                       5                100   \n",
       "3                5                       5                200   \n",
       "4                5                       5                400   \n",
       "..             ...                     ...                ...   \n",
       "75              20                      20                 10   \n",
       "76              20                      20                 50   \n",
       "77              20                      20                100   \n",
       "78              20                      20                200   \n",
       "79              20                      20                400   \n",
       "\n",
       "                                               params  split0_test_score  \\\n",
       "0   {'max_depth': 5, 'min_samples_split': 5, 'n_es...           0.812389   \n",
       "1   {'max_depth': 5, 'min_samples_split': 5, 'n_es...           0.836078   \n",
       "2   {'max_depth': 5, 'min_samples_split': 5, 'n_es...           0.821792   \n",
       "3   {'max_depth': 5, 'min_samples_split': 5, 'n_es...           0.828085   \n",
       "4   {'max_depth': 5, 'min_samples_split': 5, 'n_es...           0.824722   \n",
       "..                                                ...                ...   \n",
       "75  {'max_depth': 20, 'min_samples_split': 20, 'n_...           0.764947   \n",
       "76  {'max_depth': 20, 'min_samples_split': 20, 'n_...           0.794231   \n",
       "77  {'max_depth': 20, 'min_samples_split': 20, 'n_...           0.781817   \n",
       "78  {'max_depth': 20, 'min_samples_split': 20, 'n_...           0.787482   \n",
       "79  {'max_depth': 20, 'min_samples_split': 20, 'n_...           0.787427   \n",
       "\n",
       "    split1_test_score  ...  mean_test_score  std_test_score  rank_test_score  \\\n",
       "0            0.857566  ...         0.836795        0.037319               51   \n",
       "1            0.868956  ...         0.839216        0.043481               37   \n",
       "2            0.869040  ...         0.836942        0.041445               50   \n",
       "3            0.866512  ...         0.838175        0.041310               45   \n",
       "4            0.865707  ...         0.837750        0.039766               46   \n",
       "..                ...  ...              ...             ...              ...   \n",
       "75           0.880862  ...         0.825477        0.054830               73   \n",
       "76           0.889825  ...         0.834951        0.051896               54   \n",
       "77           0.887904  ...         0.830862        0.050240               63   \n",
       "78           0.886196  ...         0.831467        0.048336               61   \n",
       "79           0.885376  ...         0.829262        0.049308               68   \n",
       "\n",
       "    split0_train_score  split1_train_score  split2_train_score  \\\n",
       "0             0.908964            0.923837            0.924962   \n",
       "1             0.914278            0.928131            0.926621   \n",
       "2             0.913025            0.927530            0.927991   \n",
       "3             0.913108            0.926059            0.927921   \n",
       "4             0.912654            0.926786            0.927504   \n",
       "..                 ...                 ...                 ...   \n",
       "75            0.887722            0.909500            0.908819   \n",
       "76            0.898956            0.912001            0.913735   \n",
       "77            0.896313            0.911805            0.920536   \n",
       "78            0.896870            0.910770            0.921923   \n",
       "79            0.896631            0.909605            0.920731   \n",
       "\n",
       "    split3_train_score  split4_train_score  mean_train_score  std_train_score  \n",
       "0             0.924173            0.934568          0.923301         0.008201  \n",
       "1             0.925017            0.935887          0.925987         0.006943  \n",
       "2             0.924200            0.935851          0.925719         0.007410  \n",
       "3             0.924187            0.935997          0.925454         0.007371  \n",
       "4             0.924080            0.934394          0.925084         0.007084  \n",
       "..                 ...                 ...               ...              ...  \n",
       "75            0.919569            0.898395          0.904801         0.010854  \n",
       "76            0.921032            0.914798          0.912104         0.007246  \n",
       "77            0.917058            0.918072          0.912757         0.008701  \n",
       "78            0.915545            0.917059          0.912433         0.008557  \n",
       "79            0.916699            0.911212          0.910976         0.008193  \n",
       "\n",
       "[80 rows x 23 columns]"
      ]
     },
     "execution_count": 248,
     "metadata": {},
     "output_type": "execute_result"
    }
   ],
   "source": [
    "pd.DataFrame(cv.cv_results_)"
   ]
  },
  {
   "cell_type": "code",
   "execution_count": null,
   "id": "541ddf8f4a32dba1",
   "metadata": {
    "ExecuteTime": {
     "end_time": "2024-03-10T10:24:39.395606700Z",
     "start_time": "2024-03-10T10:24:39.386041300Z"
    },
    "collapsed": false
   },
   "outputs": [
    {
     "data": {
      "text/html": [
       "<style>#sk-container-id-16 {color: black;}#sk-container-id-16 pre{padding: 0;}#sk-container-id-16 div.sk-toggleable {background-color: white;}#sk-container-id-16 label.sk-toggleable__label {cursor: pointer;display: block;width: 100%;margin-bottom: 0;padding: 0.3em;box-sizing: border-box;text-align: center;}#sk-container-id-16 label.sk-toggleable__label-arrow:before {content: \"▸\";float: left;margin-right: 0.25em;color: #696969;}#sk-container-id-16 label.sk-toggleable__label-arrow:hover:before {color: black;}#sk-container-id-16 div.sk-estimator:hover label.sk-toggleable__label-arrow:before {color: black;}#sk-container-id-16 div.sk-toggleable__content {max-height: 0;max-width: 0;overflow: hidden;text-align: left;background-color: #f0f8ff;}#sk-container-id-16 div.sk-toggleable__content pre {margin: 0.2em;color: black;border-radius: 0.25em;background-color: #f0f8ff;}#sk-container-id-16 input.sk-toggleable__control:checked~div.sk-toggleable__content {max-height: 200px;max-width: 100%;overflow: auto;}#sk-container-id-16 input.sk-toggleable__control:checked~label.sk-toggleable__label-arrow:before {content: \"▾\";}#sk-container-id-16 div.sk-estimator input.sk-toggleable__control:checked~label.sk-toggleable__label {background-color: #d4ebff;}#sk-container-id-16 div.sk-label input.sk-toggleable__control:checked~label.sk-toggleable__label {background-color: #d4ebff;}#sk-container-id-16 input.sk-hidden--visually {border: 0;clip: rect(1px 1px 1px 1px);clip: rect(1px, 1px, 1px, 1px);height: 1px;margin: -1px;overflow: hidden;padding: 0;position: absolute;width: 1px;}#sk-container-id-16 div.sk-estimator {font-family: monospace;background-color: #f0f8ff;border: 1px dotted black;border-radius: 0.25em;box-sizing: border-box;margin-bottom: 0.5em;}#sk-container-id-16 div.sk-estimator:hover {background-color: #d4ebff;}#sk-container-id-16 div.sk-parallel-item::after {content: \"\";width: 100%;border-bottom: 1px solid gray;flex-grow: 1;}#sk-container-id-16 div.sk-label:hover label.sk-toggleable__label {background-color: #d4ebff;}#sk-container-id-16 div.sk-serial::before {content: \"\";position: absolute;border-left: 1px solid gray;box-sizing: border-box;top: 0;bottom: 0;left: 50%;z-index: 0;}#sk-container-id-16 div.sk-serial {display: flex;flex-direction: column;align-items: center;background-color: white;padding-right: 0.2em;padding-left: 0.2em;position: relative;}#sk-container-id-16 div.sk-item {position: relative;z-index: 1;}#sk-container-id-16 div.sk-parallel {display: flex;align-items: stretch;justify-content: center;background-color: white;position: relative;}#sk-container-id-16 div.sk-item::before, #sk-container-id-16 div.sk-parallel-item::before {content: \"\";position: absolute;border-left: 1px solid gray;box-sizing: border-box;top: 0;bottom: 0;left: 50%;z-index: -1;}#sk-container-id-16 div.sk-parallel-item {display: flex;flex-direction: column;z-index: 1;position: relative;background-color: white;}#sk-container-id-16 div.sk-parallel-item:first-child::after {align-self: flex-end;width: 50%;}#sk-container-id-16 div.sk-parallel-item:last-child::after {align-self: flex-start;width: 50%;}#sk-container-id-16 div.sk-parallel-item:only-child::after {width: 0;}#sk-container-id-16 div.sk-dashed-wrapped {border: 1px dashed gray;margin: 0 0.4em 0.5em 0.4em;box-sizing: border-box;padding-bottom: 0.4em;background-color: white;}#sk-container-id-16 div.sk-label label {font-family: monospace;font-weight: bold;display: inline-block;line-height: 1.2em;}#sk-container-id-16 div.sk-label-container {text-align: center;}#sk-container-id-16 div.sk-container {/* jupyter's `normalize.less` sets `[hidden] { display: none; }` but bootstrap.min.css set `[hidden] { display: none !important; }` so we also need the `!important` here to be able to override the default hidden behavior on the sphinx rendered scikit-learn.org. See: https://github.com/scikit-learn/scikit-learn/issues/21755 */display: inline-block !important;position: relative;}#sk-container-id-16 div.sk-text-repr-fallback {display: none;}</style><div id=\"sk-container-id-16\" class=\"sk-top-container\"><div class=\"sk-text-repr-fallback\"><pre>RandomForestRegressor(max_depth=20, min_samples_split=5, n_estimators=50,\n",
       "                      random_state=31)</pre><b>In a Jupyter environment, please rerun this cell to show the HTML representation or trust the notebook. <br />On GitHub, the HTML representation is unable to render, please try loading this page with nbviewer.org.</b></div><div class=\"sk-container\" hidden><div class=\"sk-item\"><div class=\"sk-estimator sk-toggleable\"><input class=\"sk-toggleable__control sk-hidden--visually\" id=\"sk-estimator-id-20\" type=\"checkbox\" checked><label for=\"sk-estimator-id-20\" class=\"sk-toggleable__label sk-toggleable__label-arrow\">RandomForestRegressor</label><div class=\"sk-toggleable__content\"><pre>RandomForestRegressor(max_depth=20, min_samples_split=5, n_estimators=50,\n",
       "                      random_state=31)</pre></div></div></div></div></div>"
      ],
      "text/plain": [
       "RandomForestRegressor(max_depth=20, min_samples_split=5, n_estimators=50,\n",
       "                      random_state=31)"
      ]
     },
     "execution_count": 249,
     "metadata": {},
     "output_type": "execute_result"
    }
   ],
   "source": [
    "best_model = cv.best_estimator_\n",
    "cv.best_estimator_"
   ]
  },
  {
   "cell_type": "code",
   "execution_count": null,
   "id": "6338d2578ff5d2fc",
   "metadata": {
    "ExecuteTime": {
     "end_time": "2024-03-10T10:25:40.955583900Z",
     "start_time": "2024-03-10T10:25:40.931308900Z"
    },
    "collapsed": false
   },
   "outputs": [
    {
     "data": {
      "text/plain": [
       "(0.9696443644567738, 0.954502024193393)"
      ]
     },
     "execution_count": 250,
     "metadata": {},
     "output_type": "execute_result"
    }
   ],
   "source": [
    "best_model.score(xtrain,ytrain),best_model.score(xtest,ytest) # 와 씨 과적합 해결;;"
   ]
  },
  {
   "cell_type": "code",
   "execution_count": null,
   "id": "e71819c18982c895",
   "metadata": {
    "ExecuteTime": {
     "end_time": "2024-03-10T10:26:00.845872800Z",
     "start_time": "2024-03-10T10:26:00.836769300Z"
    },
    "collapsed": false
   },
   "outputs": [],
   "source": [
    "import joblib\n",
    "import os"
   ]
  },
  {
   "cell_type": "code",
   "execution_count": null,
   "id": "b62e4ea03bd7e3dc",
   "metadata": {
    "ExecuteTime": {
     "end_time": "2024-03-10T10:31:03.773385500Z",
     "start_time": "2024-03-10T10:31:03.754496100Z"
    },
    "collapsed": false
   },
   "outputs": [
    {
     "data": {
      "text/plain": [
       "['../model/hamburger_rf.pkl']"
      ]
     },
     "execution_count": 253,
     "metadata": {},
     "output_type": "execute_result"
    }
   ],
   "source": [
    "# 모델 저장\n",
    "model_dir = '../model/'\n",
    "model_filename = model_dir + 'hamburger_rf.pkl'\n",
    "\n",
    "# 저장 폴더 존재 여부 확인 후 저장\n",
    "if not os.path.exists(model_dir):\n",
    "        os.makedirs(model_dir)\n",
    "        \n",
    "joblib.dump(best_model,model_filename)"
   ]
  },
  {
   "cell_type": "code",
   "execution_count": null,
   "id": "c7017cdefe56b2e0",
   "metadata": {
    "collapsed": false
   },
   "outputs": [],
   "source": []
  }
 ],
 "metadata": {
  "kernelspec": {
   "display_name": "Python 3",
   "language": "python",
   "name": "python3"
  },
  "language_info": {
   "codemirror_mode": {
    "name": "ipython",
    "version": 3
   },
   "file_extension": ".py",
   "mimetype": "text/x-python",
   "name": "python",
   "nbconvert_exporter": "python",
   "pygments_lexer": "ipython3",
   "version": "3.9.18"
  }
 },
 "nbformat": 4,
 "nbformat_minor": 5
}
