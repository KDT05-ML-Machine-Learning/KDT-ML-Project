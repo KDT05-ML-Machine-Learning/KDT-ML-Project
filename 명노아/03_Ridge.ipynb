{
 "cells": [
  {
   "cell_type": "code",
   "execution_count": 38,
   "metadata": {},
   "outputs": [],
   "source": [
    "import pandas as pd\n",
    "import numpy as np\n",
    "\n",
    "df=pd.read_csv(\"Hamburger.csv\")"
   ]
  },
  {
   "cell_type": "code",
   "execution_count": 39,
   "metadata": {},
   "outputs": [
    {
     "data": {
      "text/plain": [
       "restaurant    0\n",
       "item          0\n",
       "calories      0\n",
       "sodium        0\n",
       "sugar         0\n",
       "total_fat     0\n",
       "protein       0\n",
       "dtype: int64"
      ]
     },
     "execution_count": 39,
     "metadata": {},
     "output_type": "execute_result"
    }
   ],
   "source": [
    "df.isna().sum()"
   ]
  },
  {
   "cell_type": "code",
   "execution_count": 40,
   "metadata": {},
   "outputs": [
    {
     "name": "stdout",
     "output_type": "stream",
     "text": [
      "('BayesianRidge', <class 'sklearn.linear_model._bayes.BayesianRidge'>)\n",
      "('KernelRidge', <class 'sklearn.kernel_ridge.KernelRidge'>)\n",
      "('Ridge', <class 'sklearn.linear_model._ridge.Ridge'>)\n",
      "('RidgeCV', <class 'sklearn.linear_model._ridge.RidgeCV'>)\n"
     ]
    }
   ],
   "source": [
    "from sklearn.utils.discovery import all_estimators\n",
    "# 다음 4개에 대해서 진행! \n",
    "estimators=all_estimators(type_filter='regressor')\n",
    "for i in estimators:\n",
    "    if \"Ridge\" in i[0] :\n",
    "        print(i)"
   ]
  },
  {
   "cell_type": "code",
   "execution_count": 41,
   "metadata": {},
   "outputs": [],
   "source": [
    "from sklearn.linear_model import Ridge          # Ridge 회귀분석\n",
    "from sklearn.kernel_ridge import KernelRidge\n",
    "from sklearn.linear_model import RidgeCV\n",
    "from sklearn.linear_model import BayesianRidge\n",
    "\n",
    "from sklearn.model_selection import GridSearchCV # 최적의 파라미터를 찾기 위한 그리드서치 및 기타 기능 import\n",
    "from sklearn.model_selection import train_test_split\n",
    "from sklearn.preprocessing import StandardScaler"
   ]
  },
  {
   "cell_type": "code",
   "execution_count": 42,
   "metadata": {},
   "outputs": [
    {
     "data": {
      "text/html": [
       "<div>\n",
       "<style scoped>\n",
       "    .dataframe tbody tr th:only-of-type {\n",
       "        vertical-align: middle;\n",
       "    }\n",
       "\n",
       "    .dataframe tbody tr th {\n",
       "        vertical-align: top;\n",
       "    }\n",
       "\n",
       "    .dataframe thead th {\n",
       "        text-align: right;\n",
       "    }\n",
       "</style>\n",
       "<table border=\"1\" class=\"dataframe\">\n",
       "  <thead>\n",
       "    <tr style=\"text-align: right;\">\n",
       "      <th></th>\n",
       "      <th>restaurant</th>\n",
       "      <th>item</th>\n",
       "      <th>calories</th>\n",
       "      <th>sodium</th>\n",
       "      <th>sugar</th>\n",
       "      <th>total_fat</th>\n",
       "      <th>protein</th>\n",
       "    </tr>\n",
       "  </thead>\n",
       "  <tbody>\n",
       "    <tr>\n",
       "      <th>0</th>\n",
       "      <td>Mcdonalds</td>\n",
       "      <td>Artisan Grilled Chicken Sandwich</td>\n",
       "      <td>380.0</td>\n",
       "      <td>1110.0</td>\n",
       "      <td>11.0</td>\n",
       "      <td>7.0</td>\n",
       "      <td>37.0</td>\n",
       "    </tr>\n",
       "    <tr>\n",
       "      <th>1</th>\n",
       "      <td>Mcdonalds</td>\n",
       "      <td>Single Bacon Smokehouse Burger</td>\n",
       "      <td>840.0</td>\n",
       "      <td>1580.0</td>\n",
       "      <td>18.0</td>\n",
       "      <td>45.0</td>\n",
       "      <td>46.0</td>\n",
       "    </tr>\n",
       "    <tr>\n",
       "      <th>2</th>\n",
       "      <td>Mcdonalds</td>\n",
       "      <td>Double Bacon Smokehouse Burger</td>\n",
       "      <td>1130.0</td>\n",
       "      <td>1920.0</td>\n",
       "      <td>18.0</td>\n",
       "      <td>67.0</td>\n",
       "      <td>70.0</td>\n",
       "    </tr>\n",
       "  </tbody>\n",
       "</table>\n",
       "</div>"
      ],
      "text/plain": [
       "  restaurant                              item  calories  sodium  sugar  \\\n",
       "0  Mcdonalds  Artisan Grilled Chicken Sandwich     380.0  1110.0   11.0   \n",
       "1  Mcdonalds    Single Bacon Smokehouse Burger     840.0  1580.0   18.0   \n",
       "2  Mcdonalds    Double Bacon Smokehouse Burger    1130.0  1920.0   18.0   \n",
       "\n",
       "   total_fat  protein  \n",
       "0        7.0     37.0  \n",
       "1       45.0     46.0  \n",
       "2       67.0     70.0  "
      ]
     },
     "execution_count": 42,
     "metadata": {},
     "output_type": "execute_result"
    }
   ],
   "source": [
    "df.head(3)"
   ]
  },
  {
   "cell_type": "code",
   "execution_count": 43,
   "metadata": {},
   "outputs": [],
   "source": [
    "feature=df[[\"sodium\",\"sugar\",\"total_fat\",\"protein\"]]\n",
    "target=df[\"calories\"]"
   ]
  },
  {
   "cell_type": "code",
   "execution_count": 65,
   "metadata": {},
   "outputs": [
    {
     "name": "stdout",
     "output_type": "stream",
     "text": [
      "0.8645626461357259 0.8590188546816631\n",
      "0.8662447925731924 0.8568796386524042\n"
     ]
    }
   ],
   "source": [
    "# Ridge : https://scikit-learn.org/stable/modules/generated/sklearn.linear_model.Ridge.html#sklearn.linear_model.Ridge\n",
    "test_max=0\n",
    "train_max=0\n",
    "for i in range(1000):\n",
    "    x_train,x_test,y_train,y_test=train_test_split(feature,target,test_size=0.3,random_state=i)\n",
    "    model=Ridge()\n",
    "    model.fit(x_train,y_train)\n",
    "    res1 = model.score(x_train,y_train)\n",
    "    res2 = model.score(x_test,y_test)\n",
    "    if np.abs(res1-res2) < 0.01 and res1 > train_max:\n",
    "        train_max=res1\n",
    "        test_max=res2\n",
    "        print(train_max, test_max)"
   ]
  },
  {
   "cell_type": "code",
   "execution_count": 64,
   "metadata": {},
   "outputs": [
    {
     "name": "stdout",
     "output_type": "stream",
     "text": [
      "0.8636351236770505 0.8586224905219906\n",
      "0.8650270699714239 0.857151481852169\n",
      "0.8650497201420827 0.8567467433536906\n",
      "0.8650684035308158 0.8555943121110731\n",
      "0.8651218775571519 0.8555103822919929\n"
     ]
    }
   ],
   "source": [
    "# KernelRidge : https://scikit-learn.org/stable/modules/generated/sklearn.kernel_ridge.KernelRidge.html#sklearn.kernel_ridge.KernelRidge\n",
    "test_max=0\n",
    "train_max=0\n",
    "for i in range(1000):\n",
    "    x_train,x_test,y_train,y_test=train_test_split(feature,target,test_size=0.3,random_state=i)\n",
    "    model=KernelRidge()\n",
    "    model.fit(x_train,y_train)\n",
    "    res1 = model.score(x_train,y_train)\n",
    "    res2 = model.score(x_test,y_test)\n",
    "    if np.abs(res1-res2) < 0.01 and res1 > train_max:\n",
    "        train_max=res1\n",
    "        test_max=res2\n",
    "        print(train_max, test_max)"
   ]
  },
  {
   "cell_type": "code",
   "execution_count": 66,
   "metadata": {},
   "outputs": [
    {
     "name": "stdout",
     "output_type": "stream",
     "text": [
      "0.8645626457860155 0.8590183212020497\n",
      "0.8662447921819565 0.856878583220491\n"
     ]
    }
   ],
   "source": [
    "# RidgeCV : https://scikit-learn.org/stable/modules/generated/sklearn.linear_model.RidgeCV.html#sklearn.linear_model.RidgeCV\n",
    "test_max=0\n",
    "train_max=0\n",
    "for i in range(1000):\n",
    "    x_train,x_test,y_train,y_test=train_test_split(feature,target,test_size=0.3,random_state=i)\n",
    "    model=RidgeCV()\n",
    "    model.fit(x_train,y_train)\n",
    "    res1 = model.score(x_train,y_train)\n",
    "    res2 = model.score(x_test,y_test)\n",
    "    if np.abs(res1-res2) < 0.01 and res1 > train_max:\n",
    "        train_max=res1\n",
    "        test_max=res2\n",
    "        print(train_max, test_max)"
   ]
  },
  {
   "cell_type": "code",
   "execution_count": 67,
   "metadata": {},
   "outputs": [
    {
     "name": "stdout",
     "output_type": "stream",
     "text": [
      "0.8645580005990545 0.858945523750401\n",
      "0.8662405319397876 0.8567541791093402\n"
     ]
    }
   ],
   "source": [
    "# BayesianRidge : https://scikit-learn.org/stable/modules/generated/sklearn.linear_model.BayesianRidge.html#sklearn.linear_model.BayesianRidge\n",
    "test_max=0\n",
    "train_max=0\n",
    "for i in range(1000):\n",
    "    x_train,x_test,y_train,y_test=train_test_split(feature,target,test_size=0.3,random_state=i)\n",
    "    model=BayesianRidge()\n",
    "    model.fit(x_train,y_train)\n",
    "    res1 = model.score(x_train,y_train)\n",
    "    res2 = model.score(x_test,y_test)\n",
    "    if np.abs(res1-res2) < 0.01 and res1 > train_max:\n",
    "        train_max=res1\n",
    "        test_max=res2\n",
    "        print(train_max, test_max)"
   ]
  },
  {
   "cell_type": "code",
   "execution_count": null,
   "metadata": {},
   "outputs": [],
   "source": []
  }
 ],
 "metadata": {
  "kernelspec": {
   "display_name": "EXAM_ML",
   "language": "python",
   "name": "python3"
  },
  "language_info": {
   "codemirror_mode": {
    "name": "ipython",
    "version": 3
   },
   "file_extension": ".py",
   "mimetype": "text/x-python",
   "name": "python",
   "nbconvert_exporter": "python",
   "pygments_lexer": "ipython3",
   "version": "3.9.18"
  }
 },
 "nbformat": 4,
 "nbformat_minor": 2
}
