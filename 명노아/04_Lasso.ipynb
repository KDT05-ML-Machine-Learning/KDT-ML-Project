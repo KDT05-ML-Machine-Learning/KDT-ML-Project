{
 "cells": [
  {
   "cell_type": "code",
   "execution_count": 3,
   "metadata": {},
   "outputs": [],
   "source": [
    "import pandas as pd\n",
    "import numpy as np\n",
    "\n",
    "df=pd.read_csv(\"Hamburger.csv\")"
   ]
  },
  {
   "cell_type": "code",
   "execution_count": 4,
   "metadata": {},
   "outputs": [
    {
     "name": "stdout",
     "output_type": "stream",
     "text": [
      "('Lasso', <class 'sklearn.linear_model._coordinate_descent.Lasso'>)\n",
      "('LassoCV', <class 'sklearn.linear_model._coordinate_descent.LassoCV'>)\n",
      "('LassoLars', <class 'sklearn.linear_model._least_angle.LassoLars'>)\n",
      "('LassoLarsCV', <class 'sklearn.linear_model._least_angle.LassoLarsCV'>)\n",
      "('LassoLarsIC', <class 'sklearn.linear_model._least_angle.LassoLarsIC'>)\n",
      "('MultiTaskLasso', <class 'sklearn.linear_model._coordinate_descent.MultiTaskLasso'>)\n",
      "('MultiTaskLassoCV', <class 'sklearn.linear_model._coordinate_descent.MultiTaskLassoCV'>)\n"
     ]
    }
   ],
   "source": [
    "from sklearn.utils.discovery import all_estimators\n",
    "# 다음 4개에 대해서 진행! \n",
    "estimators=all_estimators(type_filter='regressor')\n",
    "for i in estimators:\n",
    "    if \"Lasso\" in i[0] :\n",
    "        print(i)"
   ]
  },
  {
   "cell_type": "code",
   "execution_count": 5,
   "metadata": {},
   "outputs": [],
   "source": [
    "# 위의 Lasso들을 모두 import\n",
    "from sklearn.linear_model import Lasso\n",
    "from sklearn.linear_model import LassoCV\n",
    "from sklearn.linear_model import LassoLars\n",
    "from sklearn.linear_model import LassoLarsCV\n",
    "from sklearn.linear_model import LassoLarsIC\n",
    "from sklearn.linear_model import MultiTaskLasso\n",
    "from sklearn.linear_model import MultiTaskLassoCV\n",
    "\n",
    "from sklearn.model_selection import GridSearchCV # 최적의 파라미터를 찾기 위한 그리드서치 및 기타 기능 import\n",
    "from sklearn.model_selection import train_test_split\n",
    "from sklearn.preprocessing import StandardScaler"
   ]
  },
  {
   "cell_type": "code",
   "execution_count": 6,
   "metadata": {},
   "outputs": [
    {
     "data": {
      "text/html": [
       "<div>\n",
       "<style scoped>\n",
       "    .dataframe tbody tr th:only-of-type {\n",
       "        vertical-align: middle;\n",
       "    }\n",
       "\n",
       "    .dataframe tbody tr th {\n",
       "        vertical-align: top;\n",
       "    }\n",
       "\n",
       "    .dataframe thead th {\n",
       "        text-align: right;\n",
       "    }\n",
       "</style>\n",
       "<table border=\"1\" class=\"dataframe\">\n",
       "  <thead>\n",
       "    <tr style=\"text-align: right;\">\n",
       "      <th></th>\n",
       "      <th>restaurant</th>\n",
       "      <th>item</th>\n",
       "      <th>calories</th>\n",
       "      <th>sodium</th>\n",
       "      <th>sugar</th>\n",
       "      <th>total_fat</th>\n",
       "      <th>protein</th>\n",
       "    </tr>\n",
       "  </thead>\n",
       "  <tbody>\n",
       "    <tr>\n",
       "      <th>0</th>\n",
       "      <td>Mcdonalds</td>\n",
       "      <td>Artisan Grilled Chicken Sandwich</td>\n",
       "      <td>380.0</td>\n",
       "      <td>1110.0</td>\n",
       "      <td>11.0</td>\n",
       "      <td>7.0</td>\n",
       "      <td>37.0</td>\n",
       "    </tr>\n",
       "    <tr>\n",
       "      <th>1</th>\n",
       "      <td>Mcdonalds</td>\n",
       "      <td>Single Bacon Smokehouse Burger</td>\n",
       "      <td>840.0</td>\n",
       "      <td>1580.0</td>\n",
       "      <td>18.0</td>\n",
       "      <td>45.0</td>\n",
       "      <td>46.0</td>\n",
       "    </tr>\n",
       "    <tr>\n",
       "      <th>2</th>\n",
       "      <td>Mcdonalds</td>\n",
       "      <td>Double Bacon Smokehouse Burger</td>\n",
       "      <td>1130.0</td>\n",
       "      <td>1920.0</td>\n",
       "      <td>18.0</td>\n",
       "      <td>67.0</td>\n",
       "      <td>70.0</td>\n",
       "    </tr>\n",
       "  </tbody>\n",
       "</table>\n",
       "</div>"
      ],
      "text/plain": [
       "  restaurant                              item  calories  sodium  sugar  \\\n",
       "0  Mcdonalds  Artisan Grilled Chicken Sandwich     380.0  1110.0   11.0   \n",
       "1  Mcdonalds    Single Bacon Smokehouse Burger     840.0  1580.0   18.0   \n",
       "2  Mcdonalds    Double Bacon Smokehouse Burger    1130.0  1920.0   18.0   \n",
       "\n",
       "   total_fat  protein  \n",
       "0        7.0     37.0  \n",
       "1       45.0     46.0  \n",
       "2       67.0     70.0  "
      ]
     },
     "execution_count": 6,
     "metadata": {},
     "output_type": "execute_result"
    }
   ],
   "source": [
    "df.head(3)"
   ]
  },
  {
   "cell_type": "code",
   "execution_count": 7,
   "metadata": {},
   "outputs": [],
   "source": [
    "feature=df[[\"sodium\",\"sugar\",\"total_fat\",\"protein\"]]\n",
    "target=df[\"calories\"]"
   ]
  },
  {
   "cell_type": "code",
   "execution_count": 8,
   "metadata": {},
   "outputs": [
    {
     "name": "stdout",
     "output_type": "stream",
     "text": [
      "0.8645625728056143 0.8590083537852139\n",
      "0.8662447125704024 0.8568647850792414\n"
     ]
    }
   ],
   "source": [
    "# Lasso : https://scikit-learn.org/stable/modules/generated/sklearn.linear_model.Lasso.html#sklearn.linear_model.Lasso\n",
    "test_max=0\n",
    "train_max=0\n",
    "for i in range(1000):\n",
    "    x_train,x_test,y_train,y_test=train_test_split(feature,target,test_size=0.3,random_state=i)\n",
    "    model=Lasso()\n",
    "    model.fit(x_train,y_train)\n",
    "    res1 = model.score(x_train,y_train)\n",
    "    res2 = model.score(x_test,y_test)\n",
    "    if np.abs(res1-res2) < 0.01 and res1 > train_max:\n",
    "        train_max=res1\n",
    "        test_max=res2\n",
    "        print(train_max, test_max)"
   ]
  },
  {
   "cell_type": "code",
   "execution_count": 10,
   "metadata": {},
   "outputs": [
    {
     "name": "stdout",
     "output_type": "stream",
     "text": [
      "0.8607554777191857 0.8516495274996406\n",
      "0.8619842448865522 0.8525993809568189\n",
      "0.8626519057761934 0.8556169521026503\n",
      "0.8642731785407494 0.8594226072918228\n",
      "0.8643966009580126 0.8546396927085064\n",
      "0.8649196790973666 0.8559656903908645\n"
     ]
    }
   ],
   "source": [
    "# LassoCV : https://scikit-learn.org/stable/modules/generated/sklearn.linear_model.LassoCV.html#sklearn.linear_model.LassoCV\n",
    "test_max=0\n",
    "train_max=0\n",
    "for i in range(1000):\n",
    "    x_train,x_test,y_train,y_test=train_test_split(feature,target,test_size=0.3,random_state=i)\n",
    "    model=LassoCV()\n",
    "    model.fit(x_train,y_train)\n",
    "    res1 = model.score(x_train,y_train)\n",
    "    res2 = model.score(x_test,y_test)\n",
    "    if np.abs(res1-res2) < 0.01 and res1 > train_max:\n",
    "        train_max=res1\n",
    "        test_max=res2\n",
    "        print(train_max, test_max)"
   ]
  },
  {
   "cell_type": "code",
   "execution_count": 11,
   "metadata": {},
   "outputs": [
    {
     "name": "stdout",
     "output_type": "stream",
     "text": [
      "0.8645625751801035 0.8590086061234534\n",
      "0.8662447145863641 0.8568647715694167\n"
     ]
    }
   ],
   "source": [
    "# LassoLars : https://scikit-learn.org/stable/modules/generated/sklearn.linear_model.LassoLars.html#sklearn.linear_model.LassoLars\n",
    "test_max=0\n",
    "train_max=0\n",
    "for i in range(1000):\n",
    "    x_train,x_test,y_train,y_test=train_test_split(feature,target,test_size=0.3,random_state=i)\n",
    "    model=LassoLars()\n",
    "    model.fit(x_train,y_train)\n",
    "    res1 = model.score(x_train,y_train)\n",
    "    res2 = model.score(x_test,y_test)\n",
    "    if np.abs(res1-res2) < 0.01 and res1 > train_max:\n",
    "        train_max=res1\n",
    "        test_max=res2\n",
    "        print(train_max, test_max)"
   ]
  },
  {
   "cell_type": "code",
   "execution_count": 12,
   "metadata": {},
   "outputs": [
    {
     "name": "stdout",
     "output_type": "stream",
     "text": [
      "0.8645626461392588 0.8590189139309868\n",
      "0.8662447925771448 0.8568797559066781\n"
     ]
    }
   ],
   "source": [
    "# LassoLarsCV : https://scikit-learn.org/stable/modules/generated/sklearn.linear_model.LassoLarsCV.html#sklearn.linear_model.LassoLarsCV\n",
    "test_max=0\n",
    "train_max=0\n",
    "for i in range(1000):\n",
    "    x_train,x_test,y_train,y_test=train_test_split(feature,target,test_size=0.3,random_state=i)\n",
    "    model=LassoLarsCV()\n",
    "    model.fit(x_train,y_train)\n",
    "    res1 = model.score(x_train,y_train)\n",
    "    res2 = model.score(x_test,y_test)\n",
    "    if np.abs(res1-res2) < 0.01 and res1 > train_max:\n",
    "        train_max=res1\n",
    "        test_max=res2\n",
    "        print(train_max, test_max)"
   ]
  },
  {
   "cell_type": "code",
   "execution_count": 13,
   "metadata": {},
   "outputs": [
    {
     "name": "stdout",
     "output_type": "stream",
     "text": [
      "0.8645626461392588 0.8590189139309868\n",
      "0.8662447925771448 0.8568797559066781\n"
     ]
    }
   ],
   "source": [
    "# LassoLarsIC : https://scikit-learn.org/stable/modules/generated/sklearn.linear_model.LassoLarsIC.html#sklearn.linear_model.LassoLarsIC\n",
    "test_max=0\n",
    "train_max=0\n",
    "for i in range(1000):\n",
    "    x_train,x_test,y_train,y_test=train_test_split(feature,target,test_size=0.3,random_state=i)\n",
    "    model=LassoLarsIC()\n",
    "    model.fit(x_train,y_train)\n",
    "    res1 = model.score(x_train,y_train)\n",
    "    res2 = model.score(x_test,y_test)\n",
    "    if np.abs(res1-res2) < 0.01 and res1 > train_max:\n",
    "        train_max=res1\n",
    "        test_max=res2\n",
    "        print(train_max, test_max)"
   ]
  },
  {
   "cell_type": "code",
   "execution_count": 16,
   "metadata": {},
   "outputs": [
    {
     "name": "stdout",
     "output_type": "stream",
     "text": [
      "0.8645626391446695 0.8590161721896995\n",
      "0.8662447847685604 0.8568746260566804\n"
     ]
    }
   ],
   "source": [
    "# ElasticNet : https://scikit-learn.org/stable/modules/generated/sklearn.linear_model.ElasticNet.html#sklearn.linear_model.ElasticNet\n",
    "from sklearn.linear_model import ElasticNet\n",
    "test_max=0\n",
    "train_max=0\n",
    "for i in range(1000):\n",
    "    x_train,x_test,y_train,y_test=train_test_split(feature,target,test_size=0.3,random_state=i)\n",
    "    model=ElasticNet(alpha=0.1)\n",
    "    model.fit(x_train,y_train)\n",
    "    res1 = model.score(x_train,y_train)\n",
    "    res2 = model.score(x_test,y_test)\n",
    "    if np.abs(res1-res2) < 0.01 and res1 > train_max:\n",
    "        train_max=res1\n",
    "        test_max=res2\n",
    "        print(train_max, test_max)"
   ]
  },
  {
   "cell_type": "code",
   "execution_count": null,
   "metadata": {},
   "outputs": [],
   "source": []
  }
 ],
 "metadata": {
  "kernelspec": {
   "display_name": "EXAM_ML",
   "language": "python",
   "name": "python3"
  },
  "language_info": {
   "codemirror_mode": {
    "name": "ipython",
    "version": 3
   },
   "file_extension": ".py",
   "mimetype": "text/x-python",
   "name": "python",
   "nbconvert_exporter": "python",
   "pygments_lexer": "ipython3",
   "version": "3.9.18"
  }
 },
 "nbformat": 4,
 "nbformat_minor": 2
}
