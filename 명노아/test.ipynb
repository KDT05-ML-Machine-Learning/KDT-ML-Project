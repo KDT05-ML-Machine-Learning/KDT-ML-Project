{
 "cells": [
  {
   "cell_type": "code",
   "execution_count": 5,
   "metadata": {},
   "outputs": [
    {
     "name": "stdout",
     "output_type": "stream",
     "text": [
      "<class 'pandas.core.frame.DataFrame'>\n",
      "RangeIndex: 1068 entries, 0 to 1067\n",
      "Data columns (total 7 columns):\n",
      " #   Column      Non-Null Count  Dtype  \n",
      "---  ------      --------------  -----  \n",
      " 0   restaurant  1068 non-null   object \n",
      " 1   item        1068 non-null   object \n",
      " 2   calories    1068 non-null   float64\n",
      " 3   sodium      1068 non-null   float64\n",
      " 4   sugar       1068 non-null   float64\n",
      " 5   total_fat   1068 non-null   float64\n",
      " 6   protein     1068 non-null   float64\n",
      "dtypes: float64(5), object(2)\n",
      "memory usage: 58.5+ KB\n"
     ]
    }
   ],
   "source": [
    "import pandas as pd\n",
    "import numpy as np\n",
    "\n",
    "dataDF = pd.read_csv('./Hamburger.csv', encoding='latin1')\n",
    "dataDF.info()\n",
    "\n",
    "dataDF['restaurant'].replace('macdonald','McDonalds',inplace=True)\n",
    "dataDF['restaurant'].replace('Mcdonald','McDonalds',inplace=True)\n",
    "dataDF['restaurant'].replace('Mcdonalds','McDonalds',inplace=True)\n",
    "dataDF['restaurant'].replace('burgerking','Burger King',inplace = True)\n",
    "\n"
   ]
  },
  {
   "cell_type": "code",
   "execution_count": 6,
   "metadata": {},
   "outputs": [
    {
     "data": {
      "text/plain": [
       "2"
      ]
     },
     "execution_count": 6,
     "metadata": {},
     "output_type": "execute_result"
    }
   ],
   "source": [
    "# 중복값 제거 - 2개 \n",
    "dataDF.duplicated().sum()\n",
    "dataDF.drop_duplicates(inplace=True)"
   ]
  },
  {
   "cell_type": "code",
   "execution_count": 7,
   "metadata": {},
   "outputs": [
    {
     "data": {
      "text/plain": [
       "restaurant    0\n",
       "item          0\n",
       "calories      0\n",
       "sodium        0\n",
       "sugar         0\n",
       "total_fat     0\n",
       "protein       0\n",
       "dtype: int64"
      ]
     },
     "execution_count": 7,
     "metadata": {},
     "output_type": "execute_result"
    }
   ],
   "source": [
    "# 결측치 제거 - protein - 94개\n",
    "dataDF.isna().sum()\n",
    "#dataDF.dropna(subset = 'protein',inplace = True)"
   ]
  },
  {
   "cell_type": "code",
   "execution_count": null,
   "metadata": {},
   "outputs": [],
   "source": [
    "# 여러 모델 인스턴스 생성\n",
    "knn = KNeighborsRegressor(n_neighbors= 6)\n",
    "knn.fit(xtrain, ytrain)\n",
    "#%%\n",
    "li = LinearRegression()\n",
    "li.fit(xtrain, ytrain)\n",
    "#%%\n",
    "ridge = Ridge()\n",
    "ridge.fit(xtrain, ytrain)\n",
    "#%%\n",
    "lasso = Lasso()\n",
    "lasso.fit(xtrain,ytrain)\n",
    "#%%\n",
    "svr = SVR()\n",
    "svr.fit(xtrain, ytrain)\n",
    "#%%\n",
    "estimators = [('LI', li), ('KNN', knn),('Rige', ridge), ('Lasso',lasso), ('SVR', svr)]\n",
    "\n",
    "voting_models = {'models' :[],'train_score':[],'test_score':[]}\n",
    "for n, model1 in enumerate(estimators[:-1]):\n",
    "    for model2 in estimators[n+1:]:\n",
    "        vt_models = VotingRegressor(estimators=[model1,model2])\n",
    "        vt_models.fit(xtrain, ytrain)\n",
    "        voting_models['models'].append([model1[1],model2[1]])\n",
    "        voting_models['train_score'].append(vt_models.score(xtrain,ytrain))\n",
    "        voting_models['test_score'].append(vt_models.score(xtest,ytest))\n",
    "pd.DataFrame(voting_models)\n",
    "#%%\n",
    "for n1, model1 in enumerate(estimators[:]):\n",
    "    if n1== 3:  # Stop before including 'SVR'\n",
    "        break\n",
    "for n2,model2 in enumerate(estimators[n1 + 1:-1]):  # Iterate from the next model onwards\n",
    "    for model3 in estimators[n2+1:-2]:\n",
    "        vt_models = VotingRegressor(estimators=[model1, model2, model3])\n",
    "        vt_models.fit(xtrain, ytrain)  # Assuming you have xtrain and ytrain defined\n",
    "        voting_models['models'].append([model1[1], model2[1], model3[1]])\n",
    "        voting_models['train_score'].append(vt_models.score(xtrain, ytrain))\n",
    "        voting_models['test_score'].append(vt_models.score(xtest, ytest))\n",
    "pd.DataFrame(voting_models)"
   ]
  },
  {
   "cell_type": "code",
   "execution_count": 2,
   "metadata": {},
   "outputs": [
    {
     "data": {
      "text/html": [
       "<style>#sk-container-id-2 {color: black;}#sk-container-id-2 pre{padding: 0;}#sk-container-id-2 div.sk-toggleable {background-color: white;}#sk-container-id-2 label.sk-toggleable__label {cursor: pointer;display: block;width: 100%;margin-bottom: 0;padding: 0.3em;box-sizing: border-box;text-align: center;}#sk-container-id-2 label.sk-toggleable__label-arrow:before {content: \"▸\";float: left;margin-right: 0.25em;color: #696969;}#sk-container-id-2 label.sk-toggleable__label-arrow:hover:before {color: black;}#sk-container-id-2 div.sk-estimator:hover label.sk-toggleable__label-arrow:before {color: black;}#sk-container-id-2 div.sk-toggleable__content {max-height: 0;max-width: 0;overflow: hidden;text-align: left;background-color: #f0f8ff;}#sk-container-id-2 div.sk-toggleable__content pre {margin: 0.2em;color: black;border-radius: 0.25em;background-color: #f0f8ff;}#sk-container-id-2 input.sk-toggleable__control:checked~div.sk-toggleable__content {max-height: 200px;max-width: 100%;overflow: auto;}#sk-container-id-2 input.sk-toggleable__control:checked~label.sk-toggleable__label-arrow:before {content: \"▾\";}#sk-container-id-2 div.sk-estimator input.sk-toggleable__control:checked~label.sk-toggleable__label {background-color: #d4ebff;}#sk-container-id-2 div.sk-label input.sk-toggleable__control:checked~label.sk-toggleable__label {background-color: #d4ebff;}#sk-container-id-2 input.sk-hidden--visually {border: 0;clip: rect(1px 1px 1px 1px);clip: rect(1px, 1px, 1px, 1px);height: 1px;margin: -1px;overflow: hidden;padding: 0;position: absolute;width: 1px;}#sk-container-id-2 div.sk-estimator {font-family: monospace;background-color: #f0f8ff;border: 1px dotted black;border-radius: 0.25em;box-sizing: border-box;margin-bottom: 0.5em;}#sk-container-id-2 div.sk-estimator:hover {background-color: #d4ebff;}#sk-container-id-2 div.sk-parallel-item::after {content: \"\";width: 100%;border-bottom: 1px solid gray;flex-grow: 1;}#sk-container-id-2 div.sk-label:hover label.sk-toggleable__label {background-color: #d4ebff;}#sk-container-id-2 div.sk-serial::before {content: \"\";position: absolute;border-left: 1px solid gray;box-sizing: border-box;top: 0;bottom: 0;left: 50%;z-index: 0;}#sk-container-id-2 div.sk-serial {display: flex;flex-direction: column;align-items: center;background-color: white;padding-right: 0.2em;padding-left: 0.2em;position: relative;}#sk-container-id-2 div.sk-item {position: relative;z-index: 1;}#sk-container-id-2 div.sk-parallel {display: flex;align-items: stretch;justify-content: center;background-color: white;position: relative;}#sk-container-id-2 div.sk-item::before, #sk-container-id-2 div.sk-parallel-item::before {content: \"\";position: absolute;border-left: 1px solid gray;box-sizing: border-box;top: 0;bottom: 0;left: 50%;z-index: -1;}#sk-container-id-2 div.sk-parallel-item {display: flex;flex-direction: column;z-index: 1;position: relative;background-color: white;}#sk-container-id-2 div.sk-parallel-item:first-child::after {align-self: flex-end;width: 50%;}#sk-container-id-2 div.sk-parallel-item:last-child::after {align-self: flex-start;width: 50%;}#sk-container-id-2 div.sk-parallel-item:only-child::after {width: 0;}#sk-container-id-2 div.sk-dashed-wrapped {border: 1px dashed gray;margin: 0 0.4em 0.5em 0.4em;box-sizing: border-box;padding-bottom: 0.4em;background-color: white;}#sk-container-id-2 div.sk-label label {font-family: monospace;font-weight: bold;display: inline-block;line-height: 1.2em;}#sk-container-id-2 div.sk-label-container {text-align: center;}#sk-container-id-2 div.sk-container {/* jupyter's `normalize.less` sets `[hidden] { display: none; }` but bootstrap.min.css set `[hidden] { display: none !important; }` so we also need the `!important` here to be able to override the default hidden behavior on the sphinx rendered scikit-learn.org. See: https://github.com/scikit-learn/scikit-learn/issues/21755 */display: inline-block !important;position: relative;}#sk-container-id-2 div.sk-text-repr-fallback {display: none;}</style><div id=\"sk-container-id-2\" class=\"sk-top-container\"><div class=\"sk-text-repr-fallback\"><pre>KernelRidge(alpha=0.9, gamma=0.001, kernel=&#x27;poly&#x27;)</pre><b>In a Jupyter environment, please rerun this cell to show the HTML representation or trust the notebook. <br />On GitHub, the HTML representation is unable to render, please try loading this page with nbviewer.org.</b></div><div class=\"sk-container\" hidden><div class=\"sk-item\"><div class=\"sk-estimator sk-toggleable\"><input class=\"sk-toggleable__control sk-hidden--visually\" id=\"sk-estimator-id-2\" type=\"checkbox\" checked><label for=\"sk-estimator-id-2\" class=\"sk-toggleable__label sk-toggleable__label-arrow\">KernelRidge</label><div class=\"sk-toggleable__content\"><pre>KernelRidge(alpha=0.9, gamma=0.001, kernel=&#x27;poly&#x27;)</pre></div></div></div></div></div>"
      ],
      "text/plain": [
       "KernelRidge(alpha=0.9, gamma=0.001, kernel='poly')"
      ]
     },
     "execution_count": 2,
     "metadata": {},
     "output_type": "execute_result"
    }
   ],
   "source": [
    "from joblib import load\n",
    "\n",
    "model=load(\"./model/KernelRidge.pkl\")\n",
    "model"
   ]
  },
  {
   "cell_type": "code",
   "execution_count": null,
   "metadata": {},
   "outputs": [],
   "source": []
  }
 ],
 "metadata": {
  "kernelspec": {
   "display_name": "EXAM_ML",
   "language": "python",
   "name": "python3"
  },
  "language_info": {
   "codemirror_mode": {
    "name": "ipython",
    "version": 3
   },
   "file_extension": ".py",
   "mimetype": "text/x-python",
   "name": "python",
   "nbconvert_exporter": "python",
   "pygments_lexer": "ipython3",
   "version": "3.9.18"
  }
 },
 "nbformat": 4,
 "nbformat_minor": 2
}
