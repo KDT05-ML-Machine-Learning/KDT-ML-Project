{
 "cells": [
  {
   "cell_type": "code",
   "execution_count": 5,
   "metadata": {},
   "outputs": [
    {
     "name": "stdout",
     "output_type": "stream",
     "text": [
      "<class 'pandas.core.frame.DataFrame'>\n",
      "RangeIndex: 1068 entries, 0 to 1067\n",
      "Data columns (total 7 columns):\n",
      " #   Column      Non-Null Count  Dtype  \n",
      "---  ------      --------------  -----  \n",
      " 0   restaurant  1068 non-null   object \n",
      " 1   item        1068 non-null   object \n",
      " 2   calories    1068 non-null   float64\n",
      " 3   sodium      1068 non-null   float64\n",
      " 4   sugar       1068 non-null   float64\n",
      " 5   total_fat   1068 non-null   float64\n",
      " 6   protein     1068 non-null   float64\n",
      "dtypes: float64(5), object(2)\n",
      "memory usage: 58.5+ KB\n"
     ]
    }
   ],
   "source": [
    "import pandas as pd\n",
    "import numpy as np\n",
    "\n",
    "dataDF = pd.read_csv('./Hamburger.csv', encoding='latin1')\n",
    "dataDF.info()\n",
    "\n",
    "dataDF['restaurant'].replace('macdonald','McDonalds',inplace=True)\n",
    "dataDF['restaurant'].replace('Mcdonald','McDonalds',inplace=True)\n",
    "dataDF['restaurant'].replace('Mcdonalds','McDonalds',inplace=True)\n",
    "dataDF['restaurant'].replace('burgerking','Burger King',inplace = True)\n",
    "\n"
   ]
  },
  {
   "cell_type": "code",
   "execution_count": 6,
   "metadata": {},
   "outputs": [
    {
     "data": {
      "text/plain": [
       "2"
      ]
     },
     "execution_count": 6,
     "metadata": {},
     "output_type": "execute_result"
    }
   ],
   "source": [
    "# 중복값 제거 - 2개 \n",
    "dataDF.duplicated().sum()\n",
    "dataDF.drop_duplicates(inplace=True)"
   ]
  },
  {
   "cell_type": "code",
   "execution_count": 7,
   "metadata": {},
   "outputs": [
    {
     "data": {
      "text/plain": [
       "restaurant    0\n",
       "item          0\n",
       "calories      0\n",
       "sodium        0\n",
       "sugar         0\n",
       "total_fat     0\n",
       "protein       0\n",
       "dtype: int64"
      ]
     },
     "execution_count": 7,
     "metadata": {},
     "output_type": "execute_result"
    }
   ],
   "source": [
    "# 결측치 제거 - protein - 94개\n",
    "dataDF.isna().sum()\n",
    "#dataDF.dropna(subset = 'protein',inplace = True)"
   ]
  },
  {
   "cell_type": "code",
   "execution_count": null,
   "metadata": {},
   "outputs": [],
   "source": []
  }
 ],
 "metadata": {
  "kernelspec": {
   "display_name": "EXAM_ML",
   "language": "python",
   "name": "python3"
  },
  "language_info": {
   "codemirror_mode": {
    "name": "ipython",
    "version": 3
   },
   "file_extension": ".py",
   "mimetype": "text/x-python",
   "name": "python",
   "nbconvert_exporter": "python",
   "pygments_lexer": "ipython3",
   "version": "3.9.18"
  }
 },
 "nbformat": 4,
 "nbformat_minor": 2
}
