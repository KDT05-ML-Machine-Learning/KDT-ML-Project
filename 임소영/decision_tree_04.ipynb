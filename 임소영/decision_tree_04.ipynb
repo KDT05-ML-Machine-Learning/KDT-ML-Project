{
 "cells": [
  {
   "cell_type": "markdown",
   "source": [
    "[ 임소영 ] 의사결정트리, 부스팅\n",
    "\n",
    "[ 피쳐-(임시) ] 단백질(g),나트륨(mg) ,당류(g), 포화지방(g)\n",
    "\n",
    "[ 데이터셋 ] \n",
    "- 맥도날드 : https://www.kaggle.com/datasets/mcdonalds/nutrition-facts\n",
    "- 롯데리아 : https://www.lotteeatz.com/upload/stg/etc/ria/items.html\n",
    "- 미국 전 지점 : https://www.kaggle.com/datasets/ulrikthygepedersen/fastfood-nutrition\n",
    "- 버거킹 : https://emilysinglelife.tistory.com/62\n",
    "- 맘스터치(이미지) : https://www.momstouch.co.kr/m/brand/notice-view.php?idx=49\n",
    "- 노브랜드 : https://realjace.tistory.com/entry/%EB%85%B8%EB%B8%8C%EB%9E%9C%EB%93%9C%EB%B2%84%EA%B1%B0-%EB%A9%94%EB%89%B4%EB%B3%84-%EC%B9%BC%EB%A1%9C%EB%A6%AC-%EC%98%81%EC%96%91%EC%84%B1%EB%B6%84-%EC%B4%9D%EC%A0%95%EB%A6%AC\n",
    "- 프랭크 버거 : https://rooftoper.tistory.com/entry/%ED%94%84%EB%9E%AD%ED%81%AC-%EB%B2%84%EA%B1%B0-%EC%98%81%EC%96%91%EC%84%B1%EB%B6%84"
   ],
   "metadata": {
    "collapsed": false
   },
   "id": "8615fa0d8a997928"
  },
  {
   "cell_type": "markdown",
   "source": [
    "## 자료 준비, 전처리 (결측치, 중복값, 이상치)"
   ],
   "metadata": {
    "collapsed": false
   },
   "id": "8ad3614d9c217cdc"
  },
  {
   "cell_type": "code",
   "outputs": [],
   "source": [
    "import pandas as pd\n",
    "import matplotlib.pyplot as plt\n",
    "from sklearn.model_selection import train_test_split"
   ],
   "metadata": {
    "collapsed": true,
    "is_executing": true
   },
   "id": "initial_id",
   "execution_count": null
  },
  {
   "cell_type": "code",
   "outputs": [],
   "source": [
    "file = './Hamburger.csv'\n",
    "data = pd.read_csv(file)\n",
    "data.info()"
   ],
   "metadata": {
    "collapsed": false,
    "is_executing": true
   },
   "id": "6e18e8ff6710abed",
   "execution_count": null
  },
  {
   "cell_type": "code",
   "outputs": [],
   "source": [
    "data.isna().sum()"
   ],
   "metadata": {
    "collapsed": false,
    "is_executing": true
   },
   "id": "c1fdd24ac4d686cb",
   "execution_count": null
  },
  {
   "cell_type": "code",
   "outputs": [],
   "source": [
    "data.duplicated().sum()"
   ],
   "metadata": {
    "collapsed": false,
    "is_executing": true
   },
   "id": "caa85992d860c113",
   "execution_count": null
  },
  {
   "cell_type": "code",
   "outputs": [],
   "source": [
    "data"
   ],
   "metadata": {
    "collapsed": false,
    "is_executing": true
   },
   "id": "87581f917ef3ec86",
   "execution_count": null
  },
  {
   "cell_type": "code",
   "outputs": [],
   "source": [
    "plt.boxplot(data[['calories','sodium','sugar','total_fat','protein']])\n",
    "plt.show()"
   ],
   "metadata": {
    "collapsed": false,
    "is_executing": true
   },
   "id": "902d61b49b03695e",
   "execution_count": null
  },
  {
   "cell_type": "code",
   "outputs": [],
   "source": [
    "def print_flier(insert_data):\n",
    "    q1 = insert_data.quantile(0.25)\n",
    "    q3 = insert_data.quantile(0.75)\n",
    "    iqr = q3 - q1\n",
    "    #print(f\"[ q1 ] \\n{q1}\\n\\n[ q3 ] \\n{q3}\\n\")\n",
    "    #print(f\"[ iqr의 범위 ]\\n{iqr}\\n\")\n",
    "\n",
    "    print('------------------ 이상값이 될 기준 계산 ------------------\\n')\n",
    "\n",
    "    lower = q1 - 1.5 * iqr\n",
    "    #print(f\"[ lower의 값 ]\\n{lower}\\n\")\n",
    "    upper = q3 + 1.5 * iqr\n",
    "    #print(f\"[ upper의 값 ]\\n{upper}\\n\")\n",
    "\n",
    "    mask = insert_data < lower\n",
    "    print(f\"[ lower의 개수 ]\\n{mask.sum()}\\n\")\n",
    "    mask2 = insert_data > upper\n",
    "    print(f\"[ upper의 개수 ]\\n{mask2.sum()}\\n\")\n",
    "\n",
    "    return lower, upper\n",
    "\n",
    "lower, upper = print_flier(data[['calories','sodium','sugar','total_fat','protein']])"
   ],
   "metadata": {
    "collapsed": false,
    "is_executing": true
   },
   "id": "b252d322b3042151",
   "execution_count": null
  },
  {
   "cell_type": "code",
   "outputs": [],
   "source": [
    "data[['calories','sodium','sugar','total_fat','protein']].shape"
   ],
   "metadata": {
    "collapsed": false,
    "is_executing": true
   },
   "id": "5c9696134f66350f",
   "execution_count": null
  },
  {
   "cell_type": "code",
   "outputs": [],
   "source": [
    "def drop_flier(insert_data, col_name):\n",
    "    global lower\n",
    "    global upper\n",
    "    print(f\"이상치 제거 전 shape 확인: {insert_data.shape}\")\n",
    "    mask = insert_data[col_name] >= lower.loc[col_name]\n",
    "    insert_data = insert_data[mask]\n",
    "    #print(f\" '{col_name}' 컬럼에서 lower 미만의 값 제거 후 shape: {insert_data.shape}\")\n",
    "\n",
    "    mask2 = insert_data[col_name] <= upper.loc[col_name]\n",
    "    insert_data = insert_data[mask2]\n",
    "    #print(f\" '{col_name}' 컬럼에서 upper 초과의 값 제거 후 shape: {insert_data.shape}\\n\")\n",
    "    \n",
    "    print(f\"이상치 제거 후 shape 확인: {insert_data.shape} \\n\")\n",
    "    return insert_data\n",
    "\n",
    "data_for_drop = data[['calories','sodium','sugar','total_fat','protein']]\n",
    "# data_for_drop = drop_flier(data_for_drop, 'calories')\n",
    "# data_for_drop = drop_flier(data_for_drop, 'sodium')\n",
    "# data_for_drop = drop_flier(data_for_drop, 'sugar')\n",
    "# data_for_drop = drop_flier(data_for_drop, 'total_fat')\n",
    "# data_for_drop = drop_flier(data_for_drop, 'protein')\n",
    "\n",
    "\n",
    "# 이상치 제거한 데이터에 맞게 원본 데이터도 제거된 인덱스 번호를 같이 drop 시켜줌\n",
    "# for i in list(data.index):\n",
    "#     if i not in (list(data_for_drop.index)):\n",
    "#         data.drop(i,inplace = True)\n",
    "# print(data.shape)\n",
    "# \n",
    "# # 인덱스 번호가 서로 일치하는지 확인\n",
    "# print(len(list(data_for_drop.index)) == len(list(data.index)))\n",
    "# # 서로 일치하는 것을 확인 했으니 이 데이터를 이용해서 알고리즘 돌리겠다."
   ],
   "metadata": {
    "collapsed": false,
    "is_executing": true
   },
   "id": "5520a33c5bd489f2",
   "execution_count": null
  },
  {
   "cell_type": "markdown",
   "source": [
    "이상치를 제거했더니 과대 적합이 계속 나왔다. 이상치를 다시 복구 했더니 과대적합이 덜나와서 이상치를 다시 복구했다."
   ],
   "metadata": {
    "collapsed": false
   },
   "id": "6933f29ce16bef35"
  },
  {
   "cell_type": "code",
   "outputs": [],
   "source": [
    "data.info()"
   ],
   "metadata": {
    "collapsed": false,
    "is_executing": true
   },
   "id": "d0bc38f72899d67",
   "execution_count": null
  },
  {
   "cell_type": "code",
   "outputs": [],
   "source": [
    "data.corr(numeric_only=True)"
   ],
   "metadata": {
    "collapsed": false,
    "is_executing": true
   },
   "id": "e6b2b96c8b5c261b",
   "execution_count": null
  },
  {
   "cell_type": "code",
   "outputs": [],
   "source": [
    "plt.figure(figsize=(20,10))\n",
    "plt.subplot(1,2,1)\n",
    "plt.scatter(data['calories'], data['sodium'], label = 'sodium', c = 'red', alpha = 0.7)\n",
    "plt.legend(loc = 'best')\n",
    "plt.xlabel('calories')\n",
    "plt.title(\"[visualization with calories]\")\n",
    "\n",
    "plt.subplot(1,2,2)\n",
    "plt.scatter(data['calories'], data['sugar'], label = 'sugar', alpha = 0.7)\n",
    "plt.scatter(data['calories'], data['total_fat'], label = 'total_fat', alpha = 0.7)\n",
    "plt.scatter(data['calories'], data['protein'], label = 'protein', alpha = 0.7)\n",
    "plt.legend(loc = 'best')\n",
    "plt.xlabel('calories')\n",
    "plt.title(\"[visualization with calories]\")\n",
    "plt.show()"
   ],
   "metadata": {
    "collapsed": false,
    "is_executing": true
   },
   "id": "55124a9879694a38",
   "execution_count": null
  },
  {
   "cell_type": "markdown",
   "source": [
    "## 데이터셋 분리 & 스케일링 & 학습 & 평가"
   ],
   "metadata": {
    "collapsed": false
   },
   "id": "5e9590dbc7b1d664"
  },
  {
   "cell_type": "code",
   "outputs": [],
   "source": [
    "target = data['calories']\n",
    "feature = data[['sodium','sugar','total_fat','protein']]"
   ],
   "metadata": {
    "collapsed": false,
    "is_executing": true
   },
   "id": "e2f890cdcbdf14f1",
   "execution_count": null
  },
  {
   "cell_type": "code",
   "outputs": [],
   "source": [
    "from sklearn.preprocessing import StandardScaler\n",
    "from sklearn.tree import DecisionTreeRegressor\n",
    "train_score_list = []\n",
    "test_score_list = []\n",
    "\n",
    "# 최고의 random_state 값 찾기\n",
    "'''\n",
    "for number in range(1,1001):\n",
    "    X_train, X_test, y_train, y_test = train_test_split(feature, target, random_state = number)\n",
    "    \n",
    "    scaler = StandardScaler()\n",
    "    scaler.fit(X_train)\n",
    "    scaled_X_train = scaler.transform(X_train)\n",
    "    scaled_X_test = scaler.transform(X_test)\n",
    "    X_train = pd.DataFrame(scaled_X_train, columns = ['sodium', 'sugar', 'total_fat', 'protein'])\n",
    "    X_test = pd.DataFrame(scaled_X_test, columns = ['sodium', 'sugar', 'total_fat', 'protein']) \n",
    "    \n",
    "    model = DecisionTreeRegressor()\n",
    "    model.fit(X_train, y_train)\n",
    "    \n",
    "    train_score = model.score(X_train, y_train)\n",
    "    test_score = model.score(X_test, y_test)\n",
    "    train_score_list.append(train_score)\n",
    "    test_score_list.append(test_score)\n",
    "    #print(f\"{number} => [train score] {train_score}      [test_score] {test_score}\")\n",
    "    \n",
    "max_score = max(test_score_list)\n",
    "for i in range(len(test_score_list)):\n",
    "    if test_score_list[i] == max_score:\n",
    "        print(f\"최고의 random_state 값은 {i+1}\")\n",
    "        best_random = i+1\n",
    "        '''        \n",
    "# 425"
   ],
   "metadata": {
    "collapsed": false,
    "is_executing": true
   },
   "id": "2891133b7d304255",
   "execution_count": null
  },
  {
   "cell_type": "code",
   "outputs": [],
   "source": [
    "# 스케일링이 잘 되었는지 확인해보자\n",
    "\"\"\"\n",
    "plt.figure(figsize=(14,6))\n",
    "plt.subplot(1,2,1)\n",
    "plt.scatter(y_train, X_train['sodium'], label = 'sodium', alpha = 0.5)\n",
    "plt.scatter(y_train, X_train['sugar'], label = 'sugar', alpha = 0.5)\n",
    "plt.scatter(y_train, X_train['total_fat'], label = 'total_fat', alpha = 0.5)\n",
    "plt.scatter(y_train, X_train['protein'], label = 'protein', alpha = 0.5)\n",
    "plt.legend(loc = 'best')\n",
    "plt.title('preprocessing with STD scaler - TRAIN')\n",
    "\n",
    "plt.subplot(1,2,2)\n",
    "plt.scatter(y_test, X_test['sodium'], label = 'sodium', alpha = 0.5)\n",
    "plt.scatter(y_test, X_test['sugar'], label = 'sugar', alpha = 0.5)\n",
    "plt.scatter(y_test, X_test['total_fat'], label = 'total_fat', alpha = 0.5)\n",
    "plt.scatter(y_test, X_test['protein'], label = 'protein', alpha = 0.5)\n",
    "plt.legend(loc = 'best')\n",
    "plt.title('preprocessing with STD scaler - TEST')\n",
    "\n",
    "plt.tight_layout\n",
    "plt.show()\n",
    "\"\"\"\n",
    "\n",
    "# 스케일링이 잘된 것을 확인했다"
   ],
   "metadata": {
    "collapsed": false,
    "is_executing": true
   },
   "id": "5ce0c9a83a785548",
   "execution_count": null
  },
  {
   "cell_type": "markdown",
   "source": [
    "## 튜닝 : GridSearchCV 사용"
   ],
   "metadata": {
    "collapsed": false
   },
   "id": "86f0f0e90ed3182"
  },
  {
   "cell_type": "code",
   "outputs": [],
   "source": [
    "X_train, X_test, y_train, y_test = train_test_split(feature, target, random_state = 425)\n",
    "\n",
    "scaler = StandardScaler()\n",
    "scaler.fit(X_train)\n",
    "scaled_X_train = scaler.transform(X_train)\n",
    "scaled_X_test = scaler.transform(X_test)\n",
    "X_train = pd.DataFrame(scaled_X_train, columns = ['sodium', 'sugar', 'total_fat', 'protein'])\n",
    "X_test = pd.DataFrame(scaled_X_test, columns = ['sodium', 'sugar', 'total_fat', 'protein']) "
   ],
   "metadata": {
    "collapsed": false,
    "is_executing": true
   },
   "id": "c2588ce01b29e15d",
   "execution_count": null
  },
  {
   "cell_type": "code",
   "outputs": [],
   "source": [
    "model = DecisionTreeRegressor()\n",
    "model.fit(X_train, y_train)\n",
    "\n",
    "train_score = model.score(X_train, y_train)\n",
    "test_score = model.score(X_test, y_test)\n",
    "train_score_list.append(train_score)\n",
    "test_score_list.append(test_score)\n",
    "print(f\"[train score] {train_score}      [test_score] {test_score}\")\n",
    "# 과대 적합이 나왔다."
   ],
   "metadata": {
    "collapsed": false,
    "is_executing": true
   },
   "id": "af51d28af49a85e9"
  },
  {
   "cell_type": "code",
   "outputs": [],
   "source": [
    "criterion_list = ['squared_error','friedman_mse','absolute_error','poisson']\n",
    "splitter_list = ['best', 'random']\n",
    "max_depth_list = [2,3,4,5,6,7,8,9,10]\n",
    "min_samples_split_list = [1,2,3,4,5,6,7,8,9,10]\n",
    "min_samples_leaf_list = [1, 2, 3, 4, 5, 6, 7, 8, 9, 10]\n",
    "max_features_list = [1,2,3,4]\n",
    "min_impurity_decrease_list = [1,2,3,4,5,6,7]\n",
    "\n",
    "list_for_df = []\n",
    "\n",
    "for A in criterion_list:\n",
    "    for B in splitter_list:\n",
    "        for C in max_depth_list:\n",
    "            for D in min_samples_split_list:\n",
    "                for E in min_samples_leaf_list:\n",
    "                    for F in max_features_list:\n",
    "                        for G in min_impurity_decrease_list:\n",
    "                            sample_list = []\n",
    "                            \n",
    "                            model = DecisionTreeRegressor()\n",
    "                            model.fit(X_train, y_train)\n",
    "                            \n",
    "                            train_score = model.score(X_train, y_train)\n",
    "                            test_score = model.score(X_test, y_test)\n",
    "                            sample_list.append(A)\n",
    "                            sample_list.append(B)\n",
    "                            sample_list.append(C)\n",
    "                            sample_list.append(D)\n",
    "                            sample_list.append(E)\n",
    "                            sample_list.append(F)\n",
    "                            sample_list.append(G)\n",
    "                            sample_list.append(train_score)\n",
    "                            sample_list.append(test_score)\n",
    "                            list_for_df.append(sample_list)\n",
    "                            \n",
    "col_list = ['criterion','splitter','max_depth','min_samples_split','min_samples_lear','max_feautures','min_impurity_decrease']                            \n",
    "result = pd.DataFrame(list_for_df, columns=col_list)\n",
    "result"
   ],
   "metadata": {
    "collapsed": false,
    "is_executing": true
   },
   "id": "8912cce5f97911ec",
   "execution_count": null
  },
  {
   "cell_type": "code",
   "outputs": [],
   "source": [],
   "metadata": {
    "collapsed": false,
    "is_executing": true
   },
   "id": "179a4a992259ae49",
   "execution_count": null
  },
  {
   "cell_type": "code",
   "outputs": [],
   "source": [],
   "metadata": {
    "collapsed": false,
    "is_executing": true
   },
   "id": "ec3a01dba429e47e"
  },
  {
   "cell_type": "code",
   "outputs": [],
   "source": [],
   "metadata": {
    "collapsed": false,
    "is_executing": true
   },
   "id": "6544567f976906af"
  },
  {
   "cell_type": "code",
   "outputs": [],
   "source": [],
   "metadata": {
    "collapsed": false,
    "is_executing": true
   },
   "id": "a52fad2d81072d4f"
  },
  {
   "cell_type": "code",
   "outputs": [],
   "source": [],
   "metadata": {
    "collapsed": false,
    "is_executing": true
   },
   "id": "6a315676881e1a03"
  },
  {
   "cell_type": "code",
   "outputs": [],
   "source": [],
   "metadata": {
    "collapsed": false,
    "is_executing": true
   },
   "id": "f59e687f70892ccb"
  },
  {
   "cell_type": "code",
   "outputs": [],
   "source": [],
   "metadata": {
    "collapsed": false,
    "is_executing": true
   },
   "id": "7b088085fae3b5d7"
  },
  {
   "cell_type": "code",
   "outputs": [],
   "source": [],
   "metadata": {
    "collapsed": false,
    "is_executing": true
   },
   "id": "c633adfa2f7f5b35"
  },
  {
   "cell_type": "code",
   "outputs": [],
   "source": [],
   "metadata": {
    "collapsed": false,
    "is_executing": true
   },
   "id": "b32dd4d8b4357b28"
  },
  {
   "cell_type": "code",
   "outputs": [],
   "source": [],
   "metadata": {
    "collapsed": false,
    "is_executing": true
   },
   "id": "156cce1c0e2b29c7"
  },
  {
   "cell_type": "code",
   "outputs": [],
   "source": [],
   "metadata": {
    "collapsed": false,
    "is_executing": true
   },
   "id": "7d62c460024db23b"
  },
  {
   "cell_type": "code",
   "outputs": [],
   "source": [],
   "metadata": {
    "collapsed": false,
    "is_executing": true
   },
   "id": "5cbdbf0ced558faf"
  },
  {
   "cell_type": "code",
   "outputs": [],
   "source": [
    "from sklearn.model_selection import GridSearchCV"
   ],
   "metadata": {
    "collapsed": false,
    "is_executing": true
   },
   "id": "3ffea6c2ee9c6377",
   "execution_count": null
  },
  {
   "cell_type": "code",
   "outputs": [],
   "source": [
    "DTR_model = DecisionTreeRegressor()\n",
    "\n",
    "param = {'criterion':['squared_error','friedman_mse','absolute_error','poisson'],\n",
    "         'splitter' : ['best', 'random'],\n",
    "         'max_depth': [2, 3, 4, 5],\n",
    "         'min_samples_leaf': [1,2,3,4,5]\n",
    "        }   \n",
    "cv_num = 5\n",
    "\n",
    "# 모델 생성\n",
    "gs = GridSearchCV(DTR_model, param_grid = param, cv = cv_num, return_train_score = True)\n",
    "\n",
    "# 학습 및 평가\n",
    "result = gs.fit(X_train, y_train)\n",
    "resultDF = pd.DataFrame(gs.cv_results_)\n",
    "print(f\"max train score : {max(resultDF['mean_train_score'])}\")\n",
    "print(f\"max test score : {max(resultDF['mean_test_score'])}\\n\")\n",
    "\n",
    "# 최고 성능의 파라미터, 최고의 점수\n",
    "print(f\"best parameters : {gs.best_params_}\")\n",
    "print(f\"best score : {gs.best_score_}\")"
   ],
   "metadata": {
    "collapsed": false,
    "is_executing": true
   },
   "id": "52a42a3725bdcd19",
   "execution_count": null
  },
  {
   "cell_type": "code",
   "outputs": [],
   "source": [
    "total_model = gs.best_estimator_\n",
    "total_model"
   ],
   "metadata": {
    "collapsed": false,
    "is_executing": true
   },
   "id": "355aebbfa5dccc2e",
   "execution_count": null
  },
  {
   "cell_type": "markdown",
   "source": [
    "## 예측"
   ],
   "metadata": {
    "collapsed": false
   },
   "id": "e8efbb31d3057ba7"
  },
  {
   "cell_type": "code",
   "outputs": [],
   "source": [
    "y_pred = total_model.predict(X_test)\n",
    "y_pred"
   ],
   "metadata": {
    "collapsed": false,
    "is_executing": true
   },
   "id": "db30720a27a184a5",
   "execution_count": null
  },
  {
   "cell_type": "markdown",
   "source": [
    "## 성능 평가"
   ],
   "metadata": {
    "collapsed": false
   },
   "id": "fe262dcbede0ea1"
  },
  {
   "cell_type": "code",
   "outputs": [],
   "source": [
    "from sklearn.metrics import mean_absolute_error, mean_squared_error, r2_score"
   ],
   "metadata": {
    "collapsed": false,
    "is_executing": true
   },
   "id": "e1101fa1736810a1",
   "execution_count": null
  },
  {
   "cell_type": "code",
   "outputs": [],
   "source": [
    "print(f\"R2 SCORE : {r2_score(y_test, y_pred)}\")\n",
    "print(f\"MSE : {mean_squared_error(y_test, y_pred)}\")\n",
    "print(f\"MAE : {mean_absolute_error(y_test, y_pred)}\")"
   ],
   "metadata": {
    "collapsed": false,
    "is_executing": true
   },
   "id": "d6c1eac51a47fac9",
   "execution_count": null
  },
  {
   "cell_type": "markdown",
   "source": [
    "## 모델 저장"
   ],
   "metadata": {
    "collapsed": false
   },
   "id": "89bd1e0b35e7d141"
  },
  {
   "cell_type": "code",
   "outputs": [],
   "source": [
    "import joblib\n",
    "import os"
   ],
   "metadata": {
    "collapsed": false,
    "is_executing": true
   },
   "id": "f0a70050bdc0ea18",
   "execution_count": null
  },
  {
   "cell_type": "code",
   "outputs": [],
   "source": [
    "# model_dir = './YSY_model/'\n",
    "# model_filename = model_dir + 'decision_tree_03.pkl'\n",
    "# \n",
    "# if not os.path.exists(model_dir):\n",
    "#     os.mkdir(model_dir)\n",
    "#     \n",
    "# joblib.dump(total_model, model_filename)"
   ],
   "metadata": {
    "collapsed": false,
    "is_executing": true
   },
   "id": "95cded5f86e63ba6",
   "execution_count": null
  },
  {
   "cell_type": "markdown",
   "source": [
    "## decision tree 시각화"
   ],
   "metadata": {
    "collapsed": false
   },
   "id": "6855935087631300"
  },
  {
   "cell_type": "code",
   "outputs": [],
   "source": [
    "# 생성된 모델 구조 시각화\n",
    "from sklearn.tree import export_graphviz\n",
    "import graphviz\n",
    "import pydot"
   ],
   "metadata": {
    "collapsed": false,
    "is_executing": true
   },
   "id": "2aa3d512e9dc51ce",
   "execution_count": null
  },
  {
   "cell_type": "code",
   "outputs": [],
   "source": [
    "total_model.n_features_in_"
   ],
   "metadata": {
    "collapsed": false,
    "is_executing": true
   },
   "id": "f87e2b43e552cbb5",
   "execution_count": null
  },
  {
   "cell_type": "code",
   "outputs": [],
   "source": [
    "total_model.max_features_"
   ],
   "metadata": {
    "collapsed": false,
    "is_executing": true
   },
   "id": "fbd59cdedb12582b",
   "execution_count": null
  },
  {
   "cell_type": "code",
   "outputs": [],
   "source": [
    "total_model.tree_"
   ],
   "metadata": {
    "collapsed": false,
    "is_executing": true
   },
   "id": "46638da044bcaa02",
   "execution_count": null
  },
  {
   "cell_type": "code",
   "outputs": [],
   "source": [
    "num = 4\n",
    "\n",
    "export_graphviz(total_model,feature_names = total_model.feature_names_in_, rounded = True, filled = True, out_file = f\"hamburger_tree_{num}.dot\")"
   ],
   "metadata": {
    "collapsed": false,
    "is_executing": true
   },
   "id": "474e4884e2ee97a1",
   "execution_count": null
  },
  {
   "cell_type": "code",
   "outputs": [],
   "source": [
    "from graphviz import Source\n",
    "from graphviz import render\n",
    "source = Source.from_file(f\"hamburger_tree_{num}.dot\", format=\"png\")\n",
    "source.render(f\"DecisionTree_{num}\", format=\"png\", cleanup=True)\n",
    "print(\"저장됨\")"
   ],
   "metadata": {
    "collapsed": false,
    "is_executing": true
   },
   "id": "e2e3959242d13137",
   "execution_count": null
  },
  {
   "cell_type": "code",
   "outputs": [],
   "source": [],
   "metadata": {
    "collapsed": false,
    "is_executing": true
   },
   "id": "bfd3c373c30701fd",
   "execution_count": null
  }
 ],
 "metadata": {
  "kernelspec": {
   "display_name": "Python 3",
   "language": "python",
   "name": "python3"
  },
  "language_info": {
   "codemirror_mode": {
    "name": "ipython",
    "version": 2
   },
   "file_extension": ".py",
   "mimetype": "text/x-python",
   "name": "python",
   "nbconvert_exporter": "python",
   "pygments_lexer": "ipython2",
   "version": "2.7.6"
  }
 },
 "nbformat": 4,
 "nbformat_minor": 5
}
