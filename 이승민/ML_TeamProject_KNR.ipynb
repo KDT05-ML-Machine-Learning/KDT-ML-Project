{
 "cells": [
  {
   "cell_type": "markdown",
   "id": "3e0c0202-cbe7-4d4e-9040-dfb7a4f5ed60",
   "metadata": {},
   "source": [
    "## 목표 : 성분에 따른 칼로리 예측\n",
    "- 데이터 : Hamberger.csv\n",
    "- 피 쳐 : sodium, sugar, total_fat, protein\n",
    "- 타 겟 : calories\n",
    "- 학습 방법 : 지도학습 + 예측 => KNN 기반 회귀\n",
    "- 학습/테스트 데이터 => 85% : 15%"
   ]
  },
  {
   "cell_type": "markdown",
   "id": "217742ca-f136-407f-baa2-58d85b649ec6",
   "metadata": {},
   "source": [
    "(1) 모듈 로딩 및 데이터 준비 <hr>"
   ]
  },
  {
   "cell_type": "code",
   "execution_count": 494,
   "id": "986374ea-e749-4455-940e-55dfe6521b9a",
   "metadata": {},
   "outputs": [],
   "source": [
    "import pandas as pd\n",
    "import numpy as np\n",
    "import matplotlib.pyplot as plt\n",
    "from sklearn.neighbors import KNeighborsRegressor"
   ]
  },
  {
   "cell_type": "code",
   "execution_count": 495,
   "id": "3727b684-fbe6-45b5-908a-23b67d330276",
   "metadata": {},
   "outputs": [],
   "source": [
    "# 데이터 파일\n",
    "data_file = './Hamburger.csv'"
   ]
  },
  {
   "cell_type": "code",
   "execution_count": 496,
   "id": "70624f42-cf41-409f-9ec0-477189b79f18",
   "metadata": {},
   "outputs": [],
   "source": [
    "# 데이터 준비\n",
    "bergerDF =pd.read_csv(data_file)"
   ]
  },
  {
   "cell_type": "code",
   "execution_count": 497,
   "id": "562c77e3-bec6-424b-9718-427c09a7e9e9",
   "metadata": {
    "scrolled": true
   },
   "outputs": [
    {
     "data": {
      "text/html": [
       "<div>\n",
       "<style scoped>\n",
       "    .dataframe tbody tr th:only-of-type {\n",
       "        vertical-align: middle;\n",
       "    }\n",
       "\n",
       "    .dataframe tbody tr th {\n",
       "        vertical-align: top;\n",
       "    }\n",
       "\n",
       "    .dataframe thead th {\n",
       "        text-align: right;\n",
       "    }\n",
       "</style>\n",
       "<table border=\"1\" class=\"dataframe\">\n",
       "  <thead>\n",
       "    <tr style=\"text-align: right;\">\n",
       "      <th></th>\n",
       "      <th>restaurant</th>\n",
       "      <th>item</th>\n",
       "      <th>calories</th>\n",
       "      <th>sodium</th>\n",
       "      <th>sugar</th>\n",
       "      <th>total_fat</th>\n",
       "      <th>protein</th>\n",
       "    </tr>\n",
       "  </thead>\n",
       "  <tbody>\n",
       "    <tr>\n",
       "      <th>0</th>\n",
       "      <td>Mcdonalds</td>\n",
       "      <td>Artisan Grilled Chicken Sandwich</td>\n",
       "      <td>380.00</td>\n",
       "      <td>1110.00</td>\n",
       "      <td>11.00</td>\n",
       "      <td>7.00</td>\n",
       "      <td>37.00</td>\n",
       "    </tr>\n",
       "    <tr>\n",
       "      <th>1</th>\n",
       "      <td>Mcdonalds</td>\n",
       "      <td>Single Bacon Smokehouse Burger</td>\n",
       "      <td>840.00</td>\n",
       "      <td>1580.00</td>\n",
       "      <td>18.00</td>\n",
       "      <td>45.00</td>\n",
       "      <td>46.00</td>\n",
       "    </tr>\n",
       "    <tr>\n",
       "      <th>2</th>\n",
       "      <td>Mcdonalds</td>\n",
       "      <td>Double Bacon Smokehouse Burger</td>\n",
       "      <td>1130.00</td>\n",
       "      <td>1920.00</td>\n",
       "      <td>18.00</td>\n",
       "      <td>67.00</td>\n",
       "      <td>70.00</td>\n",
       "    </tr>\n",
       "    <tr>\n",
       "      <th>3</th>\n",
       "      <td>Mcdonalds</td>\n",
       "      <td>Grilled Bacon Smokehouse Chicken Sandwich</td>\n",
       "      <td>750.00</td>\n",
       "      <td>1940.00</td>\n",
       "      <td>18.00</td>\n",
       "      <td>31.00</td>\n",
       "      <td>55.00</td>\n",
       "    </tr>\n",
       "    <tr>\n",
       "      <th>4</th>\n",
       "      <td>Mcdonalds</td>\n",
       "      <td>Crispy Bacon Smokehouse Chicken Sandwich</td>\n",
       "      <td>920.00</td>\n",
       "      <td>1980.00</td>\n",
       "      <td>18.00</td>\n",
       "      <td>45.00</td>\n",
       "      <td>46.00</td>\n",
       "    </tr>\n",
       "    <tr>\n",
       "      <th>...</th>\n",
       "      <td>...</td>\n",
       "      <td>...</td>\n",
       "      <td>...</td>\n",
       "      <td>...</td>\n",
       "      <td>...</td>\n",
       "      <td>...</td>\n",
       "      <td>...</td>\n",
       "    </tr>\n",
       "    <tr>\n",
       "      <th>1063</th>\n",
       "      <td>prank_burger</td>\n",
       "      <td>더블치즈버거(L)</td>\n",
       "      <td>687.04</td>\n",
       "      <td>4.55</td>\n",
       "      <td>33.45</td>\n",
       "      <td>19.51</td>\n",
       "      <td>1149.60</td>\n",
       "    </tr>\n",
       "    <tr>\n",
       "      <th>1064</th>\n",
       "      <td>prank_burger</td>\n",
       "      <td>머쉬룸버거(L)</td>\n",
       "      <td>665.30</td>\n",
       "      <td>13.58</td>\n",
       "      <td>26.75</td>\n",
       "      <td>18.10</td>\n",
       "      <td>1203.43</td>\n",
       "    </tr>\n",
       "    <tr>\n",
       "      <th>1065</th>\n",
       "      <td>prank_burger</td>\n",
       "      <td>JG버거(L)</td>\n",
       "      <td>828.28</td>\n",
       "      <td>6.42</td>\n",
       "      <td>48.23</td>\n",
       "      <td>22.28</td>\n",
       "      <td>1574.77</td>\n",
       "    </tr>\n",
       "    <tr>\n",
       "      <th>1066</th>\n",
       "      <td>prank_burger</td>\n",
       "      <td>SG불고기버거(L)</td>\n",
       "      <td>491.06</td>\n",
       "      <td>13.84</td>\n",
       "      <td>17.24</td>\n",
       "      <td>10.60</td>\n",
       "      <td>606.15</td>\n",
       "    </tr>\n",
       "    <tr>\n",
       "      <th>1067</th>\n",
       "      <td>prank_burger</td>\n",
       "      <td>SG크림치즈버거(L)</td>\n",
       "      <td>613.32</td>\n",
       "      <td>8.45</td>\n",
       "      <td>28.27</td>\n",
       "      <td>18.30</td>\n",
       "      <td>972.04</td>\n",
       "    </tr>\n",
       "  </tbody>\n",
       "</table>\n",
       "<p>1068 rows × 7 columns</p>\n",
       "</div>"
      ],
      "text/plain": [
       "        restaurant                                       item  calories  \\\n",
       "0        Mcdonalds           Artisan Grilled Chicken Sandwich    380.00   \n",
       "1        Mcdonalds             Single Bacon Smokehouse Burger    840.00   \n",
       "2        Mcdonalds             Double Bacon Smokehouse Burger   1130.00   \n",
       "3        Mcdonalds  Grilled Bacon Smokehouse Chicken Sandwich    750.00   \n",
       "4        Mcdonalds   Crispy Bacon Smokehouse Chicken Sandwich    920.00   \n",
       "...            ...                                        ...       ...   \n",
       "1063  prank_burger                                  더블치즈버거(L)    687.04   \n",
       "1064  prank_burger                                   머쉬룸버거(L)    665.30   \n",
       "1065  prank_burger                                    JG버거(L)    828.28   \n",
       "1066  prank_burger                                 SG불고기버거(L)    491.06   \n",
       "1067  prank_burger                                SG크림치즈버거(L)    613.32   \n",
       "\n",
       "       sodium  sugar  total_fat  protein  \n",
       "0     1110.00  11.00       7.00    37.00  \n",
       "1     1580.00  18.00      45.00    46.00  \n",
       "2     1920.00  18.00      67.00    70.00  \n",
       "3     1940.00  18.00      31.00    55.00  \n",
       "4     1980.00  18.00      45.00    46.00  \n",
       "...       ...    ...        ...      ...  \n",
       "1063     4.55  33.45      19.51  1149.60  \n",
       "1064    13.58  26.75      18.10  1203.43  \n",
       "1065     6.42  48.23      22.28  1574.77  \n",
       "1066    13.84  17.24      10.60   606.15  \n",
       "1067     8.45  28.27      18.30   972.04  \n",
       "\n",
       "[1068 rows x 7 columns]"
      ]
     },
     "execution_count": 497,
     "metadata": {},
     "output_type": "execute_result"
    }
   ],
   "source": [
    "bergerDF"
   ]
  },
  {
   "cell_type": "code",
   "execution_count": 498,
   "id": "af99108d-394d-4d61-8ac6-961bad51dd48",
   "metadata": {},
   "outputs": [
    {
     "name": "stdout",
     "output_type": "stream",
     "text": [
      "<class 'pandas.core.frame.DataFrame'>\n",
      "RangeIndex: 1068 entries, 0 to 1067\n",
      "Data columns (total 7 columns):\n",
      " #   Column      Non-Null Count  Dtype  \n",
      "---  ------      --------------  -----  \n",
      " 0   restaurant  1068 non-null   object \n",
      " 1   item        1068 non-null   object \n",
      " 2   calories    1068 non-null   float64\n",
      " 3   sodium      1068 non-null   float64\n",
      " 4   sugar       1068 non-null   float64\n",
      " 5   total_fat   1068 non-null   float64\n",
      " 6   protein     1068 non-null   float64\n",
      "dtypes: float64(5), object(2)\n",
      "memory usage: 58.5+ KB\n"
     ]
    }
   ],
   "source": [
    "bergerDF.info()"
   ]
  },
  {
   "cell_type": "markdown",
   "id": "e50c1134-b0f2-474c-9ed3-98a09828bfe2",
   "metadata": {},
   "source": [
    "(2) 데이터 전처리 <hr>\n",
    "- 결측치, 이상치, 중복값 처리\n",
    "- 데이터 분포, 컬럼 분포, 최빈값, 고유값"
   ]
  },
  {
   "cell_type": "code",
   "execution_count": 499,
   "id": "907bf2f8-02a8-48ea-99fb-36ab1aa006c2",
   "metadata": {},
   "outputs": [],
   "source": [
    "featureDF = bergerDF.iloc[:,3:]\n",
    "targetSR = bergerDF.iloc[:,2:3]"
   ]
  },
  {
   "cell_type": "code",
   "execution_count": 500,
   "id": "d2597910-a972-4286-b211-1537fe2fb5a1",
   "metadata": {
    "scrolled": true
   },
   "outputs": [
    {
     "data": {
      "text/html": [
       "<div>\n",
       "<style scoped>\n",
       "    .dataframe tbody tr th:only-of-type {\n",
       "        vertical-align: middle;\n",
       "    }\n",
       "\n",
       "    .dataframe tbody tr th {\n",
       "        vertical-align: top;\n",
       "    }\n",
       "\n",
       "    .dataframe thead th {\n",
       "        text-align: right;\n",
       "    }\n",
       "</style>\n",
       "<table border=\"1\" class=\"dataframe\">\n",
       "  <thead>\n",
       "    <tr style=\"text-align: right;\">\n",
       "      <th></th>\n",
       "      <th>sodium</th>\n",
       "      <th>sugar</th>\n",
       "      <th>total_fat</th>\n",
       "      <th>protein</th>\n",
       "    </tr>\n",
       "  </thead>\n",
       "  <tbody>\n",
       "    <tr>\n",
       "      <th>0</th>\n",
       "      <td>1110.00</td>\n",
       "      <td>11.00</td>\n",
       "      <td>7.00</td>\n",
       "      <td>37.00</td>\n",
       "    </tr>\n",
       "    <tr>\n",
       "      <th>1</th>\n",
       "      <td>1580.00</td>\n",
       "      <td>18.00</td>\n",
       "      <td>45.00</td>\n",
       "      <td>46.00</td>\n",
       "    </tr>\n",
       "    <tr>\n",
       "      <th>2</th>\n",
       "      <td>1920.00</td>\n",
       "      <td>18.00</td>\n",
       "      <td>67.00</td>\n",
       "      <td>70.00</td>\n",
       "    </tr>\n",
       "    <tr>\n",
       "      <th>3</th>\n",
       "      <td>1940.00</td>\n",
       "      <td>18.00</td>\n",
       "      <td>31.00</td>\n",
       "      <td>55.00</td>\n",
       "    </tr>\n",
       "    <tr>\n",
       "      <th>4</th>\n",
       "      <td>1980.00</td>\n",
       "      <td>18.00</td>\n",
       "      <td>45.00</td>\n",
       "      <td>46.00</td>\n",
       "    </tr>\n",
       "    <tr>\n",
       "      <th>...</th>\n",
       "      <td>...</td>\n",
       "      <td>...</td>\n",
       "      <td>...</td>\n",
       "      <td>...</td>\n",
       "    </tr>\n",
       "    <tr>\n",
       "      <th>1063</th>\n",
       "      <td>4.55</td>\n",
       "      <td>33.45</td>\n",
       "      <td>19.51</td>\n",
       "      <td>1149.60</td>\n",
       "    </tr>\n",
       "    <tr>\n",
       "      <th>1064</th>\n",
       "      <td>13.58</td>\n",
       "      <td>26.75</td>\n",
       "      <td>18.10</td>\n",
       "      <td>1203.43</td>\n",
       "    </tr>\n",
       "    <tr>\n",
       "      <th>1065</th>\n",
       "      <td>6.42</td>\n",
       "      <td>48.23</td>\n",
       "      <td>22.28</td>\n",
       "      <td>1574.77</td>\n",
       "    </tr>\n",
       "    <tr>\n",
       "      <th>1066</th>\n",
       "      <td>13.84</td>\n",
       "      <td>17.24</td>\n",
       "      <td>10.60</td>\n",
       "      <td>606.15</td>\n",
       "    </tr>\n",
       "    <tr>\n",
       "      <th>1067</th>\n",
       "      <td>8.45</td>\n",
       "      <td>28.27</td>\n",
       "      <td>18.30</td>\n",
       "      <td>972.04</td>\n",
       "    </tr>\n",
       "  </tbody>\n",
       "</table>\n",
       "<p>1068 rows × 4 columns</p>\n",
       "</div>"
      ],
      "text/plain": [
       "       sodium  sugar  total_fat  protein\n",
       "0     1110.00  11.00       7.00    37.00\n",
       "1     1580.00  18.00      45.00    46.00\n",
       "2     1920.00  18.00      67.00    70.00\n",
       "3     1940.00  18.00      31.00    55.00\n",
       "4     1980.00  18.00      45.00    46.00\n",
       "...       ...    ...        ...      ...\n",
       "1063     4.55  33.45      19.51  1149.60\n",
       "1064    13.58  26.75      18.10  1203.43\n",
       "1065     6.42  48.23      22.28  1574.77\n",
       "1066    13.84  17.24      10.60   606.15\n",
       "1067     8.45  28.27      18.30   972.04\n",
       "\n",
       "[1068 rows x 4 columns]"
      ]
     },
     "execution_count": 500,
     "metadata": {},
     "output_type": "execute_result"
    }
   ],
   "source": [
    "featureDF"
   ]
  },
  {
   "cell_type": "code",
   "execution_count": 501,
   "id": "d1ed09d3-b6ab-4af8-abd5-bd1fcae1b8dd",
   "metadata": {
    "scrolled": true
   },
   "outputs": [
    {
     "data": {
      "text/html": [
       "<div>\n",
       "<style scoped>\n",
       "    .dataframe tbody tr th:only-of-type {\n",
       "        vertical-align: middle;\n",
       "    }\n",
       "\n",
       "    .dataframe tbody tr th {\n",
       "        vertical-align: top;\n",
       "    }\n",
       "\n",
       "    .dataframe thead th {\n",
       "        text-align: right;\n",
       "    }\n",
       "</style>\n",
       "<table border=\"1\" class=\"dataframe\">\n",
       "  <thead>\n",
       "    <tr style=\"text-align: right;\">\n",
       "      <th></th>\n",
       "      <th>calories</th>\n",
       "    </tr>\n",
       "  </thead>\n",
       "  <tbody>\n",
       "    <tr>\n",
       "      <th>0</th>\n",
       "      <td>380.00</td>\n",
       "    </tr>\n",
       "    <tr>\n",
       "      <th>1</th>\n",
       "      <td>840.00</td>\n",
       "    </tr>\n",
       "    <tr>\n",
       "      <th>2</th>\n",
       "      <td>1130.00</td>\n",
       "    </tr>\n",
       "    <tr>\n",
       "      <th>3</th>\n",
       "      <td>750.00</td>\n",
       "    </tr>\n",
       "    <tr>\n",
       "      <th>4</th>\n",
       "      <td>920.00</td>\n",
       "    </tr>\n",
       "    <tr>\n",
       "      <th>...</th>\n",
       "      <td>...</td>\n",
       "    </tr>\n",
       "    <tr>\n",
       "      <th>1063</th>\n",
       "      <td>687.04</td>\n",
       "    </tr>\n",
       "    <tr>\n",
       "      <th>1064</th>\n",
       "      <td>665.30</td>\n",
       "    </tr>\n",
       "    <tr>\n",
       "      <th>1065</th>\n",
       "      <td>828.28</td>\n",
       "    </tr>\n",
       "    <tr>\n",
       "      <th>1066</th>\n",
       "      <td>491.06</td>\n",
       "    </tr>\n",
       "    <tr>\n",
       "      <th>1067</th>\n",
       "      <td>613.32</td>\n",
       "    </tr>\n",
       "  </tbody>\n",
       "</table>\n",
       "<p>1068 rows × 1 columns</p>\n",
       "</div>"
      ],
      "text/plain": [
       "      calories\n",
       "0       380.00\n",
       "1       840.00\n",
       "2      1130.00\n",
       "3       750.00\n",
       "4       920.00\n",
       "...        ...\n",
       "1063    687.04\n",
       "1064    665.30\n",
       "1065    828.28\n",
       "1066    491.06\n",
       "1067    613.32\n",
       "\n",
       "[1068 rows x 1 columns]"
      ]
     },
     "execution_count": 501,
     "metadata": {},
     "output_type": "execute_result"
    }
   ],
   "source": [
    "targetSR"
   ]
  },
  {
   "cell_type": "code",
   "execution_count": 502,
   "id": "4753937c-26b0-42ca-8a03-87d4b509c022",
   "metadata": {},
   "outputs": [
    {
     "data": {
      "image/png": "[encoded data removed]",
      "text/plain": [
       "<Figure size 1400x400 with 2 Axes>"
      ]
     },
     "metadata": {},
     "output_type": "display_data"
    }
   ],
   "source": [
    "import matplotlib.pyplot as plt\n",
    "\n",
    "plt.figure(figsize = (14,4))\n",
    "\n",
    "plt.subplot(1,2,1)\n",
    "plt.scatter(targetSR, featureDF['sodium'], alpha=0.5, color='green')\n",
    "plt.xlabel('calories')\n",
    "plt.title('feature - sodium')\n",
    "\n",
    "plt.subplot(1,2,2)\n",
    "plt.scatter(targetSR,featureDF['sugar'], alpha=0.5, color='purple')\n",
    "plt.scatter(targetSR,featureDF['total_fat'], alpha=0.5, color='pink')\n",
    "plt.scatter(targetSR,featureDF['protein'], alpha=0.3, color='skyblue')\n",
    "plt.xlabel('calories')\n",
    "plt.title('feature - sugar, fat, protein')\n",
    "plt.show()"
   ]
  },
  {
   "cell_type": "code",
   "execution_count": 503,
   "id": "251387ad-eb62-4c6d-b24f-302cbd9dad62",
   "metadata": {
    "scrolled": true
   },
   "outputs": [
    {
     "data": {
      "text/html": [
       "<div>\n",
       "<style scoped>\n",
       "    .dataframe tbody tr th:only-of-type {\n",
       "        vertical-align: middle;\n",
       "    }\n",
       "\n",
       "    .dataframe tbody tr th {\n",
       "        vertical-align: top;\n",
       "    }\n",
       "\n",
       "    .dataframe thead th {\n",
       "        text-align: right;\n",
       "    }\n",
       "</style>\n",
       "<table border=\"1\" class=\"dataframe\">\n",
       "  <thead>\n",
       "    <tr style=\"text-align: right;\">\n",
       "      <th></th>\n",
       "      <th>calories</th>\n",
       "    </tr>\n",
       "  </thead>\n",
       "  <tbody>\n",
       "    <tr>\n",
       "      <th>0</th>\n",
       "      <td>380.00</td>\n",
       "    </tr>\n",
       "    <tr>\n",
       "      <th>1</th>\n",
       "      <td>840.00</td>\n",
       "    </tr>\n",
       "    <tr>\n",
       "      <th>2</th>\n",
       "      <td>1130.00</td>\n",
       "    </tr>\n",
       "    <tr>\n",
       "      <th>3</th>\n",
       "      <td>750.00</td>\n",
       "    </tr>\n",
       "    <tr>\n",
       "      <th>4</th>\n",
       "      <td>920.00</td>\n",
       "    </tr>\n",
       "    <tr>\n",
       "      <th>...</th>\n",
       "      <td>...</td>\n",
       "    </tr>\n",
       "    <tr>\n",
       "      <th>1063</th>\n",
       "      <td>687.04</td>\n",
       "    </tr>\n",
       "    <tr>\n",
       "      <th>1064</th>\n",
       "      <td>665.30</td>\n",
       "    </tr>\n",
       "    <tr>\n",
       "      <th>1065</th>\n",
       "      <td>828.28</td>\n",
       "    </tr>\n",
       "    <tr>\n",
       "      <th>1066</th>\n",
       "      <td>491.06</td>\n",
       "    </tr>\n",
       "    <tr>\n",
       "      <th>1067</th>\n",
       "      <td>613.32</td>\n",
       "    </tr>\n",
       "  </tbody>\n",
       "</table>\n",
       "<p>1068 rows × 1 columns</p>\n",
       "</div>"
      ],
      "text/plain": [
       "      calories\n",
       "0       380.00\n",
       "1       840.00\n",
       "2      1130.00\n",
       "3       750.00\n",
       "4       920.00\n",
       "...        ...\n",
       "1063    687.04\n",
       "1064    665.30\n",
       "1065    828.28\n",
       "1066    491.06\n",
       "1067    613.32\n",
       "\n",
       "[1068 rows x 1 columns]"
      ]
     },
     "execution_count": 503,
     "metadata": {},
     "output_type": "execute_result"
    }
   ],
   "source": [
    "targetSR"
   ]
  },
  {
   "cell_type": "code",
   "execution_count": 504,
   "id": "feaca1aa-4afd-4993-be00-fb8381006467",
   "metadata": {},
   "outputs": [],
   "source": [
    "from sklearn.model_selection import train_test_split"
   ]
  },
  {
   "cell_type": "code",
   "execution_count": 530,
   "id": "0f2721a8-d028-4e61-a5ac-682b9cea0586",
   "metadata": {},
   "outputs": [
    {
     "name": "stdout",
     "output_type": "stream",
     "text": [
      "[TRAIN_SCORE] : 0.8762657407199128\n",
      "[TEST SCORE] : 0.7107895473125767\n"
     ]
    }
   ],
   "source": [
    "# 모델 인스턴스 생성 후 학습\n",
    "X_train, X_test, y_train, y_test = train_test_split(featureDF,\n",
    "                                                    targetSR,\n",
    "                                                    random_state=10,\n",
    "                                                    test_size=0.15)\n",
    "KNRmodel=KNeighborsRegressor()\n",
    "# 모델 학습\n",
    "KNRmodel.fit(X_train, y_train)\n",
    "\n",
    "train_score = KNRmodel.score(X_train, y_train)\n",
    "test_score = KNRmodel.score(X_test, y_test)\n",
    "print(f'[TRAIN_SCORE] : {train_score}\\n[TEST SCORE] : {test_score}')"
   ]
  },
  {
   "cell_type": "code",
   "execution_count": 531,
   "id": "f243c038-bc4b-4a6f-bf59-d672a3581133",
   "metadata": {},
   "outputs": [
    {
     "name": "stdout",
     "output_type": "stream",
     "text": [
      "[TOP_RANDOM_STATE_NUM] : 308 \n",
      "[TOP_TRAIN_SCORE] : 0.8593757791815952 \n",
      "[TOP_TEST_SCORE] : 0.8927067712942001\n"
     ]
    }
   ],
   "source": [
    "top_train_score = 0\n",
    "top_test_score = 0\n",
    "top_random_state = 0\n",
    "for num in range(1,1001):\n",
    "    X_train, X_test, y_train, y_test = train_test_split(featureDF,\n",
    "                                                        targetSR,\n",
    "                                                        random_state=num,\n",
    "                                                        test_size=0.15)\n",
    "    # 모델 인스턴스 생성\n",
    "    KNRmodel=KNeighborsRegressor(n_neighbors=5)\n",
    "    # 튜닝 -> 파라미터 값 조절\n",
    "    # 모델 학습\n",
    "    KNRmodel.fit(X_train, y_train)\n",
    "    \n",
    "    train_score = KNRmodel.score(X_train, y_train)\n",
    "    test_score = KNRmodel.score(X_test, y_test)\n",
    "    if (test_score >= top_test_score):# and (train_score >= top_train_score):\n",
    "        top_train_score = train_score\n",
    "        top_test_score = test_score\n",
    "        top_random_state = num\n",
    "        \n",
    "print(f'[TOP_RANDOM_STATE_NUM] : {top_random_state} \\n[TOP_TRAIN_SCORE] : {top_train_score} \\n[TOP_TEST_SCORE] : {top_test_score}')"
   ]
  },
  {
   "cell_type": "code",
   "execution_count": 507,
   "id": "9f2330e2-cb0c-4ecd-8104-f8c1aeeddb4b",
   "metadata": {},
   "outputs": [
    {
     "name": "stdout",
     "output_type": "stream",
     "text": [
      "[TRAIN_SCORE] : 0.8593757791815952 \n",
      "[TEST_SCORE] : 0.8927067712942001\n"
     ]
    }
   ],
   "source": [
    "X_train, X_test, y_train, y_test = train_test_split(featureDF,\n",
    "                                                        targetSR,\n",
    "                                                        random_state=308,\n",
    "                                                        test_size=0.15)\n",
    "# 모델 인스턴스 생성\n",
    "KNRmodel=KNeighborsRegressor(n_neighbors=5)\n",
    "# 튜닝 -> 파라미터 값 조절\n",
    "# 모델 학습\n",
    "KNRmodel.fit(X_train, y_train)\n",
    "\n",
    "train_score = KNRmodel.score(X_train, y_train)\n",
    "test_score = KNRmodel.score(X_test, y_test)\n",
    "print(f'[TRAIN_SCORE] : {train_score} \\n[TEST_SCORE] : {test_score}')"
   ]
  },
  {
   "cell_type": "code",
   "execution_count": 508,
   "id": "ea25afdd-1211-4e54-9f22-3a823c72a78d",
   "metadata": {},
   "outputs": [],
   "source": [
    "from sklearn.model_selection import GridSearchCV"
   ]
  },
  {
   "cell_type": "code",
   "execution_count": 509,
   "id": "3fd7583c-6873-4718-9cf4-a285b97c30d3",
   "metadata": {},
   "outputs": [
    {
     "data": {
      "text/html": [
       "<style>#sk-container-id-27 {color: black;background-color: white;}#sk-container-id-27 pre{padding: 0;}#sk-container-id-27 div.sk-toggleable {background-color: white;}#sk-container-id-27 label.sk-toggleable__label {cursor: pointer;display: block;width: 100%;margin-bottom: 0;padding: 0.3em;box-sizing: border-box;text-align: center;}#sk-container-id-27 label.sk-toggleable__label-arrow:before {content: \"▸\";float: left;margin-right: 0.25em;color: #696969;}#sk-container-id-27 label.sk-toggleable__label-arrow:hover:before {color: black;}#sk-container-id-27 div.sk-estimator:hover label.sk-toggleable__label-arrow:before {color: black;}#sk-container-id-27 div.sk-toggleable__content {max-height: 0;max-width: 0;overflow: hidden;text-align: left;background-color: #f0f8ff;}#sk-container-id-27 div.sk-toggleable__content pre {margin: 0.2em;color: black;border-radius: 0.25em;background-color: #f0f8ff;}#sk-container-id-27 input.sk-toggleable__control:checked~div.sk-toggleable__content {max-height: 200px;max-width: 100%;overflow: auto;}#sk-container-id-27 input.sk-toggleable__control:checked~label.sk-toggleable__label-arrow:before {content: \"▾\";}#sk-container-id-27 div.sk-estimator input.sk-toggleable__control:checked~label.sk-toggleable__label {background-color: #d4ebff;}#sk-container-id-27 div.sk-label input.sk-toggleable__control:checked~label.sk-toggleable__label {background-color: #d4ebff;}#sk-container-id-27 input.sk-hidden--visually {border: 0;clip: rect(1px 1px 1px 1px);clip: rect(1px, 1px, 1px, 1px);height: 1px;margin: -1px;overflow: hidden;padding: 0;position: absolute;width: 1px;}#sk-container-id-27 div.sk-estimator {font-family: monospace;background-color: #f0f8ff;border: 1px dotted black;border-radius: 0.25em;box-sizing: border-box;margin-bottom: 0.5em;}#sk-container-id-27 div.sk-estimator:hover {background-color: #d4ebff;}#sk-container-id-27 div.sk-parallel-item::after {content: \"\";width: 100%;border-bottom: 1px solid gray;flex-grow: 1;}#sk-container-id-27 div.sk-label:hover label.sk-toggleable__label {background-color: #d4ebff;}#sk-container-id-27 div.sk-serial::before {content: \"\";position: absolute;border-left: 1px solid gray;box-sizing: border-box;top: 0;bottom: 0;left: 50%;z-index: 0;}#sk-container-id-27 div.sk-serial {display: flex;flex-direction: column;align-items: center;background-color: white;padding-right: 0.2em;padding-left: 0.2em;position: relative;}#sk-container-id-27 div.sk-item {position: relative;z-index: 1;}#sk-container-id-27 div.sk-parallel {display: flex;align-items: stretch;justify-content: center;background-color: white;position: relative;}#sk-container-id-27 div.sk-item::before, #sk-container-id-27 div.sk-parallel-item::before {content: \"\";position: absolute;border-left: 1px solid gray;box-sizing: border-box;top: 0;bottom: 0;left: 50%;z-index: -1;}#sk-container-id-27 div.sk-parallel-item {display: flex;flex-direction: column;z-index: 1;position: relative;background-color: white;}#sk-container-id-27 div.sk-parallel-item:first-child::after {align-self: flex-end;width: 50%;}#sk-container-id-27 div.sk-parallel-item:last-child::after {align-self: flex-start;width: 50%;}#sk-container-id-27 div.sk-parallel-item:only-child::after {width: 0;}#sk-container-id-27 div.sk-dashed-wrapped {border: 1px dashed gray;margin: 0 0.4em 0.5em 0.4em;box-sizing: border-box;padding-bottom: 0.4em;background-color: white;}#sk-container-id-27 div.sk-label label {font-family: monospace;font-weight: bold;display: inline-block;line-height: 1.2em;}#sk-container-id-27 div.sk-label-container {text-align: center;}#sk-container-id-27 div.sk-container {/* jupyter's `normalize.less` sets `[hidden] { display: none; }` but bootstrap.min.css set `[hidden] { display: none !important; }` so we also need the `!important` here to be able to override the default hidden behavior on the sphinx rendered scikit-learn.org. See: https://github.com/scikit-learn/scikit-learn/issues/21755 */display: inline-block !important;position: relative;}#sk-container-id-27 div.sk-text-repr-fallback {display: none;}</style><div id=\"sk-container-id-27\" class=\"sk-top-container\"><div class=\"sk-text-repr-fallback\"><pre>GridSearchCV(cv=5, estimator=KNeighborsRegressor(),\n",
       "             param_grid={&#x27;n_neighbors&#x27;: range(1, 101)},\n",
       "             scoring=&#x27;neg_mean_squared_error&#x27;)</pre><b>In a Jupyter environment, please rerun this cell to show the HTML representation or trust the notebook. <br />On GitHub, the HTML representation is unable to render, please try loading this page with nbviewer.org.</b></div><div class=\"sk-container\" hidden><div class=\"sk-item sk-dashed-wrapped\"><div class=\"sk-label-container\"><div class=\"sk-label sk-toggleable\"><input class=\"sk-toggleable__control sk-hidden--visually\" id=\"sk-estimator-id-43\" type=\"checkbox\" ><label for=\"sk-estimator-id-43\" class=\"sk-toggleable__label sk-toggleable__label-arrow\">GridSearchCV</label><div class=\"sk-toggleable__content\"><pre>GridSearchCV(cv=5, estimator=KNeighborsRegressor(),\n",
       "             param_grid={&#x27;n_neighbors&#x27;: range(1, 101)},\n",
       "             scoring=&#x27;neg_mean_squared_error&#x27;)</pre></div></div></div><div class=\"sk-parallel\"><div class=\"sk-parallel-item\"><div class=\"sk-item\"><div class=\"sk-label-container\"><div class=\"sk-label sk-toggleable\"><input class=\"sk-toggleable__control sk-hidden--visually\" id=\"sk-estimator-id-44\" type=\"checkbox\" ><label for=\"sk-estimator-id-44\" class=\"sk-toggleable__label sk-toggleable__label-arrow\">estimator: KNeighborsRegressor</label><div class=\"sk-toggleable__content\"><pre>KNeighborsRegressor()</pre></div></div></div><div class=\"sk-serial\"><div class=\"sk-item\"><div class=\"sk-estimator sk-toggleable\"><input class=\"sk-toggleable__control sk-hidden--visually\" id=\"sk-estimator-id-45\" type=\"checkbox\" ><label for=\"sk-estimator-id-45\" class=\"sk-toggleable__label sk-toggleable__label-arrow\">KNeighborsRegressor</label><div class=\"sk-toggleable__content\"><pre>KNeighborsRegressor()</pre></div></div></div></div></div></div></div></div></div></div>"
      ],
      "text/plain": [
       "GridSearchCV(cv=5, estimator=KNeighborsRegressor(),\n",
       "             param_grid={'n_neighbors': range(1, 101)},\n",
       "             scoring='neg_mean_squared_error')"
      ]
     },
     "execution_count": 509,
     "metadata": {},
     "output_type": "execute_result"
    }
   ],
   "source": [
    "# 탐색할 하이퍼파라미터 그리드 정의\n",
    "param_grid = {'n_neighbors': range(1,101)}  # 이웃 수 후보 목록\n",
    "\n",
    "# GridSearchCV를 사용하여 최적의 하이퍼파라미터 탐색\n",
    "grid_search = GridSearchCV(KNRmodel, param_grid, cv=5, scoring='neg_mean_squared_error')\n",
    "grid_search.fit(X_train, y_train)"
   ]
  },
  {
   "cell_type": "code",
   "execution_count": 510,
   "id": "9f43e144-28f4-42a1-beff-d049475e7155",
   "metadata": {},
   "outputs": [
    {
     "name": "stdout",
     "output_type": "stream",
     "text": [
      "Best neighbors: 2\n"
     ]
    }
   ],
   "source": [
    "# 최적의 이웃 수 출력\n",
    "print(\"Best neighbors:\", grid_search.best_params_['n_neighbors'])"
   ]
  },
  {
   "cell_type": "code",
   "execution_count": 511,
   "id": "e0d170a7-a1a9-43d3-a8a4-e5926deddf17",
   "metadata": {},
   "outputs": [
    {
     "name": "stdout",
     "output_type": "stream",
     "text": [
      "[TRAIN_SCORE] : 0.9459763920967256\n",
      "[TEST SCORE] : 0.9018557049441666\n"
     ]
    }
   ],
   "source": [
    "# 다시 모델 인스턴스 생성 후 학습\n",
    "KNRmodel=KNeighborsRegressor(n_neighbors=2)\n",
    "# 모델 학습\n",
    "KNRmodel.fit(X_train, y_train)\n",
    "\n",
    "train_score = KNRmodel.score(X_train, y_train)\n",
    "test_score = KNRmodel.score(X_test, y_test)\n",
    "print(f'[TRAIN_SCORE] : {train_score}\\n[TEST SCORE] : {test_score}')"
   ]
  },
  {
   "cell_type": "code",
   "execution_count": 512,
   "id": "ca5256d1-f140-41db-b0ac-19f04d0e9b1a",
   "metadata": {},
   "outputs": [
    {
     "name": "stdout",
     "output_type": "stream",
     "text": [
      "[TRAIN_SCORE] : 0.9514125551044949\n",
      "[TEST SCORE] : 0.9079734985082756\n",
      "[TOP_P] : 1\n"
     ]
    }
   ],
   "source": [
    "# 튜닝(2)\n",
    "# KNR의 파라미터 중 p 조정 => 부동소수점\n",
    "top_train_score = 0\n",
    "top_test_score = 0\n",
    "top_p = 0\n",
    "for num in range(1,101):\n",
    "    KNRmodel=KNeighborsRegressor(n_neighbors=2, p=num)\n",
    "    # 모델 학습\n",
    "    KNRmodel.fit(X_train, y_train)\n",
    "    \n",
    "    train_score = KNRmodel.score(X_train, y_train)\n",
    "    test_score = KNRmodel.score(X_test, y_test)\n",
    "    if (test_score >= top_test_score):# and (train_score >= top_train_score):\n",
    "        top_train_score = train_score\n",
    "        top_test_score = test_score\n",
    "        top_p = num\n",
    "        \n",
    "print(f'[TRAIN_SCORE] : {top_train_score}\\n[TEST SCORE] : {top_test_score}\\n[TOP_P] : {top_p}')"
   ]
  },
  {
   "cell_type": "code",
   "execution_count": 513,
   "id": "57b75198-4961-4fac-bc61-3c967ece46d3",
   "metadata": {},
   "outputs": [
    {
     "name": "stdout",
     "output_type": "stream",
     "text": [
      "[TRAIN_SCORE] : 0.9514125551044949\n",
      "[TEST SCORE] : 0.9079734985082756\n"
     ]
    }
   ],
   "source": [
    "# 다시 모델 인스턴스 생성 후 학습\n",
    "KNRmodel=KNeighborsRegressor(n_neighbors=2, p=1)\n",
    "# 모델 학습\n",
    "KNRmodel.fit(X_train, y_train)\n",
    "\n",
    "train_score = KNRmodel.score(X_train, y_train)\n",
    "test_score = KNRmodel.score(X_test, y_test)\n",
    "print(f'[TRAIN_SCORE] : {train_score}\\n[TEST SCORE] : {test_score}')"
   ]
  },
  {
   "cell_type": "code",
   "execution_count": 514,
   "id": "b0f0359f-4ad9-466b-bc45-c5efbaf6f54e",
   "metadata": {},
   "outputs": [
    {
     "name": "stdout",
     "output_type": "stream",
     "text": [
      "[TRAIN_SCORE] : 0.9999973480798672\n",
      "[TEST SCORE] : 0.9158641614791405\n"
     ]
    }
   ],
   "source": [
    "# 튜닝(3) 가중치 default='uniform'에서 'distance로 변경\n",
    "KNRmodel=KNeighborsRegressor(n_neighbors=2, weights='distance', p=1)\n",
    "# 모델 학습\n",
    "KNRmodel.fit(X_train, y_train)\n",
    "\n",
    "train_score = KNRmodel.score(X_train, y_train)\n",
    "test_score = KNRmodel.score(X_test, y_test)\n",
    "print(f'[TRAIN_SCORE] : {train_score}\\n[TEST SCORE] : {test_score}')"
   ]
  },
  {
   "cell_type": "code",
   "execution_count": 515,
   "id": "18aeef50-8542-4e1d-8256-93ee4975b4d6",
   "metadata": {},
   "outputs": [],
   "source": [
    "# 예측"
   ]
  },
  {
   "cell_type": "code",
   "execution_count": 516,
   "id": "903e30a1-3f91-4a98-98d5-6350dbb7cb83",
   "metadata": {
    "scrolled": true
   },
   "outputs": [],
   "source": [
    "y_pre = KNRmodel.predict(X_test)"
   ]
  },
  {
   "cell_type": "code",
   "execution_count": 517,
   "id": "020ba0c0-ec07-4c7c-b84f-c1a76efa2e80",
   "metadata": {},
   "outputs": [
    {
     "data": {
      "text/plain": [
       "array([[2.01409639e+02],\n",
       "       [2.86551724e+02],\n",
       "       [4.52564103e+02],\n",
       "       [6.20076142e+02],\n",
       "       [4.26521739e+02],\n",
       "       [1.41802920e+03],\n",
       "       [6.78666667e+02],\n",
       "       [1.61176471e+02],\n",
       "       [2.46923077e+02],\n",
       "       [3.89655172e+02],\n",
       "       [1.02215865e+03],\n",
       "       [1.64615385e+02],\n",
       "       [6.18536585e+02],\n",
       "       [5.38000000e+02],\n",
       "       [3.40000000e+02],\n",
       "       [4.02631579e+02],\n",
       "       [2.13176471e+02],\n",
       "       [7.52424242e+02],\n",
       "       [1.00000000e+00],\n",
       "       [5.98309859e+02],\n",
       "       [3.30000000e+02],\n",
       "       [1.57692308e+02],\n",
       "       [3.90350877e+02],\n",
       "       [2.53939394e+02],\n",
       "       [6.18461538e+02],\n",
       "       [3.11875000e+02],\n",
       "       [6.24000000e+01],\n",
       "       [4.93333333e+02],\n",
       "       [5.08095238e+02],\n",
       "       [1.50909091e+02],\n",
       "       [5.70000000e+02],\n",
       "       [0.00000000e+00],\n",
       "       [3.36000000e+02],\n",
       "       [4.11379310e+02],\n",
       "       [7.66666667e+02],\n",
       "       [4.14358974e+02],\n",
       "       [4.40526316e+02],\n",
       "       [6.58878661e+02],\n",
       "       [5.65600000e+02],\n",
       "       [6.44972973e+02],\n",
       "       [7.04000000e+01],\n",
       "       [1.80000000e+02],\n",
       "       [3.18125000e+02],\n",
       "       [3.90000000e+02],\n",
       "       [7.92033898e+02],\n",
       "       [2.92173913e+02],\n",
       "       [2.62173913e+02],\n",
       "       [9.80000000e+02],\n",
       "       [3.68723404e+02],\n",
       "       [2.66082949e+02],\n",
       "       [4.50000000e+02],\n",
       "       [3.85882353e+02],\n",
       "       [4.91632653e+02],\n",
       "       [2.27660550e+02],\n",
       "       [3.30000000e+02],\n",
       "       [2.64999635e+03],\n",
       "       [8.38260870e+02],\n",
       "       [6.95172414e+02],\n",
       "       [5.05090909e+02],\n",
       "       [2.44709302e+02],\n",
       "       [6.95000000e+02],\n",
       "       [1.62500000e+02],\n",
       "       [3.93333333e+02],\n",
       "       [6.50425532e+02],\n",
       "       [3.90000000e+02],\n",
       "       [1.00000000e+00],\n",
       "       [1.10000000e+01],\n",
       "       [6.69268293e+02],\n",
       "       [3.69473684e+02],\n",
       "       [4.28000000e+02],\n",
       "       [1.33333333e+02],\n",
       "       [4.92000000e+02],\n",
       "       [3.91463415e+02],\n",
       "       [5.40689655e+02],\n",
       "       [7.06981132e+02],\n",
       "       [2.70000000e+02],\n",
       "       [2.10000000e+02],\n",
       "       [3.74275862e+02],\n",
       "       [3.86666667e+02],\n",
       "       [2.62380952e+02],\n",
       "       [3.70000000e+02],\n",
       "       [5.23750000e+02],\n",
       "       [5.38636364e+02],\n",
       "       [5.55454545e+01],\n",
       "       [3.30000000e+02],\n",
       "       [7.02107527e+02],\n",
       "       [2.45454545e+02],\n",
       "       [1.97700000e+03],\n",
       "       [2.69677419e+02],\n",
       "       [2.35000000e+02],\n",
       "       [4.66666667e+02],\n",
       "       [5.09000000e+02],\n",
       "       [5.00000000e+02],\n",
       "       [5.78260870e+01],\n",
       "       [1.98032787e+02],\n",
       "       [3.15000000e+02],\n",
       "       [1.99663317e+02],\n",
       "       [4.45333333e+02],\n",
       "       [5.80000000e+02],\n",
       "       [5.22000000e+02],\n",
       "       [6.77894737e+02],\n",
       "       [4.29090909e+02],\n",
       "       [6.70000000e+02],\n",
       "       [4.26000000e+02],\n",
       "       [7.28490566e+02],\n",
       "       [2.25867769e+01],\n",
       "       [5.50000000e+02],\n",
       "       [6.90878378e+02],\n",
       "       [2.12206897e+02],\n",
       "       [3.70000000e+02],\n",
       "       [3.42857143e+02],\n",
       "       [6.25568182e+01],\n",
       "       [7.87530864e+02],\n",
       "       [3.31578947e+02],\n",
       "       [6.19828125e+02],\n",
       "       [7.08000000e+02],\n",
       "       [6.85223881e+02],\n",
       "       [4.95714286e+02],\n",
       "       [3.36000000e+02],\n",
       "       [1.34382353e+03],\n",
       "       [5.05000000e+02],\n",
       "       [2.07200000e+02],\n",
       "       [2.18666667e+02],\n",
       "       [2.45000000e+02],\n",
       "       [7.35806452e+02],\n",
       "       [4.53076923e+02],\n",
       "       [6.12857143e+02],\n",
       "       [2.29255814e+02],\n",
       "       [2.97391304e+02],\n",
       "       [2.97391304e+02],\n",
       "       [0.00000000e+00],\n",
       "       [4.71818182e+02],\n",
       "       [3.25740741e+02],\n",
       "       [3.20000000e+02],\n",
       "       [3.75971631e+02],\n",
       "       [3.32352941e+02],\n",
       "       [1.88000000e+02],\n",
       "       [4.90000000e+02],\n",
       "       [0.00000000e+00],\n",
       "       [6.65384615e+02],\n",
       "       [7.69302326e+02],\n",
       "       [2.40000000e+02],\n",
       "       [1.11800000e+03],\n",
       "       [0.00000000e+00],\n",
       "       [2.22833333e+02],\n",
       "       [4.29473684e+02],\n",
       "       [3.01363636e+02],\n",
       "       [5.66000000e+02],\n",
       "       [4.00833333e+02],\n",
       "       [1.02312500e+02],\n",
       "       [1.90117647e+02],\n",
       "       [4.10000000e+02],\n",
       "       [7.74133333e+02],\n",
       "       [3.80470032e+02],\n",
       "       [5.01906250e+02],\n",
       "       [5.99365854e+02],\n",
       "       [5.74516129e+01],\n",
       "       [5.00792683e+02],\n",
       "       [1.10000000e+02],\n",
       "       [3.68852459e+02],\n",
       "       [8.95480226e+02]])"
      ]
     },
     "execution_count": 517,
     "metadata": {},
     "output_type": "execute_result"
    }
   ],
   "source": [
    "y_pre"
   ]
  },
  {
   "cell_type": "code",
   "execution_count": 518,
   "id": "9bdca979-5088-4786-9f11-cfe01d6ca435",
   "metadata": {},
   "outputs": [],
   "source": [
    "# 성능 평가"
   ]
  },
  {
   "cell_type": "code",
   "execution_count": 519,
   "id": "5114f378-e699-4f00-a2b7-4819b8626577",
   "metadata": {},
   "outputs": [],
   "source": [
    "from sklearn.metrics import mean_absolute_error, mean_squared_error, r2_score"
   ]
  },
  {
   "cell_type": "code",
   "execution_count": 520,
   "id": "1439a546-a021-48ad-bd81-cc004dab482f",
   "metadata": {},
   "outputs": [
    {
     "data": {
      "text/plain": [
       "0.9069528194740757"
      ]
     },
     "execution_count": 520,
     "metadata": {},
     "output_type": "execute_result"
    }
   ],
   "source": [
    "# 성능평가 => 결정계수값(r2) -> 1에 가까울수록 좋음\n",
    "r2_score(y_pre, y_test)"
   ]
  },
  {
   "cell_type": "code",
   "execution_count": 521,
   "id": "4c6e0fac-f7a6-45c5-9488-1b1c9cb32ff8",
   "metadata": {},
   "outputs": [
    {
     "data": {
      "text/plain": [
       "66.30999035990929"
      ]
     },
     "execution_count": 521,
     "metadata": {},
     "output_type": "execute_result"
    }
   ],
   "source": [
    "# 평균절대오차 => 오차가 적을수록 좋음\n",
    "mean_absolute_error(y_pre, y_test)"
   ]
  },
  {
   "cell_type": "code",
   "execution_count": 522,
   "id": "e01b1203-534f-4f2d-a273-5f356156dc74",
   "metadata": {},
   "outputs": [
    {
     "data": {
      "text/plain": [
       "99.63602618740421"
      ]
     },
     "execution_count": 522,
     "metadata": {},
     "output_type": "execute_result"
    }
   ],
   "source": [
    "# 평균제곱근오차 => 오차가 적을수록 좋음\n",
    "mean_squared_error(y_pre, y_test, squared=False)"
   ]
  },
  {
   "cell_type": "code",
   "execution_count": 523,
   "id": "58cad685-7f69-4b34-9248-b46883d773aa",
   "metadata": {},
   "outputs": [],
   "source": [
    "def save_model(model,filename):\n",
    "    import joblib\n",
    "    import os\n",
    "    model_dir='./model/'\n",
    "    model_filename=model_dir+f'{filename}.pkl'\n",
    "    if not os.path.exists(model_dir):\n",
    "        os.makedirs(model_dir)\n",
    "    joblib.dump(model, model_filename)\n",
    "save_model(KNRmodel,\"KNR.pkl\")"
   ]
  },
  {
   "cell_type": "code",
   "execution_count": null,
   "id": "ecbc5841-1c32-4c11-bfa8-9d712ba6dcf9",
   "metadata": {},
   "outputs": [],
   "source": []
  }
 ],
 "metadata": {
  "kernelspec": {
   "display_name": "Python 3 (ipykernel)",
   "language": "python",
   "name": "python3"
  },
  "language_info": {
   "codemirror_mode": {
    "name": "ipython",
    "version": 3
   },
   "file_extension": ".py",
   "mimetype": "text/x-python",
   "name": "python",
   "nbconvert_exporter": "python",
   "pygments_lexer": "ipython3",
   "version": "3.9.18"
  }
 },
 "nbformat": 4,
 "nbformat_minor": 5
}
