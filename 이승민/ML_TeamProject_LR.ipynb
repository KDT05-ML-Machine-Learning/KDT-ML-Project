{
 "cells": [
  {
   "cell_type": "markdown",
   "id": "58cc9bfa-3db4-4db0-af33-cdfae14c7202",
   "metadata": {},
   "source": [
    "## 목표 : 성분에 따른 칼로리 예측\n",
    "- 데이터 : Hamberger.csv\n",
    "- 피 쳐 : sodium, sugar, total_fat, protein\n",
    "- 타 겟 : calories\n",
    "- 학습 방법 : 지도학습 + 예측 => Linear Regressor 기반 회귀\n",
    "- 학습/테스트 데이터 => 85% : 15%"
   ]
  },
  {
   "cell_type": "markdown",
   "id": "3825f1cb-dc1d-4f7b-a0ff-0378aaf4eacc",
   "metadata": {},
   "source": [
    "(1) 모듈 로딩 및 데이터 준비 <hr>"
   ]
  },
  {
   "cell_type": "code",
   "execution_count": 33,
   "id": "1fe48001-21e6-4e30-aaee-12d9d8bac815",
   "metadata": {},
   "outputs": [],
   "source": [
    "import pandas as pd\n",
    "import numpy as np\n",
    "import matplotlib.pyplot as plt\n",
    "from sklearn.linear_model import LinearRegression"
   ]
  },
  {
   "cell_type": "code",
   "execution_count": 34,
   "id": "9c974f1a-710f-48db-a42d-f36c9d122e72",
   "metadata": {},
   "outputs": [],
   "source": [
    "# 데이터 파일\n",
    "data_file = './Hamburger.csv'"
   ]
  },
  {
   "cell_type": "code",
   "execution_count": 35,
   "id": "6faedaa6-0d1c-4e66-9517-8aed1e98a0f3",
   "metadata": {},
   "outputs": [],
   "source": [
    "# 데이터 준비\n",
    "bergerDF =pd.read_csv(data_file)"
   ]
  },
  {
   "cell_type": "markdown",
   "id": "b73bc23b-4261-4a6f-971a-3242040f93e7",
   "metadata": {},
   "source": [
    "(2) 데이터 전처리 <hr>\n",
    "- 결측치, 이상치, 중복값 처리\n",
    "- 데이터 분포, 컬럼 분포, 최빈값, 고유값"
   ]
  },
  {
   "cell_type": "code",
   "execution_count": 36,
   "id": "c533705b-ea70-4766-a61e-cdc35f222aff",
   "metadata": {},
   "outputs": [],
   "source": [
    "featureDF = bergerDF.iloc[:,3:]"
   ]
  },
  {
   "cell_type": "code",
   "execution_count": 37,
   "id": "d79fa3a5-b0bd-4f6b-890f-0902049adea4",
   "metadata": {},
   "outputs": [],
   "source": [
    "targetSR = bergerDF.iloc[:,2:3]"
   ]
  },
  {
   "cell_type": "code",
   "execution_count": 38,
   "id": "d7622d10-52b4-4a31-879a-7fee8c0cf28a",
   "metadata": {},
   "outputs": [],
   "source": [
    "from sklearn.model_selection import train_test_split"
   ]
  },
  {
   "cell_type": "code",
   "execution_count": 57,
   "id": "ca467783-a798-4af9-8fb9-0163d89620f1",
   "metadata": {},
   "outputs": [
    {
     "name": "stdout",
     "output_type": "stream",
     "text": [
      "[TRAIN_SCORE] : 0.860759957789226\n",
      "[TEST SCORE] : 0.8768822759157684\n"
     ]
    }
   ],
   "source": [
    "# 모델 인스턴스 생성 후 학습\n",
    "X_train, X_test, y_train, y_test = train_test_split(featureDF,\n",
    "                                                    targetSR,\n",
    "                                                    random_state=10,\n",
    "                                                    test_size=0.15)\n",
    "LRmodel=LinearRegression()\n",
    "# 모델 학습\n",
    "LRmodel.fit(X_train, y_train)\n",
    "\n",
    "train_score = LRmodel.score(X_train, y_train)\n",
    "test_score = LRmodel.score(X_test, y_test)\n",
    "print(f'[TRAIN_SCORE] : {train_score}\\n[TEST SCORE] : {test_score}')"
   ]
  },
  {
   "cell_type": "code",
   "execution_count": 76,
   "id": "99b9e0a2-b450-4987-8ef8-9ebce4a45e78",
   "metadata": {},
   "outputs": [
    {
     "name": "stdout",
     "output_type": "stream",
     "text": [
      "[TOP_RANDOM_STATE_NUM] : 287 \n",
      "[TOP_TRAIN_SCORE] : 0.8475865785527302 \n",
      "[TOP_TEST_SCORE] : 0.928787126167401\n"
     ]
    }
   ],
   "source": [
    "top_train_score = 0\n",
    "top_test_score = 0\n",
    "top_random_state = 0\n",
    "\n",
    "for num in range(1,1001):\n",
    "    X_train, X_test, y_train, y_test = train_test_split(featureDF,\n",
    "                                                        targetSR,\n",
    "                                                        random_state=num,\n",
    "                                                        test_size=0.15)\n",
    "    # 모델 인스턴스 생성\n",
    "    LRmodel=LinearRegression()\n",
    "    # 튜닝 -> 파라미터 값 조절\n",
    "    # 모델 학습\n",
    "    LRmodel.fit(X_train, y_train)\n",
    "    \n",
    "    train_score = LRmodel.score(X_train, y_train)\n",
    "    test_score = LRmodel.score(X_test, y_test)\n",
    "    \n",
    "    if (test_score >= top_test_score):# and (train_score >= top_train_score):\n",
    "        top_train_score = train_score\n",
    "        top_test_score = test_score\n",
    "        top_random_state = num\n",
    "        \n",
    "print(f'[TOP_RANDOM_STATE_NUM] : {top_random_state} \\n[TOP_TRAIN_SCORE] : {top_train_score} \\n[TOP_TEST_SCORE] : {top_test_score}')"
   ]
  },
  {
   "cell_type": "code",
   "execution_count": 40,
   "id": "ea9b47a9-0739-4925-bd5a-2499f71db194",
   "metadata": {},
   "outputs": [
    {
     "name": "stdout",
     "output_type": "stream",
     "text": [
      "[TRAIN_SCORE] : 0.8475865785527302 \n",
      "[TEST_SCORE] : 0.928787126167401\n"
     ]
    }
   ],
   "source": [
    "X_train, X_test, y_train, y_test = train_test_split(featureDF,\n",
    "                                                        targetSR,\n",
    "                                                        random_state=287,\n",
    "                                                        test_size=0.15)\n",
    "# 모델 인스턴스 생성\n",
    "LRmodel=LinearRegression()\n",
    "# 튜닝 -> 파라미터 값 조절\n",
    "# 모델 학습\n",
    "LRmodel.fit(X_train, y_train)\n",
    "\n",
    "train_score = LRmodel.score(X_train, y_train)\n",
    "test_score = LRmodel.score(X_test, y_test)\n",
    "print(f'[TRAIN_SCORE] : {train_score} \\n[TEST_SCORE] : {test_score}')"
   ]
  },
  {
   "cell_type": "code",
   "execution_count": 41,
   "id": "34e9edd5-6199-4e78-a7bd-8fc6c9569d45",
   "metadata": {},
   "outputs": [
    {
     "name": "stdout",
     "output_type": "stream",
     "text": [
      "[TOP_RANDOM_STATE_NUM] : 287 \n",
      "[TOP_TRAIN_SCORE] : 0.8465368865209739 \n",
      "[TOP_TEST_SCORE] : 0.9293046643036056\n"
     ]
    }
   ],
   "source": [
    "top_train_score = 0\n",
    "top_test_score = 0\n",
    "top_random_state = 0\n",
    "for num in range(1,1001):\n",
    "    X_train, X_test, y_train, y_test = train_test_split(featureDF,\n",
    "                                                        targetSR,\n",
    "                                                        random_state=num,\n",
    "                                                        test_size=0.15)\n",
    "    # 모델 인스턴스 생성\n",
    "    LRmodel=LinearRegression(fit_intercept=False)\n",
    "    # 튜닝 -> 파라미터 값 조절\n",
    "    # 모델 학습\n",
    "    LRmodel.fit(X_train, y_train)\n",
    "    \n",
    "    train_score = LRmodel.score(X_train, y_train)\n",
    "    test_score = LRmodel.score(X_test, y_test)\n",
    "    if (test_score >= top_test_score):# and (train_score >= top_train_score):\n",
    "        top_train_score = train_score\n",
    "        top_test_score = test_score\n",
    "        top_random_state = num\n",
    "        \n",
    "print(f'[TOP_RANDOM_STATE_NUM] : {top_random_state} \\n[TOP_TRAIN_SCORE] : {top_train_score} \\n[TOP_TEST_SCORE] : {top_test_score}')"
   ]
  },
  {
   "cell_type": "code",
   "execution_count": 42,
   "id": "c794c451-2429-4e60-8b79-55c9b0bff330",
   "metadata": {},
   "outputs": [],
   "source": [
    "# fit_intercept=False일 때 test 점수 up, train 점수 down"
   ]
  },
  {
   "cell_type": "code",
   "execution_count": 43,
   "id": "31a32c13-ecd2-4776-9af6-ce0a7780dd43",
   "metadata": {},
   "outputs": [
    {
     "name": "stdout",
     "output_type": "stream",
     "text": [
      "[TOP_RANDOM_STATE_NUM] : 287 \n",
      "[TOP_TRAIN_SCORE] : 0.8465368865209739 \n",
      "[TOP_TEST_SCORE] : 0.9293046643036056\n"
     ]
    }
   ],
   "source": [
    "top_train_score = 0\n",
    "top_test_score = 0\n",
    "top_random_state = 0\n",
    "for num in range(1,1001):\n",
    "    X_train, X_test, y_train, y_test = train_test_split(featureDF,\n",
    "                                                        targetSR,\n",
    "                                                        random_state=num,\n",
    "                                                        test_size=0.15)\n",
    "    # 모델 인스턴스 생성\n",
    "    LRmodel=LinearRegression(fit_intercept=False, copy_X=False)\n",
    "    # 튜닝 -> 파라미터 값 조절\n",
    "    # 모델 학습\n",
    "    LRmodel.fit(X_train, y_train)\n",
    "    \n",
    "    train_score = LRmodel.score(X_train, y_train)\n",
    "    test_score = LRmodel.score(X_test, y_test)\n",
    "    if (test_score >= top_test_score):# and (train_score >= top_train_score):\n",
    "        top_train_score = train_score\n",
    "        top_test_score = test_score\n",
    "        top_random_state = num\n",
    "        \n",
    "print(f'[TOP_RANDOM_STATE_NUM] : {top_random_state} \\n[TOP_TRAIN_SCORE] : {top_train_score} \\n[TOP_TEST_SCORE] : {top_test_score}')"
   ]
  },
  {
   "cell_type": "code",
   "execution_count": 44,
   "id": "6276f956-c5cf-4e12-ba05-f074d45e5bf8",
   "metadata": {},
   "outputs": [],
   "source": [
    "# copy_X는 False로 바꿔도 똑같음"
   ]
  },
  {
   "cell_type": "code",
   "execution_count": 45,
   "id": "151b3ef1-a83c-4d42-ae0e-6d9a21af0813",
   "metadata": {},
   "outputs": [
    {
     "name": "stdout",
     "output_type": "stream",
     "text": [
      "[TOP_RANDOM_STATE_NUM] : 287 \n",
      "[TOP_TRAIN_SCORE] : 0.8465368865209739 \n",
      "[TOP_TEST_SCORE] : 0.9293046643036056\n"
     ]
    }
   ],
   "source": [
    "top_train_score = 0\n",
    "top_test_score = 0\n",
    "top_random_state = 0\n",
    "for num in range(1,1001):\n",
    "    X_train, X_test, y_train, y_test = train_test_split(featureDF,\n",
    "                                                        targetSR,\n",
    "                                                        random_state=num,\n",
    "                                                        test_size=0.15)\n",
    "    # 모델 인스턴스 생성\n",
    "    LRmodel=LinearRegression(fit_intercept=False, copy_X=False, n_jobs=100)\n",
    "    # 튜닝 -> 파라미터 값 조절\n",
    "    # 모델 학습\n",
    "    LRmodel.fit(X_train, y_train)\n",
    "    \n",
    "    train_score = LRmodel.score(X_train, y_train)\n",
    "    test_score = LRmodel.score(X_test, y_test)\n",
    "    if (test_score >= top_test_score):# and (train_score >= top_train_score):\n",
    "        top_train_score = train_score\n",
    "        top_test_score = test_score\n",
    "        top_random_state = num\n",
    "        \n",
    "print(f'[TOP_RANDOM_STATE_NUM] : {top_random_state} \\n[TOP_TRAIN_SCORE] : {top_train_score} \\n[TOP_TEST_SCORE] : {top_test_score}')"
   ]
  },
  {
   "cell_type": "code",
   "execution_count": 46,
   "id": "50225e6b-ff72-4af8-ba54-fc49fa460919",
   "metadata": {},
   "outputs": [
    {
     "name": "stdout",
     "output_type": "stream",
     "text": [
      "[TRAIN_SCORE] : 0.8465368865209739 \n",
      "[TEST_SCORE] : 0.9293046643036056\n"
     ]
    }
   ],
   "source": [
    "X_train, X_test, y_train, y_test = train_test_split(featureDF,\n",
    "                                                        targetSR,\n",
    "                                                        random_state=287,\n",
    "                                                        test_size=0.15)\n",
    "# 모델 인스턴스 생성\n",
    "LRmodel=LinearRegression(fit_intercept=False, copy_X=False, n_jobs=100)\n",
    "# 튜닝 -> 파라미터 값 조절\n",
    "# 모델 학습\n",
    "LRmodel.fit(X_train, y_train)\n",
    "\n",
    "train_score = LRmodel.score(X_train, y_train)\n",
    "test_score = LRmodel.score(X_test, y_test)\n",
    "print(f'[TRAIN_SCORE] : {train_score} \\n[TEST_SCORE] : {test_score}')"
   ]
  },
  {
   "cell_type": "code",
   "execution_count": 47,
   "id": "8aeabd86-b0bd-4384-a3a4-2d7df4a231bc",
   "metadata": {},
   "outputs": [],
   "source": [
    "# n_jobs도 변화 없음"
   ]
  },
  {
   "cell_type": "code",
   "execution_count": 48,
   "id": "171c77d3-a006-4a5b-b992-b8329efc3068",
   "metadata": {},
   "outputs": [],
   "source": [
    "# 예측"
   ]
  },
  {
   "cell_type": "code",
   "execution_count": 49,
   "id": "c5e04c00-58c8-4f9c-bcc3-678332596de4",
   "metadata": {},
   "outputs": [],
   "source": [
    "y_pre = LRmodel.predict(X_test)"
   ]
  },
  {
   "cell_type": "code",
   "execution_count": 50,
   "id": "cf1b5e42-e624-49c4-ac75-776384eac6a1",
   "metadata": {},
   "outputs": [
    {
     "data": {
      "text/plain": [
       "array([[ 406.38485369],\n",
       "       [ 241.25397717],\n",
       "       [ 127.95826192],\n",
       "       [ 645.1724444 ],\n",
       "       [ 857.13405374],\n",
       "       [ 481.80905667],\n",
       "       [ 387.27483578],\n",
       "       [ 310.87387291],\n",
       "       [ 241.53515392],\n",
       "       [ 957.02019165],\n",
       "       [ 583.82846681],\n",
       "       [ 427.10036443],\n",
       "       [ 445.89598491],\n",
       "       [ 250.35166375],\n",
       "       [ 661.25669684],\n",
       "       [ 523.70493984],\n",
       "       [ 880.22958027],\n",
       "       [ 540.38803012],\n",
       "       [  68.99247115],\n",
       "       [  44.88654429],\n",
       "       [ 166.96510255],\n",
       "       [ 703.89857538],\n",
       "       [ 489.91967367],\n",
       "       [ 281.49084361],\n",
       "       [ 441.59484014],\n",
       "       [ 137.63442911],\n",
       "       [ 638.18749842],\n",
       "       [ 161.74700159],\n",
       "       [  12.63347255],\n",
       "       [ 521.94497022],\n",
       "       [ 183.33603642],\n",
       "       [ 380.52004675],\n",
       "       [ 240.59424792],\n",
       "       [ 835.79821766],\n",
       "       [ 349.77508444],\n",
       "       [ 643.98181953],\n",
       "       [ 202.26430262],\n",
       "       [ 441.63379792],\n",
       "       [ 978.55252971],\n",
       "       [  73.08767583],\n",
       "       [ 185.68644992],\n",
       "       [ 582.22810199],\n",
       "       [ 938.60536472],\n",
       "       [ 206.30422633],\n",
       "       [ 209.66494679],\n",
       "       [ 171.61053344],\n",
       "       [   5.78886471],\n",
       "       [ 953.33691145],\n",
       "       [ 821.08468986],\n",
       "       [ 570.072991  ],\n",
       "       [ 565.55772161],\n",
       "       [ 192.17665154],\n",
       "       [ 479.09192331],\n",
       "       [  15.0007659 ],\n",
       "       [ 365.97257835],\n",
       "       [ 151.07713868],\n",
       "       [ 100.0005265 ],\n",
       "       [ 372.17624846],\n",
       "       [ 702.75407276],\n",
       "       [ 229.33148085],\n",
       "       [ 228.62263984],\n",
       "       [ 222.61463057],\n",
       "       [   0.        ],\n",
       "       [ 180.40147176],\n",
       "       [ 804.6803012 ],\n",
       "       [ 459.15745972],\n",
       "       [ 609.97315933],\n",
       "       [ 178.46408265],\n",
       "       [ 253.58966937],\n",
       "       [ 742.80538635],\n",
       "       [ 193.83623102],\n",
       "       [ 223.68249667],\n",
       "       [ 234.30784453],\n",
       "       [ 287.32564141],\n",
       "       [ 562.4585992 ],\n",
       "       [ 309.47100917],\n",
       "       [ 366.63697384],\n",
       "       [  69.18553801],\n",
       "       [ 633.45092007],\n",
       "       [ 412.189623  ],\n",
       "       [ 516.25407876],\n",
       "       [ 793.58952424],\n",
       "       [ 533.82486124],\n",
       "       [ 659.22304203],\n",
       "       [ 159.31957476],\n",
       "       [ 266.45287101],\n",
       "       [ 435.78278807],\n",
       "       [ 275.69985411],\n",
       "       [ 612.77829333],\n",
       "       [ 515.51348594],\n",
       "       [ 664.60325194],\n",
       "       [ 331.9566877 ],\n",
       "       [ 165.09993195],\n",
       "       [ 319.08238138],\n",
       "       [1132.92913898],\n",
       "       [ 323.32897264],\n",
       "       [ 146.30048059],\n",
       "       [ 337.68046645],\n",
       "       [ 425.71964501],\n",
       "       [ 247.88607624],\n",
       "       [ 794.2134174 ],\n",
       "       [ 483.07030785],\n",
       "       [ 474.79467685],\n",
       "       [  41.10392583],\n",
       "       [ 418.82307695],\n",
       "       [1198.55374012],\n",
       "       [ 450.88687058],\n",
       "       [ 486.97359815],\n",
       "       [ 489.93413401],\n",
       "       [ 887.55680373],\n",
       "       [ 682.76748849],\n",
       "       [ 135.20100148],\n",
       "       [ 169.65345443],\n",
       "       [ 743.22971072],\n",
       "       [ 156.92486206],\n",
       "       [ 408.70162077],\n",
       "       [ 834.31292574],\n",
       "       [ 308.82157136],\n",
       "       [ 579.33121635],\n",
       "       [ 382.81157282],\n",
       "       [  70.63320829],\n",
       "       [ 663.93849034],\n",
       "       [ 282.721272  ],\n",
       "       [ 573.77615558],\n",
       "       [ 574.65128282],\n",
       "       [1044.54603306],\n",
       "       [ 366.14364418],\n",
       "       [ 471.87511507],\n",
       "       [ 110.79495851],\n",
       "       [ 445.34946218],\n",
       "       [ 431.67774928],\n",
       "       [ 497.69620048],\n",
       "       [ 313.72960487],\n",
       "       [ 852.75239973],\n",
       "       [ 160.82654799],\n",
       "       [1282.09631568],\n",
       "       [ 710.34657337],\n",
       "       [ 277.52842016],\n",
       "       [ 798.6199794 ],\n",
       "       [  16.45289448],\n",
       "       [1045.98623379],\n",
       "       [1031.69491931],\n",
       "       [1724.85212046],\n",
       "       [ 108.7880984 ],\n",
       "       [ 139.86149276],\n",
       "       [ 406.38485369],\n",
       "       [2240.25252974],\n",
       "       [ 192.14834117],\n",
       "       [ 319.38170754],\n",
       "       [ 257.31708012],\n",
       "       [ 294.20063195],\n",
       "       [2607.6413608 ],\n",
       "       [ 604.80529336],\n",
       "       [ 133.95714864],\n",
       "       [ 444.11809202],\n",
       "       [ 731.9599137 ],\n",
       "       [ 183.9236398 ],\n",
       "       [ 365.16223686],\n",
       "       [1290.34488881],\n",
       "       [ 309.36379967],\n",
       "       [ 630.03602275]])"
      ]
     },
     "execution_count": 50,
     "metadata": {},
     "output_type": "execute_result"
    }
   ],
   "source": [
    "y_pre"
   ]
  },
  {
   "cell_type": "code",
   "execution_count": 51,
   "id": "3dd20bc7-2f65-4a82-814b-e035295097b0",
   "metadata": {},
   "outputs": [],
   "source": [
    "# 성능 평가"
   ]
  },
  {
   "cell_type": "code",
   "execution_count": 52,
   "id": "678a3284-456b-4883-9cd4-129d0e76ffca",
   "metadata": {},
   "outputs": [],
   "source": [
    "from sklearn.metrics import mean_absolute_error, mean_squared_error, r2_score"
   ]
  },
  {
   "cell_type": "code",
   "execution_count": 53,
   "id": "12d10072-eb56-433a-ba81-5e5deaa9e469",
   "metadata": {},
   "outputs": [
    {
     "data": {
      "text/plain": [
       "0.9228634738263799"
      ]
     },
     "execution_count": 53,
     "metadata": {},
     "output_type": "execute_result"
    }
   ],
   "source": [
    "# 성능평가 => 결정계수값(r2) -> 1에 가까울수록 좋음\n",
    "r2_score(y_pre, y_test)"
   ]
  },
  {
   "cell_type": "code",
   "execution_count": 54,
   "id": "e6b0afe0-43d6-4334-ad93-7ab064a8f954",
   "metadata": {},
   "outputs": [
    {
     "data": {
      "text/plain": [
       "73.081755354463"
      ]
     },
     "execution_count": 54,
     "metadata": {},
     "output_type": "execute_result"
    }
   ],
   "source": [
    "# 평균절대오차 => 오차가 적을수록 좋음\n",
    "mean_absolute_error(y_pre, y_test)"
   ]
  },
  {
   "cell_type": "code",
   "execution_count": 55,
   "id": "e98dbdac-6eba-4fa0-bd2a-e77483ebc067",
   "metadata": {},
   "outputs": [
    {
     "data": {
      "text/plain": [
       "102.47857196463563"
      ]
     },
     "execution_count": 55,
     "metadata": {},
     "output_type": "execute_result"
    }
   ],
   "source": [
    "# 평균제곱근오차 => 오차가 적을수록 좋음\n",
    "mean_squared_error(y_pre, y_test, squared=False)"
   ]
  },
  {
   "cell_type": "code",
   "execution_count": 56,
   "id": "d4ce54d0-c6cb-4b1f-ab58-5fd865879585",
   "metadata": {},
   "outputs": [],
   "source": [
    "def save_model(model,filename):\n",
    "    import joblib\n",
    "    import os\n",
    "    model_dir='./model/'\n",
    "    model_filename=model_dir+f'{filename}.pkl'\n",
    "    if not os.path.exists(model_dir):\n",
    "        os.makedirs(model_dir)\n",
    "    joblib.dump(model, model_filename)\n",
    "save_model(LRmodel,\"LR.pkl\")"
   ]
  },
  {
   "cell_type": "code",
   "execution_count": null,
   "id": "028aceb2-b913-48ba-aa0c-10c1b277ba52",
   "metadata": {},
   "outputs": [],
   "source": []
  }
 ],
 "metadata": {
  "kernelspec": {
   "display_name": "Python 3 (ipykernel)",
   "language": "python",
   "name": "python3"
  },
  "language_info": {
   "codemirror_mode": {
    "name": "ipython",
    "version": 3
   },
   "file_extension": ".py",
   "mimetype": "text/x-python",
   "name": "python",
   "nbconvert_exporter": "python",
   "pygments_lexer": "ipython3",
   "version": "3.9.18"
  }
 },
 "nbformat": 4,
 "nbformat_minor": 5
}
